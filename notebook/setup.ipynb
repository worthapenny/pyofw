{
 "cells": [
  {
   "cell_type": "code",
   "execution_count": 7,
   "metadata": {},
   "outputs": [],
   "source": [
    "from pyOpenFlows.setupOpenFlows import SetupOpenFlowsWater\n",
    "setup = SetupOpenFlowsWater()"
   ]
  },
  {
   "cell_type": "code",
   "execution_count": 8,
   "metadata": {},
   "outputs": [],
   "source": [
    "from OpenFlows.Water.Domain import IWaterModel\n",
    "\n",
    "model_filepath = r\"C:\\Program Files (x86)\\Bentley\\WaterGEMS\\Samples\\Example5.wtg\"\n",
    "model: IWaterModel = setup.open_model(model_filepath)"
   ]
  },
  {
   "cell_type": "code",
   "execution_count": 9,
   "metadata": {},
   "outputs": [
    {
     "name": "stdout",
     "output_type": "stream",
     "text": [
      "Active scenario is: Scenario : Historical SCADA Simulation\n"
     ]
    }
   ],
   "source": [
    "message = f\"Active scenario is: {model.ActiveScenario}\"\n",
    "print(message)"
   ]
  },
  {
   "cell_type": "code",
   "execution_count": 10,
   "metadata": {},
   "outputs": [],
   "source": [
    "setup.end()"
   ]
  }
 ],
 "metadata": {
  "interpreter": {
   "hash": "839055bb48d0c567cc06af8b98c8ed897e2d688046e9876be2d3ff3ae83815c2"
  },
  "kernelspec": {
   "display_name": "Python 3.9.2 64-bit",
   "name": "python3"
  },
  "language_info": {
   "codemirror_mode": {
    "name": "ipython",
    "version": 3
   },
   "file_extension": ".py",
   "mimetype": "text/x-python",
   "name": "python",
   "nbconvert_exporter": "python",
   "pygments_lexer": "ipython3",
   "version": "3.9.2"
  },
  "orig_nbformat": 4
 },
 "nbformat": 4,
 "nbformat_minor": 2
}
