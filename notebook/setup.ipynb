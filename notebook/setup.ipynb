{
 "cells": [
  {
   "cell_type": "code",
   "execution_count": 1,
   "metadata": {},
   "outputs": [],
   "source": [
    "from pyOpenFlows.openFlowsWaterConfig import OpenFlowsWaterConfig\n",
    "ofw_config = OpenFlowsWaterConfig()"
   ]
  },
  {
   "cell_type": "code",
   "execution_count": 2,
   "metadata": {},
   "outputs": [
    {
     "ename": "ModuleNotFoundError",
     "evalue": "No module named 'OpenFlows'",
     "output_type": "error",
     "traceback": [
      "\u001b[1;31m---------------------------------------------------------------------------\u001b[0m",
      "\u001b[1;31mModuleNotFoundError\u001b[0m                       Traceback (most recent call last)",
      "\u001b[1;32mC:\\Users\\AKSHAY~1.NIR\\AppData\\Local\\Temp/ipykernel_23908/111018630.py\u001b[0m in \u001b[0;36m<module>\u001b[1;34m\u001b[0m\n\u001b[1;32m----> 1\u001b[1;33m \u001b[1;32mfrom\u001b[0m \u001b[0mOpenFlows\u001b[0m\u001b[1;33m.\u001b[0m\u001b[0mWater\u001b[0m\u001b[1;33m.\u001b[0m\u001b[0mDomain\u001b[0m \u001b[1;32mimport\u001b[0m \u001b[0mIWaterModel\u001b[0m\u001b[1;33m\u001b[0m\u001b[1;33m\u001b[0m\u001b[0m\n\u001b[0m\u001b[0;32m      2\u001b[0m \u001b[1;33m\u001b[0m\u001b[0m\n\u001b[0;32m      3\u001b[0m \u001b[0mmodel_filepath\u001b[0m \u001b[1;33m=\u001b[0m \u001b[1;34mr\"C:\\Program Files (x86)\\Bentley\\WaterGEMS\\Samples\\Example5.wtg\"\u001b[0m\u001b[1;33m\u001b[0m\u001b[1;33m\u001b[0m\u001b[0m\n\u001b[0;32m      4\u001b[0m \u001b[0mmodel\u001b[0m\u001b[1;33m:\u001b[0m \u001b[0mIWaterModel\u001b[0m \u001b[1;33m=\u001b[0m \u001b[0mofw_config\u001b[0m\u001b[1;33m.\u001b[0m\u001b[0mopen_model\u001b[0m\u001b[1;33m(\u001b[0m\u001b[0mmodel_filepath\u001b[0m\u001b[1;33m)\u001b[0m\u001b[1;33m\u001b[0m\u001b[1;33m\u001b[0m\u001b[0m\n",
      "\u001b[1;31mModuleNotFoundError\u001b[0m: No module named 'OpenFlows'"
     ]
    }
   ],
   "source": [
    "from OpenFlows.Water.Domain import IWaterModel\n",
    "\n",
    "model_filepath = r\"C:\\Program Files (x86)\\Bentley\\WaterGEMS\\Samples\\Example5.wtg\"\n",
    "model: IWaterModel = ofw_config.open_model(model_filepath)"
   ]
  },
  {
   "cell_type": "code",
   "execution_count": null,
   "metadata": {},
   "outputs": [
    {
     "name": "stdout",
     "output_type": "stream",
     "text": [
      "Active scenario is: Scenario : Historical SCADA Simulation\n"
     ]
    }
   ],
   "source": [
    "message = f\"Active scenario is: {model.ActiveScenario}\"\n",
    "print(message)"
   ]
  },
  {
   "cell_type": "code",
   "execution_count": null,
   "metadata": {},
   "outputs": [],
   "source": [
    "ofw_config.end()"
   ]
  }
 ],
 "metadata": {
  "interpreter": {
   "hash": "839055bb48d0c567cc06af8b98c8ed897e2d688046e9876be2d3ff3ae83815c2"
  },
  "kernelspec": {
   "display_name": "Python 3.9.2 64-bit",
   "name": "python3"
  },
  "language_info": {
   "codemirror_mode": {
    "name": "ipython",
    "version": 3
   },
   "file_extension": ".py",
   "mimetype": "text/x-python",
   "name": "python",
   "nbconvert_exporter": "python",
   "pygments_lexer": "ipython3",
   "version": "3.9.2"
  },
  "orig_nbformat": 4
 },
 "nbformat": 4,
 "nbformat_minor": 2
}
