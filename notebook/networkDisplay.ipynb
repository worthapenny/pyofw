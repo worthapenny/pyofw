{
 "cells": [
  {
   "cell_type": "code",
   "execution_count": 1,
   "metadata": {},
   "outputs": [],
   "source": [
    "import pandas as pd\n",
    "import numpy as np\n",
    "import networkx as nx\n",
    "import plotly.graph_objects as go"
   ]
  },
  {
   "cell_type": "code",
   "execution_count": 2,
   "metadata": {},
   "outputs": [],
   "source": [
    "from pyOpenFlows.openFlowsWaterConfig import OpenFlowsWaterConfig\n",
    "ofw_config = OpenFlowsWaterConfig()"
   ]
  },
  {
   "cell_type": "code",
   "execution_count": 3,
   "metadata": {},
   "outputs": [],
   "source": [
    "from OpenFlows.Water.Domain import IWaterModel\n",
    "\n",
    "model_filepath = r\"C:\\Program Files (x86)\\Bentley\\WaterGEMS\\Samples\\Example5.wtg\"\n",
    "model: IWaterModel = ofw_config.open_model(model_filepath)"
   ]
  },
  {
   "cell_type": "code",
   "execution_count": 4,
   "metadata": {},
   "outputs": [
    {
     "ename": "ApplicationException",
     "evalue": "An error occured while loading the Numerical Engine class for engine type named EpaNetEngine.\n   at Haestad.Domain.ModelingObjects.NumericalEngineLibrary.InstantiateNumericalEngine(IDomainDataSet domainDataSet, INumericalEngineType numericalEngineType)\r\n   at Haestad.Domain.ModelingObjects.DomainDataSetBase.NumericalEngine(String numericalEngineTypeName)\r\n   at Haestad.Domain.ModelingObjects.FieldManagerBase.ResultField(String name, String numericalEngineTypeName, String resultRecordTypeName)\r\n   at Haestad.Domain.ModelingObjects.DomainElementManagerBase.ResultField(String fieldName, String resultRecordTypeName)\r\n   at OpenFlows.Domain.ModelingElements.NetworkElements.NetworkElementsBase`13.ResultField[TResultFieldType](String fieldName, String resultRecordTypeName) in D:\\p4\\Glacier\\Components\\OpenFlows\\Development\\OpenFlows\\Domain\\ModelingElements\\NetworkElements\\NetworkElementsBase.cs:line 61\r\n   at OpenFlows.Water.Domain.ModelingElements.NetworkElements.WaterBaseLinks`7.Lengths(List`1 ids) in D:\\Development\\Perforce\\Aspen\\Components\\OpenFlows.Water\\Development\\OpenFlows.Water\\Domain\\ModelingElements\\NetworkElements\\Links\\WaterBaseLinks.cs:line 56\r\n   at OpenFlows.Water.Domain.ModelingElements.NetworkElements.WaterBaseLinks`7.Lengths() in D:\\Development\\Perforce\\Aspen\\Components\\OpenFlows.Water\\Development\\OpenFlows.Water\\Domain\\ModelingElements\\NetworkElements\\Links\\WaterBaseLinks.cs:line 48",
     "output_type": "error",
     "traceback": [
      "\u001b[1;31m---------------------------------------------------------------------------\u001b[0m",
      "\u001b[1;31mTypeLoadException\u001b[0m                         Traceback (most recent call last)",
      "\u001b[1;31mTypeLoadException\u001b[0m: Could not load type 'Haestad.Domain.ModelingObjects.LicensedNumericalEngineBase' from assembly 'Haestad.Domain.ModelingObjects, Version=10.0.0.0, Culture=neutral, PublicKeyToken=b4db808388021f6e'.\n   at System.Reflection.RuntimeAssembly.GetType(RuntimeAssembly assembly, String name, Boolean throwOnError, Boolean ignoreCase, ObjectHandleOnStack type)\r\n   at System.Reflection.RuntimeAssembly.GetType(String name, Boolean throwOnError, Boolean ignoreCase)\r\n   at Haestad.Domain.ModelingObjects.NumericalEngineLibrary.InstantiateNumericalEngine(IDomainDataSet domainDataSet, INumericalEngineType numericalEngineType)",
      "\nThe above exception was the direct cause of the following exception:\n",
      "\u001b[1;31mApplicationException\u001b[0m                      Traceback (most recent call last)",
      "\u001b[1;32mC:\\Users\\AKSHAY~1.NIR\\AppData\\Local\\Temp/ipykernel_8000/3807687007.py\u001b[0m in \u001b[0;36m<module>\u001b[1;34m\u001b[0m\n\u001b[0;32m      2\u001b[0m \u001b[0mni\u001b[0m \u001b[1;33m=\u001b[0m \u001b[0mNetworkInput\u001b[0m\u001b[1;33m(\u001b[0m\u001b[0mmodel\u001b[0m\u001b[1;33m)\u001b[0m\u001b[1;33m\u001b[0m\u001b[1;33m\u001b[0m\u001b[0m\n\u001b[0;32m      3\u001b[0m \u001b[1;33m\u001b[0m\u001b[0m\n\u001b[1;32m----> 4\u001b[1;33m \u001b[0mgraph\u001b[0m \u001b[1;33m=\u001b[0m \u001b[0mni\u001b[0m\u001b[1;33m.\u001b[0m\u001b[0mget_networkx_graph\u001b[0m\u001b[1;33m(\u001b[0m\u001b[0mlaterals\u001b[0m\u001b[1;33m=\u001b[0m\u001b[1;32mFalse\u001b[0m\u001b[1;33m)\u001b[0m\u001b[1;33m\u001b[0m\u001b[1;33m\u001b[0m\u001b[0m\n\u001b[0m\u001b[0;32m      5\u001b[0m \u001b[0mnx\u001b[0m\u001b[1;33m.\u001b[0m\u001b[0mdraw_networkx\u001b[0m\u001b[1;33m(\u001b[0m\u001b[0mgraph\u001b[0m\u001b[1;33m,\u001b[0m\u001b[0mnode_shape\u001b[0m\u001b[1;33m=\u001b[0m\u001b[1;34m's'\u001b[0m\u001b[1;33m)\u001b[0m\u001b[1;33m\u001b[0m\u001b[1;33m\u001b[0m\u001b[0m\n",
      "\u001b[1;32md:\\development\\python\\pyofw\\src\\pyOpenFlows\\networkInput.py\u001b[0m in \u001b[0;36mget_networkx_graph\u001b[1;34m(self, laterals)\u001b[0m\n\u001b[0;32m     24\u001b[0m             \"Id\", \"Label\", \"Diameter\", \"IsActive\"]\n\u001b[0;32m     25\u001b[0m \u001b[1;33m\u001b[0m\u001b[0m\n\u001b[1;32m---> 26\u001b[1;33m         \u001b[0mlinks_df\u001b[0m \u001b[1;33m=\u001b[0m \u001b[0mself\u001b[0m\u001b[1;33m.\u001b[0m\u001b[0mpipe_df\u001b[0m\u001b[1;33m[\u001b[0m\u001b[0mcolumns\u001b[0m\u001b[1;33m]\u001b[0m\u001b[1;33m.\u001b[0m\u001b[0mcopy\u001b[0m\u001b[1;33m(\u001b[0m\u001b[1;33m)\u001b[0m\u001b[1;33m\u001b[0m\u001b[1;33m\u001b[0m\u001b[0m\n\u001b[0m\u001b[0;32m     27\u001b[0m         \u001b[1;32mif\u001b[0m \u001b[0mlaterals\u001b[0m\u001b[1;33m:\u001b[0m\u001b[1;33m\u001b[0m\u001b[1;33m\u001b[0m\u001b[0m\n\u001b[0;32m     28\u001b[0m             \u001b[0mlinks_df\u001b[0m\u001b[1;33m.\u001b[0m\u001b[0mappend\u001b[0m\u001b[1;33m(\u001b[0m\u001b[0mself\u001b[0m\u001b[1;33m.\u001b[0m\u001b[0mlateral_df\u001b[0m\u001b[1;33m[\u001b[0m\u001b[0mcolumns\u001b[0m\u001b[1;33m]\u001b[0m\u001b[1;33m)\u001b[0m\u001b[1;33m\u001b[0m\u001b[1;33m\u001b[0m\u001b[0m\n",
      "\u001b[1;32md:\\development\\python\\pyofw\\src\\pyOpenFlows\\networkInput.py\u001b[0m in \u001b[0;36mpipe_df\u001b[1;34m(self)\u001b[0m\n\u001b[0;32m     42\u001b[0m     \u001b[1;33m@\u001b[0m\u001b[0mproperty\u001b[0m\u001b[1;33m\u001b[0m\u001b[1;33m\u001b[0m\u001b[0m\n\u001b[0;32m     43\u001b[0m     \u001b[1;32mdef\u001b[0m \u001b[0mpipe_df\u001b[0m\u001b[1;33m(\u001b[0m\u001b[0mself\u001b[0m\u001b[1;33m)\u001b[0m \u001b[1;33m->\u001b[0m \u001b[0mpd\u001b[0m\u001b[1;33m.\u001b[0m\u001b[0mDataFrame\u001b[0m\u001b[1;33m:\u001b[0m\u001b[1;33m\u001b[0m\u001b[1;33m\u001b[0m\u001b[0m\n\u001b[1;32m---> 44\u001b[1;33m         \u001b[1;32mreturn\u001b[0m \u001b[0mself\u001b[0m\u001b[1;33m.\u001b[0m\u001b[0m__get_pipe_input\u001b[0m\u001b[1;33m(\u001b[0m\u001b[0mself\u001b[0m\u001b[1;33m.\u001b[0m\u001b[0m__waterModel\u001b[0m\u001b[1;33m.\u001b[0m\u001b[0mNetwork\u001b[0m\u001b[1;33m.\u001b[0m\u001b[0mPipes\u001b[0m\u001b[1;33m)\u001b[0m\u001b[1;33m\u001b[0m\u001b[1;33m\u001b[0m\u001b[0m\n\u001b[0m\u001b[0;32m     45\u001b[0m \u001b[1;33m\u001b[0m\u001b[0m\n\u001b[0;32m     46\u001b[0m     \u001b[1;33m@\u001b[0m\u001b[0mproperty\u001b[0m\u001b[1;33m\u001b[0m\u001b[1;33m\u001b[0m\u001b[0m\n",
      "\u001b[1;32md:\\development\\python\\pyofw\\src\\pyOpenFlows\\networkInput.py\u001b[0m in \u001b[0;36m__get_pipe_input\u001b[1;34m(self, elements)\u001b[0m\n\u001b[0;32m    488\u001b[0m \u001b[1;33m\u001b[0m\u001b[0m\n\u001b[0;32m    489\u001b[0m     \u001b[1;32mdef\u001b[0m \u001b[0m__get_pipe_input\u001b[0m\u001b[1;33m(\u001b[0m\u001b[0mself\u001b[0m\u001b[1;33m,\u001b[0m \u001b[0melements\u001b[0m\u001b[1;33m:\u001b[0m \u001b[0mIPipes\u001b[0m\u001b[1;33m)\u001b[0m \u001b[1;33m->\u001b[0m \u001b[0mpd\u001b[0m\u001b[1;33m.\u001b[0m\u001b[0mDataFrame\u001b[0m\u001b[1;33m:\u001b[0m\u001b[1;33m\u001b[0m\u001b[1;33m\u001b[0m\u001b[0m\n\u001b[1;32m--> 490\u001b[1;33m         \u001b[0mdf\u001b[0m \u001b[1;33m=\u001b[0m \u001b[0mself\u001b[0m\u001b[1;33m.\u001b[0m\u001b[0m__get_base_link_input\u001b[0m\u001b[1;33m(\u001b[0m\u001b[0melements\u001b[0m\u001b[1;33m)\u001b[0m\u001b[1;33m\u001b[0m\u001b[1;33m\u001b[0m\u001b[0m\n\u001b[0m\u001b[0;32m    491\u001b[0m         \u001b[0mdf\u001b[0m \u001b[1;33m=\u001b[0m \u001b[0mself\u001b[0m\u001b[1;33m.\u001b[0m\u001b[0m__get_installation_year_input\u001b[0m\u001b[1;33m(\u001b[0m\u001b[0melements\u001b[0m\u001b[1;33m,\u001b[0m \u001b[0mdf\u001b[0m\u001b[1;33m)\u001b[0m\u001b[1;33m\u001b[0m\u001b[1;33m\u001b[0m\u001b[0m\n\u001b[0;32m    492\u001b[0m \u001b[1;33m\u001b[0m\u001b[0m\n",
      "\u001b[1;32md:\\development\\python\\pyofw\\src\\pyOpenFlows\\networkInput.py\u001b[0m in \u001b[0;36m__get_base_link_input\u001b[1;34m(self, elements)\u001b[0m\n\u001b[0;32m    262\u001b[0m         \u001b[0mdf\u001b[0m\u001b[1;33m[\u001b[0m\u001b[1;34m\"IsUDLength\"\u001b[0m\u001b[1;33m]\u001b[0m \u001b[1;33m=\u001b[0m \u001b[0mself\u001b[0m\u001b[1;33m.\u001b[0m\u001b[0m__dict_to_value\u001b[0m\u001b[1;33m(\u001b[0m\u001b[0mdf\u001b[0m\u001b[1;33m[\u001b[0m\u001b[1;34m\"IsUDLength\"\u001b[0m\u001b[1;33m]\u001b[0m\u001b[1;33m,\u001b[0m \u001b[0mbool\u001b[0m\u001b[1;33m)\u001b[0m\u001b[1;33m\u001b[0m\u001b[1;33m\u001b[0m\u001b[0m\n\u001b[0;32m    263\u001b[0m \u001b[1;33m\u001b[0m\u001b[0m\n\u001b[1;32m--> 264\u001b[1;33m         \u001b[0mdf\u001b[0m\u001b[1;33m[\u001b[0m\u001b[1;34m\"Length\"\u001b[0m\u001b[1;33m]\u001b[0m \u001b[1;33m=\u001b[0m \u001b[0melements\u001b[0m\u001b[1;33m.\u001b[0m\u001b[0mLengths\u001b[0m\u001b[1;33m(\u001b[0m\u001b[1;33m)\u001b[0m\u001b[1;33m\u001b[0m\u001b[1;33m\u001b[0m\u001b[0m\n\u001b[0m\u001b[0;32m    265\u001b[0m         \u001b[0mdf\u001b[0m\u001b[1;33m[\u001b[0m\u001b[1;34m\"Length\"\u001b[0m\u001b[1;33m]\u001b[0m \u001b[1;33m=\u001b[0m \u001b[0mself\u001b[0m\u001b[1;33m.\u001b[0m\u001b[0m__dict_to_value\u001b[0m\u001b[1;33m(\u001b[0m\u001b[0mdf\u001b[0m\u001b[1;33m[\u001b[0m\u001b[1;34m\"Length\"\u001b[0m\u001b[1;33m]\u001b[0m\u001b[1;33m,\u001b[0m \u001b[0mfloat\u001b[0m\u001b[1;33m)\u001b[0m\u001b[1;33m\u001b[0m\u001b[1;33m\u001b[0m\u001b[0m\n\u001b[0;32m    266\u001b[0m \u001b[1;33m\u001b[0m\u001b[0m\n",
      "\u001b[1;31mApplicationException\u001b[0m: An error occured while loading the Numerical Engine class for engine type named EpaNetEngine.\n   at Haestad.Domain.ModelingObjects.NumericalEngineLibrary.InstantiateNumericalEngine(IDomainDataSet domainDataSet, INumericalEngineType numericalEngineType)\r\n   at Haestad.Domain.ModelingObjects.DomainDataSetBase.NumericalEngine(String numericalEngineTypeName)\r\n   at Haestad.Domain.ModelingObjects.FieldManagerBase.ResultField(String name, String numericalEngineTypeName, String resultRecordTypeName)\r\n   at Haestad.Domain.ModelingObjects.DomainElementManagerBase.ResultField(String fieldName, String resultRecordTypeName)\r\n   at OpenFlows.Domain.ModelingElements.NetworkElements.NetworkElementsBase`13.ResultField[TResultFieldType](String fieldName, String resultRecordTypeName) in D:\\p4\\Glacier\\Components\\OpenFlows\\Development\\OpenFlows\\Domain\\ModelingElements\\NetworkElements\\NetworkElementsBase.cs:line 61\r\n   at OpenFlows.Water.Domain.ModelingElements.NetworkElements.WaterBaseLinks`7.Lengths(List`1 ids) in D:\\Development\\Perforce\\Aspen\\Components\\OpenFlows.Water\\Development\\OpenFlows.Water\\Domain\\ModelingElements\\NetworkElements\\Links\\WaterBaseLinks.cs:line 56\r\n   at OpenFlows.Water.Domain.ModelingElements.NetworkElements.WaterBaseLinks`7.Lengths() in D:\\Development\\Perforce\\Aspen\\Components\\OpenFlows.Water\\Development\\OpenFlows.Water\\Domain\\ModelingElements\\NetworkElements\\Links\\WaterBaseLinks.cs:line 48"
     ]
    }
   ],
   "source": [
    "from pyOpenFlows.networkInput import NetworkInput\n",
    "ni = NetworkInput(model)\n",
    "\n",
    "graph = ni.get_networkx_graph(laterals=False)\n",
    "nx.draw_networkx(graph,node_shape='s')"
   ]
  },
  {
   "cell_type": "code",
   "execution_count": null,
   "metadata": {},
   "outputs": [],
   "source": [
    "# setup.end()"
   ]
  }
 ],
 "metadata": {
  "interpreter": {
   "hash": "839055bb48d0c567cc06af8b98c8ed897e2d688046e9876be2d3ff3ae83815c2"
  },
  "kernelspec": {
   "display_name": "Python 3.9.2 64-bit",
   "name": "python3"
  },
  "language_info": {
   "codemirror_mode": {
    "name": "ipython",
    "version": 3
   },
   "file_extension": ".py",
   "mimetype": "text/x-python",
   "name": "python",
   "nbconvert_exporter": "python",
   "pygments_lexer": "ipython3",
   "version": "3.9.2"
  },
  "orig_nbformat": 4
 },
 "nbformat": 4,
 "nbformat_minor": 2
}
