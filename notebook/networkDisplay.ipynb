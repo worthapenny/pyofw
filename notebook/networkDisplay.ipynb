{
 "cells": [
  {
   "cell_type": "code",
   "execution_count": null,
   "metadata": {},
   "outputs": [],
   "source": [
    "import pandas as pd\n",
    "import numpy as np\n",
    "import networkx as nx\n",
    "import plotly.graph_objects as go"
   ]
  },
  {
   "cell_type": "code",
   "execution_count": null,
   "metadata": {},
   "outputs": [],
   "source": [
    "from pyOpenFlows.setupOpenFlows import SetupOpenFlowsWater\n",
    "setup = SetupOpenFlowsWater()"
   ]
  },
  {
   "cell_type": "code",
   "execution_count": null,
   "metadata": {},
   "outputs": [],
   "source": [
    "from OpenFlows.Water.Domain import IWaterModel\n",
    "\n",
    "model_filepath = r\"C:\\Program Files (x86)\\Bentley\\WaterGEMS\\Samples\\Example5.wtg\"\n",
    "model: IWaterModel = setup.open_model(model_filepath)"
   ]
  },
  {
   "cell_type": "code",
   "execution_count": null,
   "metadata": {},
   "outputs": [
    {
     "name": "stdout",
     "output_type": "stream",
     "text": [
      "Active scenario is: Scenario : Historical SCADA Simulation\n"
     ]
    }
   ],
   "source": [
    "from pyOpenFlows.networkInput import NetworkInput\n",
    "ni = NetworkInput(model)\n",
    "\n",
    "links_df = ni.pipe_df\n",
    "graph = nx.from_pandas_edgelist(\n",
    "  df=links_df,\n",
    "  source=\"StartNodeId\",\n",
    "  target=\"StopNodeId\",\n",
    "  edge_attr=[\"Id\", \"Label\", \"Diameter\", \"Status\"])\n",
    "  "
   ]
  },
  {
   "cell_type": "code",
   "execution_count": null,
   "metadata": {},
   "outputs": [],
   "source": [
    "# setup.end()"
   ]
  }
 ],
 "metadata": {
  "language_info": {
   "name": "python"
  },
  "orig_nbformat": 4
 },
 "nbformat": 4,
 "nbformat_minor": 2
}
