{
 "cells": [
  {
   "cell_type": "markdown",
   "metadata": {},
   "source": [
    "# Getting Started in Jupyter Notebook"
   ]
  },
  {
   "cell_type": "markdown",
   "metadata": {},
   "source": [
    "## Import the necessary modules"
   ]
  },
  {
   "cell_type": "code",
   "execution_count": null,
   "metadata": {},
   "outputs": [],
   "source": [
    "import logging\n",
    "import pandas as pd\n",
    "import numpy as np\n",
    "from typing import Dict, Any\n",
    "from pyOFW.ofwConfig import AppType, OFWConfig\n",
    "\n",
    "import plotly.graph_objects as go\n",
    "from plotly.subplots import make_subplots\n",
    "from plotly.offline import init_notebook_mode\n",
    "init_notebook_mode(connected=True) # for offline support\n",
    "\n",
    "# to display multiple output\n",
    "from IPython.core.interactiveshell import InteractiveShell\n",
    "InteractiveShell.ast_node_interactivity = \"all\""
   ]
  },
  {
   "cell_type": "markdown",
   "metadata": {},
   "source": [
    "## Initiate the logging [Optional but recommended]"
   ]
  },
  {
   "cell_type": "code",
   "execution_count": null,
   "metadata": {},
   "outputs": [],
   "source": [
    "logging.basicConfig(\n",
    "    level=logging.DEBUG,\n",
    "    # level=logging.INFO,\n",
    "    format=\"%(asctime)s.%(msecs)03d %(levelname)s: %(message)s\",\n",
    "    datefmt=\"%d %H:%M:%S\",\n",
    ")\n",
    "log = logging.getLogger(__name__)\n",
    "log.info(\"Ready to log!\")"
   ]
  },
  {
   "cell_type": "markdown",
   "metadata": {},
   "source": [
    "## Make things ready for Open Flows API\n",
    "\n",
    "The approach below is using `pyOFW` module which comes with simplified version `OFWConfig` class."
   ]
  },
  {
   "cell_type": "code",
   "execution_count": null,
   "metadata": {},
   "outputs": [],
   "source": [
    "ofw_config = OFWConfig(AppType.WaterOPS, OFWConfig.wops_install_dir)"
   ]
  },
  {
   "cell_type": "markdown",
   "metadata": {},
   "source": [
    "## Import OpenFlows related modules\n",
    "\n",
    "It is important to import these modules after loading the `OpenFlows.dll` which happens in `OFWConfig` file."
   ]
  },
  {
   "cell_type": "code",
   "execution_count": null,
   "metadata": {},
   "outputs": [],
   "source": [
    "from OpenFlows.Water.Domain import IWaterModel\n",
    "from OpenFlows.Water import OpenFlowsWater"
   ]
  },
  {
   "cell_type": "markdown",
   "metadata": {},
   "source": [
    "## Open up the model file"
   ]
  },
  {
   "cell_type": "code",
   "execution_count": null,
   "metadata": {},
   "outputs": [],
   "source": [
    "# Path of the model file to be opened\n",
    "model_filepath = r\"C:\\Program Files (x86)\\Bentley\\WaterGEMS\\Samples\\Example5.wtg\"\n",
    "\n",
    "logging.info(\"Opening model...\")\n",
    "model: IWaterModel = OpenFlowsWater.Open(model_filepath)\n",
    "\n",
    "if model != None:\n",
    "  logging.info(f\"Model opened. Path: {model_filepath}\")"
   ]
  },
  {
   "cell_type": "markdown",
   "metadata": {},
   "source": [
    "## Run a Scenario"
   ]
  },
  {
   "cell_type": "code",
   "execution_count": null,
   "metadata": {},
   "outputs": [],
   "source": [
    "# display the active scenario\n",
    "scenario = model.ActiveScenario\n",
    "logging.info(f\"Active scenario = ID: {scenario.Id}, Label: {scenario.Label}\")\n",
    "\n",
    "# display all the scenarios in the model\n",
    "scenarios_text = [f\"ID: {scenario.Id}, Label: {scenario.Label}\" for scenario in model.Scenarios.Elements()]\n",
    "logging.info(\"List of scenarios in the model:\")\n",
    "logging.info(\"\\n\".join(scenarios_text))\n",
    "\n",
    "\n",
    "# check if we have results\n",
    "has_results = model.ActiveScenario.HasResults\n",
    "logging.info(f\"Active scenario '{model.ActiveScenario.Label}' has results?  {has_results}\")\n",
    "\n",
    "# run the active scenario\n",
    "logging.info(\"About to run the simulation\")\n",
    "model.RunActiveScenario()\n",
    "logging.info(\"Ran the simulation. \")\n",
    "\n",
    "\n",
    "# now we should have results\n",
    "has_results = model.ActiveScenario.HasResults\n",
    "logging.info(f\"Active scenario '{model.ActiveScenario.Label}' has results?  {has_results}\")"
   ]
  },
  {
   "cell_type": "markdown",
   "metadata": {},
   "source": [
    "## Prepare data for plotting/charting/graphing"
   ]
  },
  {
   "cell_type": "code",
   "execution_count": null,
   "metadata": {},
   "outputs": [],
   "source": [
    "# Prepare the datetime (x-axis)\n",
    "times_in_sec = model.ActiveScenario.TimeStepsInSeconds\n",
    "df = pd.DataFrame()\n",
    "df[\"DateTime\"] = pd.to_datetime([f\"{model.ActiveScenario.TimeStepToDateTime(t)}\" for t in times_in_sec])\n",
    "\n",
    "\n",
    "# prepare the y-axis\n",
    "# tank levels\n",
    "tanks = model.Network.Tanks.Elements()\n",
    "tank_results: Dict[str, Any] = dict()\n",
    "\n",
    "for tank in tanks:\n",
    "    tank_results[tank.Label] =tank.Results.Levels()\n",
    "\n",
    "# pump flows\n",
    "pumps = model.Network.Pumps.Elements()\n",
    "pump_results: Dict[str, Any] = dict()\n",
    "\n",
    "for pump in pumps:\n",
    "    pump_results[pump.Label] = pump.Results.Flows()\n",
    "\n",
    "# combine all data into one\n",
    "df = df.join(pd.DataFrame(tank_results))\n",
    "df = df.join(pd.DataFrame(pump_results))\n",
    "\n",
    "df.head()"
   ]
  },
  {
   "cell_type": "markdown",
   "metadata": {},
   "source": [
    "## Chart/graph/plot the data in one panel (using secondary axis)"
   ]
  },
  {
   "cell_type": "code",
   "execution_count": null,
   "metadata": {},
   "outputs": [],
   "source": [
    "fig = go.Figure()\n",
    "chart_name = f\"Tank Level & Pump Flow - [Scenario = {model.ActiveScenario.Label}]\"\n",
    "\n",
    "def add_line_chart_h(fig, x_values: pd.Series, y_values: pd.Series, name: str, right_y:bool=False):\n",
    "    y_axis_name = \"y2\" if right_y else None\n",
    "    return fig.add_trace(go.Scatter(x=x_values, y=y_values, name=name,yaxis=y_axis_name))\n",
    "\n",
    "fig = add_line_chart_h(fig, df[df.columns[0]], df[df.columns[1]], df.columns[1])\n",
    "fig = add_line_chart_h(fig, df[df.columns[0]], df[df.columns[2]], df.columns[2], True)\n",
    "fig = add_line_chart_h(fig, df[df.columns[0]], df[df.columns[3]], df.columns[3],True)\n",
    "\n",
    "fig = fig.update_layout(\n",
    "        title_text=chart_name,\n",
    "        yaxis=dict(title=\"Level\"),\n",
    "        yaxis2=dict(overlaying=\"y\", side=\"right\", position=1.0, title=\"Flows\"),\n",
    "        margin=dict(l=10, r=10, t=50, b=20),\n",
    "        hovermode='x', # Enable compare data on hover by default\n",
    "        showlegend=True,\n",
    "    )\n",
    "\n",
    "fig.show()"
   ]
  },
  {
   "cell_type": "markdown",
   "metadata": {},
   "source": [
    "## Chart/graph/plot the data in two panels (sub-plots, just like in WaterGEMS)"
   ]
  },
  {
   "cell_type": "code",
   "execution_count": null,
   "metadata": {},
   "outputs": [],
   "source": [
    "fig = go.Figure()\n",
    "chart_name = f\"Tank Level & Pump Flow (WaterGEMS Style) - [Scenario = {model.ActiveScenario.Label}]\"\n",
    "\n",
    "fig = make_subplots(\n",
    "    rows=2,\n",
    "    cols=1,\n",
    "    shared_yaxes=False,\n",
    "    shared_xaxes=True,\n",
    "    vertical_spacing=0.0,\n",
    ")\n",
    "\n",
    "def add_line_chart_v(fig, x_values: pd.Series, y_values: pd.Series, name: str, bottom_panel:bool=False):\n",
    "    row = 2 if bottom_panel else 1\n",
    "    return fig.add_trace(go.Scatter(x=x_values, y=y_values, name=name,),row=row, col=1)\n",
    "\n",
    "fig = add_line_chart_v(fig, df[df.columns[0]], df[df.columns[1]], df.columns[1])\n",
    "fig = add_line_chart_v(fig, df[df.columns[0]], df[df.columns[2]], df.columns[2], True)\n",
    "fig = add_line_chart_v(fig, df[df.columns[0]], df[df.columns[3]], df.columns[3], True)\n",
    "\n",
    "fig = fig.update_layout(\n",
    "        title_text=chart_name,\n",
    "        yaxis=dict(title= f\"Level ({model.Units.NetworkUnits.Tank.LevelUnit.ShortLabel})\"),\n",
    "        yaxis2=dict(title=f\"Flow  ({model.Units.NetworkUnits.Pump.FlowUnit.ShortLabel})\"),\n",
    "        margin=dict(l=30, r=30, t=50, b=20),\n",
    "        hovermode='x', # Enable compare data on hover by default\n",
    "        showlegend=True,\n",
    "        legend=dict(orientation=\"h\",xanchor=\"center\", x=0.5),\n",
    "    )\n",
    "\n",
    "fig.show()"
   ]
  },
  {
   "cell_type": "markdown",
   "metadata": {},
   "source": [
    "## Close the model"
   ]
  },
  {
   "cell_type": "code",
   "execution_count": null,
   "metadata": {},
   "outputs": [],
   "source": [
    "# Disable the comments below to close the model\n",
    "# if model:\n",
    "#     model.Close()"
   ]
  },
  {
   "cell_type": "markdown",
   "metadata": {},
   "source": [
    "## Close the session\n",
    "\n",
    "If you want to open up the model again, make sure to call the `OFWConfig` as [done above](#Import-OpenFlows-related-modules)"
   ]
  },
  {
   "cell_type": "code",
   "execution_count": null,
   "metadata": {},
   "outputs": [],
   "source": [
    "# Disable the comment below to close the session\n",
    "# OpenFlowsWater.EndSession()"
   ]
  }
 ],
 "metadata": {
  "interpreter": {
   "hash": "839055bb48d0c567cc06af8b98c8ed897e2d688046e9876be2d3ff3ae83815c2"
  },
  "kernelspec": {
   "display_name": "Python 3.9.2 64-bit",
   "name": "python3"
  },
  "language_info": {
   "codemirror_mode": {
    "name": "ipython",
    "version": 3
   },
   "file_extension": ".py",
   "mimetype": "text/x-python",
   "name": "python",
   "nbconvert_exporter": "python",
   "pygments_lexer": "ipython3",
   "version": "3.9.2"
  },
  "orig_nbformat": 4
 },
 "nbformat": 4,
 "nbformat_minor": 2
}
