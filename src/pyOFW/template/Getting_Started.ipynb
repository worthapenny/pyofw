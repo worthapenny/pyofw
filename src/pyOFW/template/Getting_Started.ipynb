{
 "cells": [
  {
   "cell_type": "markdown",
   "metadata": {},
   "source": [
    "# Getting Started in Jupyter Notebook"
   ]
  },
  {
   "cell_type": "markdown",
   "metadata": {},
   "source": [
    "## Import the necessary modules"
   ]
  },
  {
   "cell_type": "code",
   "execution_count": 14,
   "metadata": {},
   "outputs": [],
   "source": [
    "import logging\n",
    "import pandas as pd\n",
    "import numpy as np\n",
    "from typing import Dict, Any\n",
    "from pyofw.config import AppType, OFWConfig"
   ]
  },
  {
   "cell_type": "markdown",
   "metadata": {},
   "source": [
    "## Initiate the logging [Optional but recommended]"
   ]
  },
  {
   "cell_type": "code",
   "execution_count": 15,
   "metadata": {},
   "outputs": [
    {
     "name": "stderr",
     "output_type": "stream",
     "text": [
      "10 12:01:29.915 INFO: Ready to log!\n"
     ]
    }
   ],
   "source": [
    "logging.basicConfig(\n",
    "    level=logging.DEBUG,\n",
    "    # level=logging.INFO,\n",
    "    format=\"%(asctime)s.%(msecs)03d %(levelname)s: %(message)s\",\n",
    "    datefmt=\"%d %H:%M:%S\",\n",
    ")\n",
    "log = logging.getLogger(__name__)\n",
    "log.info(\"Ready to log!\")"
   ]
  },
  {
   "cell_type": "markdown",
   "metadata": {},
   "source": [
    "## Make things ready for Open Flows API\n",
    "\n",
    "The approach below is using `pyOFW` module which comes with simplified version `OFWConfig` class."
   ]
  },
  {
   "cell_type": "code",
   "execution_count": 16,
   "metadata": {},
   "outputs": [
    {
     "name": "stderr",
     "output_type": "stream",
     "text": [
      "10 12:01:29.923 DEBUG: Assembly dir is set to: C:\\Program Files (x86)\\Bentley\\WaterGEMS\\x64\n",
      "10 12:01:29.935 DEBUG: Assembly loaded: OpenFlows.Water\n",
      "10 12:01:29.936 INFO: Assemblies loaded successfully: Count = 1\n",
      "10 12:01:30.941 DEBUG: Session for AppType.WaterGEMS started\n",
      "10 12:01:30.941 DEBUG: OFWConfig initialized. Success: True\n"
     ]
    }
   ],
   "source": [
    "ofw = OFWConfig(\n",
    "    app_type=AppType.WaterGEMS, # the default is WaterGEMS, this line can be commented\n",
    "    dlls_dir=OFWConfig.WTRG_INSTALL_DIR # the default is for WaterGEMS, this line can be commented\n",
    "    )"
   ]
  },
  {
   "cell_type": "markdown",
   "metadata": {},
   "source": [
    "## Import OpenFlows related modules\n",
    "\n",
    "It is important to import these modules after loading the `OpenFlows.dll`. The loading of the OpenFlows.dll is taken care in the pyofw package inside `OFWConfig`.."
   ]
  },
  {
   "cell_type": "code",
   "execution_count": 17,
   "metadata": {},
   "outputs": [],
   "source": [
    "from OpenFlows.Water.Domain import IWaterModel"
   ]
  },
  {
   "cell_type": "markdown",
   "metadata": {},
   "source": [
    "## Open up the model file"
   ]
  },
  {
   "cell_type": "code",
   "execution_count": 18,
   "metadata": {},
   "outputs": [
    {
     "name": "stderr",
     "output_type": "stream",
     "text": [
      "10 12:01:30.955 INFO: Opening model...\n",
      "10 12:01:30.956 DEBUG: About to open up a model file: C:\\Program Files (x86)\\Bentley\\WaterGEMS\\Samples\\Example5.wtg\n",
      "10 12:01:32.417 INFO: Successfully opened up the model. Path: C:\\Program Files (x86)\\Bentley\\WaterGEMS\\Samples\\Example5.wtg\n",
      "10 12:01:32.418 INFO: Opened 'Example5.wtg' model got opened...\n"
     ]
    }
   ],
   "source": [
    "# Path of the model file to be opened\n",
    "model_filepath = r\"C:\\Program Files (x86)\\Bentley\\WaterGEMS\\Samples\\Example5.wtg\"\n",
    "\n",
    "logging.info(\"Opening model...\")\n",
    "model: IWaterModel = ofw.open_model(model_filepath)\n",
    "\n",
    "\n",
    "if model != None:\n",
    "  logging.info(f\"Opened '{model}' model got opened...\")"
   ]
  },
  {
   "cell_type": "markdown",
   "metadata": {},
   "source": [
    "## Run a Scenario"
   ]
  },
  {
   "cell_type": "code",
   "execution_count": 19,
   "metadata": {},
   "outputs": [
    {
     "name": "stderr",
     "output_type": "stream",
     "text": [
      "10 12:01:32.426 INFO: Active scenario = ID: 685, Label: Historical SCADA Simulation\n",
      "10 12:01:32.427 INFO: List of scenarios in the model:\n",
      "10 12:01:32.428 INFO: ID: 53, Label: Original Data\n",
      "\tID: 54, Label: 2002 Calibrated Average Day\n",
      "\tID: 55, Label: 2002 New Subdivision\n",
      "\tID: 56, Label: Variable Speed Pumping\n",
      "\tID: 57, Label: Optimized Calibration\n",
      "\tID: 58, Label: Submodel\n",
      "\tID: 59, Label: Automated Fire Flow\n",
      "\tID: 626, Label: Pump Shut Down Transient Analysis\n",
      "\tID: 639, Label: Live SCADA Simulation\n",
      "\tID: 685, Label: Historical SCADA Simulation\n",
      "10 12:01:32.430 INFO: Active scenario 'Historical SCADA Simulation' has results?  False\n",
      "10 12:01:32.431 INFO: About to run the simulation\n",
      "10 12:01:33.251 INFO: Ran the simulation. \n",
      "10 12:01:33.257 INFO: Active scenario 'Historical SCADA Simulation' has results?  True\n"
     ]
    }
   ],
   "source": [
    "# display the active scenario\n",
    "scenario = model.ActiveScenario\n",
    "logging.info(f\"Active scenario = ID: {scenario.Id}, Label: {scenario.Label}\")\n",
    "\n",
    "# display all the scenarios in the model\n",
    "scenarios_text = [f\"ID: {scenario.Id}, Label: {scenario.Label}\" for scenario in model.Scenarios.Elements()]\n",
    "logging.info(\"List of scenarios in the model:\")\n",
    "logging.info(\"\\n\\t\".join(scenarios_text))\n",
    "\n",
    "\n",
    "# check if we have results\n",
    "has_results = model.ActiveScenario.HasResults\n",
    "logging.info(f\"Active scenario '{model.ActiveScenario.Label}' has results?  {has_results}\")\n",
    "\n",
    "# run the active scenario\n",
    "logging.info(\"About to run the simulation\")\n",
    "model.RunActiveScenario()\n",
    "logging.info(\"Ran the simulation. \")\n",
    "\n",
    "\n",
    "# now we should have results\n",
    "has_results = model.ActiveScenario.HasResults\n",
    "logging.info(f\"Active scenario '{model.ActiveScenario.Label}' has results?  {has_results}\")"
   ]
  },
  {
   "cell_type": "markdown",
   "metadata": {},
   "source": [
    "## Prepare data for plotting/charting/graphing"
   ]
  },
  {
   "cell_type": "markdown",
   "metadata": {},
   "source": [
    "In this seciton, we will be using plotly library to display the charts.\n",
    "So, these modules might be needed:\n",
    "1. plotly (`pip install plotly`)\n",
    "2. `pip install nbformat`"
   ]
  },
  {
   "cell_type": "code",
   "execution_count": 20,
   "metadata": {},
   "outputs": [
    {
     "data": {
      "text/html": [
       "        <script type=\"text/javascript\">\n",
       "        window.PlotlyConfig = {MathJaxConfig: 'local'};\n",
       "        if (window.MathJax && window.MathJax.Hub && window.MathJax.Hub.Config) {window.MathJax.Hub.Config({SVG: {font: \"STIX-Web\"}});}\n",
       "        if (typeof require !== 'undefined') {\n",
       "        require.undef(\"plotly\");\n",
       "        requirejs.config({\n",
       "            paths: {\n",
       "                'plotly': ['https://cdn.plot.ly/plotly-2.24.1.min']\n",
       "            }\n",
       "        });\n",
       "        require(['plotly'], function(Plotly) {\n",
       "            window._Plotly = Plotly;\n",
       "        });\n",
       "        }\n",
       "        </script>\n",
       "        "
      ]
     },
     "metadata": {},
     "output_type": "display_data"
    }
   ],
   "source": [
    "import plotly.graph_objects as go\n",
    "from plotly.subplots import make_subplots\n",
    "from plotly.offline import init_notebook_mode\n",
    "init_notebook_mode(connected=True) # for offline support\n",
    "\n",
    "# to display multiple output\n",
    "from IPython.core.interactiveshell import InteractiveShell\n",
    "InteractiveShell.ast_node_interactivity = \"all\""
   ]
  },
  {
   "cell_type": "code",
   "execution_count": 21,
   "metadata": {},
   "outputs": [
    {
     "name": "stderr",
     "output_type": "stream",
     "text": [
      "C:\\Users\\Akshaya.Niraula\\AppData\\Local\\Temp\\ipykernel_43660\\3666597561.py:4: UserWarning:\n",
      "\n",
      "Could not infer format, so each element will be parsed individually, falling back to `dateutil`. To ensure parsing is consistent and as-expected, please specify a format.\n",
      "\n"
     ]
    },
    {
     "data": {
      "text/html": [
       "<div>\n",
       "<style scoped>\n",
       "    .dataframe tbody tr th:only-of-type {\n",
       "        vertical-align: middle;\n",
       "    }\n",
       "\n",
       "    .dataframe tbody tr th {\n",
       "        vertical-align: top;\n",
       "    }\n",
       "\n",
       "    .dataframe thead th {\n",
       "        text-align: right;\n",
       "    }\n",
       "</style>\n",
       "<table border=\"1\" class=\"dataframe\">\n",
       "  <thead>\n",
       "    <tr style=\"text-align: right;\">\n",
       "      <th></th>\n",
       "      <th>DateTime</th>\n",
       "      <th>T-1</th>\n",
       "      <th>PMP-1</th>\n",
       "      <th>PMP-2</th>\n",
       "    </tr>\n",
       "  </thead>\n",
       "  <tbody>\n",
       "    <tr>\n",
       "      <th>0</th>\n",
       "      <td>2007-09-01 00:00:00</td>\n",
       "      <td>30.000005</td>\n",
       "      <td>65.455017</td>\n",
       "      <td>84.823753</td>\n",
       "    </tr>\n",
       "    <tr>\n",
       "      <th>1</th>\n",
       "      <td>2007-09-01 00:57:00</td>\n",
       "      <td>31.003163</td>\n",
       "      <td>69.189684</td>\n",
       "      <td>0.000000</td>\n",
       "    </tr>\n",
       "    <tr>\n",
       "      <th>2</th>\n",
       "      <td>2007-09-01 01:00:00</td>\n",
       "      <td>31.000428</td>\n",
       "      <td>69.197454</td>\n",
       "      <td>0.000000</td>\n",
       "    </tr>\n",
       "    <tr>\n",
       "      <th>3</th>\n",
       "      <td>2007-09-01 02:00:00</td>\n",
       "      <td>30.938404</td>\n",
       "      <td>69.373640</td>\n",
       "      <td>0.000000</td>\n",
       "    </tr>\n",
       "    <tr>\n",
       "      <th>4</th>\n",
       "      <td>2007-09-01 03:00:00</td>\n",
       "      <td>30.878817</td>\n",
       "      <td>69.542463</td>\n",
       "      <td>0.000000</td>\n",
       "    </tr>\n",
       "  </tbody>\n",
       "</table>\n",
       "</div>"
      ],
      "text/plain": [
       "             DateTime        T-1      PMP-1      PMP-2\n",
       "0 2007-09-01 00:00:00  30.000005  65.455017  84.823753\n",
       "1 2007-09-01 00:57:00  31.003163  69.189684   0.000000\n",
       "2 2007-09-01 01:00:00  31.000428  69.197454   0.000000\n",
       "3 2007-09-01 02:00:00  30.938404  69.373640   0.000000\n",
       "4 2007-09-01 03:00:00  30.878817  69.542463   0.000000"
      ]
     },
     "execution_count": 21,
     "metadata": {},
     "output_type": "execute_result"
    }
   ],
   "source": [
    "# Prepare the datetime (x-axis)\n",
    "times_in_sec = model.ActiveScenario.TimeStepsInSeconds\n",
    "df = pd.DataFrame()\n",
    "df[\"DateTime\"] = pd.to_datetime([f\"{model.ActiveScenario.TimeStepToDateTime(t)}\" for t in times_in_sec])\n",
    "\n",
    "\n",
    "# prepare the y-axis\n",
    "# tank levels\n",
    "tanks = model.Network.Tanks.Elements()\n",
    "tank_results: Dict[str, Any] = dict()\n",
    "\n",
    "for tank in tanks:\n",
    "    tank_results[tank.Label] =tank.Results.Levels()\n",
    "\n",
    "# pump flows\n",
    "pumps = model.Network.Pumps.Elements()\n",
    "pump_results: Dict[str, Any] = dict()\n",
    "\n",
    "for pump in pumps:\n",
    "    pump_results[pump.Label] = pump.Results.Flows()\n",
    "\n",
    "# combine all data into one\n",
    "df = df.join(pd.DataFrame(tank_results))\n",
    "df = df.join(pd.DataFrame(pump_results))\n",
    "\n",
    "df.head()"
   ]
  },
  {
   "cell_type": "markdown",
   "metadata": {},
   "source": [
    "## Chart/graph/plot the data in one panel (using secondary axis)"
   ]
  },
  {
   "cell_type": "code",
   "execution_count": 22,
   "metadata": {},
   "outputs": [
    {
     "data": {
      "application/vnd.plotly.v1+json": {
       "config": {
        "plotlyServerURL": "https://plot.ly"
       },
       "data": [
        {
         "name": "T-1",
         "type": "scatter",
         "x": [
          "2007-09-01T00:00:00",
          "2007-09-01T00:57:00",
          "2007-09-01T01:00:00",
          "2007-09-01T02:00:00",
          "2007-09-01T03:00:00",
          "2007-09-01T04:00:00",
          "2007-09-01T05:00:00",
          "2007-09-01T06:00:00",
          "2007-09-01T07:00:00",
          "2007-09-01T08:00:00",
          "2007-09-01T09:00:00",
          "2007-09-01T10:00:00",
          "2007-09-01T11:00:00",
          "2007-09-01T12:00:00",
          "2007-09-01T13:00:00",
          "2007-09-01T13:30:00",
          "2007-09-01T14:00:00",
          "2007-09-01T15:00:00",
          "2007-09-01T16:00:00",
          "2007-09-01T17:00:00",
          "2007-09-01T17:01:00",
          "2007-09-01T18:00:00",
          "2007-09-01T19:00:00",
          "2007-09-01T20:00:00",
          "2007-09-01T21:00:00",
          "2007-09-01T22:00:00",
          "2007-09-01T23:00:00",
          "2007-09-02T00:00:00"
         ],
         "y": [
          30.000005420629865,
          31.00316279368075,
          31.000428076883864,
          30.938403955789866,
          30.878816895242753,
          30.821518067117523,
          30.766451660867304,
          30.713487451882717,
          30.692186426492007,
          30.389525830787672,
          29.959449756567203,
          29.540461377659277,
          29.136858106173285,
          28.747858594452982,
          28.372718701873357,
          28.191743701872632,
          28.56169321359286,
          29.344101270236614,
          30.10740351633342,
          30.97261582102438,
          31.003218604227627,
          30.924321094461686,
          30.827322363992547,
          30.73406294016405,
          30.682363770241967,
          30.63265517649177,
          30.61444233469482,
          30.567356836647757
         ]
        },
        {
         "name": "PMP-1",
         "type": "scatter",
         "x": [
          "2007-09-01T00:00:00",
          "2007-09-01T00:57:00",
          "2007-09-01T01:00:00",
          "2007-09-01T02:00:00",
          "2007-09-01T03:00:00",
          "2007-09-01T04:00:00",
          "2007-09-01T05:00:00",
          "2007-09-01T06:00:00",
          "2007-09-01T07:00:00",
          "2007-09-01T08:00:00",
          "2007-09-01T09:00:00",
          "2007-09-01T10:00:00",
          "2007-09-01T11:00:00",
          "2007-09-01T12:00:00",
          "2007-09-01T13:00:00",
          "2007-09-01T13:30:00",
          "2007-09-01T14:00:00",
          "2007-09-01T15:00:00",
          "2007-09-01T16:00:00",
          "2007-09-01T17:00:00",
          "2007-09-01T17:01:00",
          "2007-09-01T18:00:00",
          "2007-09-01T19:00:00",
          "2007-09-01T20:00:00",
          "2007-09-01T21:00:00",
          "2007-09-01T22:00:00",
          "2007-09-01T23:00:00",
          "2007-09-02T00:00:00"
         ],
         "y": [
          65.45501655056967,
          69.18968357981174,
          69.19745433283126,
          69.3736401770606,
          69.54246344459352,
          69.70438622183362,
          69.85960874622239,
          70.0076535284762,
          70.10721004411866,
          70.99789698982002,
          72.17253603049603,
          73.29541369253563,
          74.36023789941062,
          75.37156790363593,
          76.33351627420305,
          70.62881317643338,
          69.65710708131152,
          67.59254353749999,
          65.37367394066669,
          62.73465998285571,
          69.19031509789659,
          69.41592878442445,
          69.69016166204469,
          69.9506859763599,
          70.09589662867201,
          70.2343685209325,
          70.28613760100897,
          70.4176936000965
         ],
         "yaxis": "y2"
        },
        {
         "name": "PMP-2",
         "type": "scatter",
         "x": [
          "2007-09-01T00:00:00",
          "2007-09-01T00:57:00",
          "2007-09-01T01:00:00",
          "2007-09-01T02:00:00",
          "2007-09-01T03:00:00",
          "2007-09-01T04:00:00",
          "2007-09-01T05:00:00",
          "2007-09-01T06:00:00",
          "2007-09-01T07:00:00",
          "2007-09-01T08:00:00",
          "2007-09-01T09:00:00",
          "2007-09-01T10:00:00",
          "2007-09-01T11:00:00",
          "2007-09-01T12:00:00",
          "2007-09-01T13:00:00",
          "2007-09-01T13:30:00",
          "2007-09-01T14:00:00",
          "2007-09-01T15:00:00",
          "2007-09-01T16:00:00",
          "2007-09-01T17:00:00",
          "2007-09-01T17:01:00",
          "2007-09-01T18:00:00",
          "2007-09-01T19:00:00",
          "2007-09-01T20:00:00",
          "2007-09-01T21:00:00",
          "2007-09-01T22:00:00",
          "2007-09-01T23:00:00",
          "2007-09-02T00:00:00"
         ],
         "y": [
          84.82375322690584,
          0,
          0,
          0,
          0,
          0,
          0,
          0,
          0,
          0,
          0,
          0,
          0,
          0,
          0,
          86.10338599990597,
          85.85499145368362,
          85.33961878637662,
          84.80446882099815,
          84.19319012063666,
          0,
          0,
          0,
          0,
          0,
          0,
          0,
          0
         ],
         "yaxis": "y2"
        }
       ],
       "layout": {
        "hovermode": "x",
        "legend": {
         "orientation": "h",
         "x": 0.5,
         "xanchor": "center"
        },
        "margin": {
         "b": 20,
         "l": 10,
         "r": 10,
         "t": 50
        },
        "showlegend": true,
        "template": {
         "data": {
          "bar": [
           {
            "error_x": {
             "color": "#2a3f5f"
            },
            "error_y": {
             "color": "#2a3f5f"
            },
            "marker": {
             "line": {
              "color": "#E5ECF6",
              "width": 0.5
             },
             "pattern": {
              "fillmode": "overlay",
              "size": 10,
              "solidity": 0.2
             }
            },
            "type": "bar"
           }
          ],
          "barpolar": [
           {
            "marker": {
             "line": {
              "color": "#E5ECF6",
              "width": 0.5
             },
             "pattern": {
              "fillmode": "overlay",
              "size": 10,
              "solidity": 0.2
             }
            },
            "type": "barpolar"
           }
          ],
          "carpet": [
           {
            "aaxis": {
             "endlinecolor": "#2a3f5f",
             "gridcolor": "white",
             "linecolor": "white",
             "minorgridcolor": "white",
             "startlinecolor": "#2a3f5f"
            },
            "baxis": {
             "endlinecolor": "#2a3f5f",
             "gridcolor": "white",
             "linecolor": "white",
             "minorgridcolor": "white",
             "startlinecolor": "#2a3f5f"
            },
            "type": "carpet"
           }
          ],
          "choropleth": [
           {
            "colorbar": {
             "outlinewidth": 0,
             "ticks": ""
            },
            "type": "choropleth"
           }
          ],
          "contour": [
           {
            "colorbar": {
             "outlinewidth": 0,
             "ticks": ""
            },
            "colorscale": [
             [
              0,
              "#0d0887"
             ],
             [
              0.1111111111111111,
              "#46039f"
             ],
             [
              0.2222222222222222,
              "#7201a8"
             ],
             [
              0.3333333333333333,
              "#9c179e"
             ],
             [
              0.4444444444444444,
              "#bd3786"
             ],
             [
              0.5555555555555556,
              "#d8576b"
             ],
             [
              0.6666666666666666,
              "#ed7953"
             ],
             [
              0.7777777777777778,
              "#fb9f3a"
             ],
             [
              0.8888888888888888,
              "#fdca26"
             ],
             [
              1,
              "#f0f921"
             ]
            ],
            "type": "contour"
           }
          ],
          "contourcarpet": [
           {
            "colorbar": {
             "outlinewidth": 0,
             "ticks": ""
            },
            "type": "contourcarpet"
           }
          ],
          "heatmap": [
           {
            "colorbar": {
             "outlinewidth": 0,
             "ticks": ""
            },
            "colorscale": [
             [
              0,
              "#0d0887"
             ],
             [
              0.1111111111111111,
              "#46039f"
             ],
             [
              0.2222222222222222,
              "#7201a8"
             ],
             [
              0.3333333333333333,
              "#9c179e"
             ],
             [
              0.4444444444444444,
              "#bd3786"
             ],
             [
              0.5555555555555556,
              "#d8576b"
             ],
             [
              0.6666666666666666,
              "#ed7953"
             ],
             [
              0.7777777777777778,
              "#fb9f3a"
             ],
             [
              0.8888888888888888,
              "#fdca26"
             ],
             [
              1,
              "#f0f921"
             ]
            ],
            "type": "heatmap"
           }
          ],
          "heatmapgl": [
           {
            "colorbar": {
             "outlinewidth": 0,
             "ticks": ""
            },
            "colorscale": [
             [
              0,
              "#0d0887"
             ],
             [
              0.1111111111111111,
              "#46039f"
             ],
             [
              0.2222222222222222,
              "#7201a8"
             ],
             [
              0.3333333333333333,
              "#9c179e"
             ],
             [
              0.4444444444444444,
              "#bd3786"
             ],
             [
              0.5555555555555556,
              "#d8576b"
             ],
             [
              0.6666666666666666,
              "#ed7953"
             ],
             [
              0.7777777777777778,
              "#fb9f3a"
             ],
             [
              0.8888888888888888,
              "#fdca26"
             ],
             [
              1,
              "#f0f921"
             ]
            ],
            "type": "heatmapgl"
           }
          ],
          "histogram": [
           {
            "marker": {
             "pattern": {
              "fillmode": "overlay",
              "size": 10,
              "solidity": 0.2
             }
            },
            "type": "histogram"
           }
          ],
          "histogram2d": [
           {
            "colorbar": {
             "outlinewidth": 0,
             "ticks": ""
            },
            "colorscale": [
             [
              0,
              "#0d0887"
             ],
             [
              0.1111111111111111,
              "#46039f"
             ],
             [
              0.2222222222222222,
              "#7201a8"
             ],
             [
              0.3333333333333333,
              "#9c179e"
             ],
             [
              0.4444444444444444,
              "#bd3786"
             ],
             [
              0.5555555555555556,
              "#d8576b"
             ],
             [
              0.6666666666666666,
              "#ed7953"
             ],
             [
              0.7777777777777778,
              "#fb9f3a"
             ],
             [
              0.8888888888888888,
              "#fdca26"
             ],
             [
              1,
              "#f0f921"
             ]
            ],
            "type": "histogram2d"
           }
          ],
          "histogram2dcontour": [
           {
            "colorbar": {
             "outlinewidth": 0,
             "ticks": ""
            },
            "colorscale": [
             [
              0,
              "#0d0887"
             ],
             [
              0.1111111111111111,
              "#46039f"
             ],
             [
              0.2222222222222222,
              "#7201a8"
             ],
             [
              0.3333333333333333,
              "#9c179e"
             ],
             [
              0.4444444444444444,
              "#bd3786"
             ],
             [
              0.5555555555555556,
              "#d8576b"
             ],
             [
              0.6666666666666666,
              "#ed7953"
             ],
             [
              0.7777777777777778,
              "#fb9f3a"
             ],
             [
              0.8888888888888888,
              "#fdca26"
             ],
             [
              1,
              "#f0f921"
             ]
            ],
            "type": "histogram2dcontour"
           }
          ],
          "mesh3d": [
           {
            "colorbar": {
             "outlinewidth": 0,
             "ticks": ""
            },
            "type": "mesh3d"
           }
          ],
          "parcoords": [
           {
            "line": {
             "colorbar": {
              "outlinewidth": 0,
              "ticks": ""
             }
            },
            "type": "parcoords"
           }
          ],
          "pie": [
           {
            "automargin": true,
            "type": "pie"
           }
          ],
          "scatter": [
           {
            "fillpattern": {
             "fillmode": "overlay",
             "size": 10,
             "solidity": 0.2
            },
            "type": "scatter"
           }
          ],
          "scatter3d": [
           {
            "line": {
             "colorbar": {
              "outlinewidth": 0,
              "ticks": ""
             }
            },
            "marker": {
             "colorbar": {
              "outlinewidth": 0,
              "ticks": ""
             }
            },
            "type": "scatter3d"
           }
          ],
          "scattercarpet": [
           {
            "marker": {
             "colorbar": {
              "outlinewidth": 0,
              "ticks": ""
             }
            },
            "type": "scattercarpet"
           }
          ],
          "scattergeo": [
           {
            "marker": {
             "colorbar": {
              "outlinewidth": 0,
              "ticks": ""
             }
            },
            "type": "scattergeo"
           }
          ],
          "scattergl": [
           {
            "marker": {
             "colorbar": {
              "outlinewidth": 0,
              "ticks": ""
             }
            },
            "type": "scattergl"
           }
          ],
          "scattermapbox": [
           {
            "marker": {
             "colorbar": {
              "outlinewidth": 0,
              "ticks": ""
             }
            },
            "type": "scattermapbox"
           }
          ],
          "scatterpolar": [
           {
            "marker": {
             "colorbar": {
              "outlinewidth": 0,
              "ticks": ""
             }
            },
            "type": "scatterpolar"
           }
          ],
          "scatterpolargl": [
           {
            "marker": {
             "colorbar": {
              "outlinewidth": 0,
              "ticks": ""
             }
            },
            "type": "scatterpolargl"
           }
          ],
          "scatterternary": [
           {
            "marker": {
             "colorbar": {
              "outlinewidth": 0,
              "ticks": ""
             }
            },
            "type": "scatterternary"
           }
          ],
          "surface": [
           {
            "colorbar": {
             "outlinewidth": 0,
             "ticks": ""
            },
            "colorscale": [
             [
              0,
              "#0d0887"
             ],
             [
              0.1111111111111111,
              "#46039f"
             ],
             [
              0.2222222222222222,
              "#7201a8"
             ],
             [
              0.3333333333333333,
              "#9c179e"
             ],
             [
              0.4444444444444444,
              "#bd3786"
             ],
             [
              0.5555555555555556,
              "#d8576b"
             ],
             [
              0.6666666666666666,
              "#ed7953"
             ],
             [
              0.7777777777777778,
              "#fb9f3a"
             ],
             [
              0.8888888888888888,
              "#fdca26"
             ],
             [
              1,
              "#f0f921"
             ]
            ],
            "type": "surface"
           }
          ],
          "table": [
           {
            "cells": {
             "fill": {
              "color": "#EBF0F8"
             },
             "line": {
              "color": "white"
             }
            },
            "header": {
             "fill": {
              "color": "#C8D4E3"
             },
             "line": {
              "color": "white"
             }
            },
            "type": "table"
           }
          ]
         },
         "layout": {
          "annotationdefaults": {
           "arrowcolor": "#2a3f5f",
           "arrowhead": 0,
           "arrowwidth": 1
          },
          "autotypenumbers": "strict",
          "coloraxis": {
           "colorbar": {
            "outlinewidth": 0,
            "ticks": ""
           }
          },
          "colorscale": {
           "diverging": [
            [
             0,
             "#8e0152"
            ],
            [
             0.1,
             "#c51b7d"
            ],
            [
             0.2,
             "#de77ae"
            ],
            [
             0.3,
             "#f1b6da"
            ],
            [
             0.4,
             "#fde0ef"
            ],
            [
             0.5,
             "#f7f7f7"
            ],
            [
             0.6,
             "#e6f5d0"
            ],
            [
             0.7,
             "#b8e186"
            ],
            [
             0.8,
             "#7fbc41"
            ],
            [
             0.9,
             "#4d9221"
            ],
            [
             1,
             "#276419"
            ]
           ],
           "sequential": [
            [
             0,
             "#0d0887"
            ],
            [
             0.1111111111111111,
             "#46039f"
            ],
            [
             0.2222222222222222,
             "#7201a8"
            ],
            [
             0.3333333333333333,
             "#9c179e"
            ],
            [
             0.4444444444444444,
             "#bd3786"
            ],
            [
             0.5555555555555556,
             "#d8576b"
            ],
            [
             0.6666666666666666,
             "#ed7953"
            ],
            [
             0.7777777777777778,
             "#fb9f3a"
            ],
            [
             0.8888888888888888,
             "#fdca26"
            ],
            [
             1,
             "#f0f921"
            ]
           ],
           "sequentialminus": [
            [
             0,
             "#0d0887"
            ],
            [
             0.1111111111111111,
             "#46039f"
            ],
            [
             0.2222222222222222,
             "#7201a8"
            ],
            [
             0.3333333333333333,
             "#9c179e"
            ],
            [
             0.4444444444444444,
             "#bd3786"
            ],
            [
             0.5555555555555556,
             "#d8576b"
            ],
            [
             0.6666666666666666,
             "#ed7953"
            ],
            [
             0.7777777777777778,
             "#fb9f3a"
            ],
            [
             0.8888888888888888,
             "#fdca26"
            ],
            [
             1,
             "#f0f921"
            ]
           ]
          },
          "colorway": [
           "#636efa",
           "#EF553B",
           "#00cc96",
           "#ab63fa",
           "#FFA15A",
           "#19d3f3",
           "#FF6692",
           "#B6E880",
           "#FF97FF",
           "#FECB52"
          ],
          "font": {
           "color": "#2a3f5f"
          },
          "geo": {
           "bgcolor": "white",
           "lakecolor": "white",
           "landcolor": "#E5ECF6",
           "showlakes": true,
           "showland": true,
           "subunitcolor": "white"
          },
          "hoverlabel": {
           "align": "left"
          },
          "hovermode": "closest",
          "mapbox": {
           "style": "light"
          },
          "paper_bgcolor": "white",
          "plot_bgcolor": "#E5ECF6",
          "polar": {
           "angularaxis": {
            "gridcolor": "white",
            "linecolor": "white",
            "ticks": ""
           },
           "bgcolor": "#E5ECF6",
           "radialaxis": {
            "gridcolor": "white",
            "linecolor": "white",
            "ticks": ""
           }
          },
          "scene": {
           "xaxis": {
            "backgroundcolor": "#E5ECF6",
            "gridcolor": "white",
            "gridwidth": 2,
            "linecolor": "white",
            "showbackground": true,
            "ticks": "",
            "zerolinecolor": "white"
           },
           "yaxis": {
            "backgroundcolor": "#E5ECF6",
            "gridcolor": "white",
            "gridwidth": 2,
            "linecolor": "white",
            "showbackground": true,
            "ticks": "",
            "zerolinecolor": "white"
           },
           "zaxis": {
            "backgroundcolor": "#E5ECF6",
            "gridcolor": "white",
            "gridwidth": 2,
            "linecolor": "white",
            "showbackground": true,
            "ticks": "",
            "zerolinecolor": "white"
           }
          },
          "shapedefaults": {
           "line": {
            "color": "#2a3f5f"
           }
          },
          "ternary": {
           "aaxis": {
            "gridcolor": "white",
            "linecolor": "white",
            "ticks": ""
           },
           "baxis": {
            "gridcolor": "white",
            "linecolor": "white",
            "ticks": ""
           },
           "bgcolor": "#E5ECF6",
           "caxis": {
            "gridcolor": "white",
            "linecolor": "white",
            "ticks": ""
           }
          },
          "title": {
           "x": 0.05
          },
          "xaxis": {
           "automargin": true,
           "gridcolor": "white",
           "linecolor": "white",
           "ticks": "",
           "title": {
            "standoff": 15
           },
           "zerolinecolor": "white",
           "zerolinewidth": 2
          },
          "yaxis": {
           "automargin": true,
           "gridcolor": "white",
           "linecolor": "white",
           "ticks": "",
           "title": {
            "standoff": 15
           },
           "zerolinecolor": "white",
           "zerolinewidth": 2
          }
         }
        },
        "title": {
         "text": "Tank Level & Pump Flow - [Scenario = Historical SCADA Simulation]"
        },
        "yaxis": {
         "title": {
          "text": "Level"
         }
        },
        "yaxis2": {
         "overlaying": "y",
         "position": 1,
         "side": "right",
         "title": {
          "text": "Flows"
         }
        }
       }
      },
      "text/html": [
       "<div>                            <div id=\"4034df0b-7161-40e3-ab04-7d5fe32a74ee\" class=\"plotly-graph-div\" style=\"height:525px; width:100%;\"></div>            <script type=\"text/javascript\">                require([\"plotly\"], function(Plotly) {                    window.PLOTLYENV=window.PLOTLYENV || {};                                    if (document.getElementById(\"4034df0b-7161-40e3-ab04-7d5fe32a74ee\")) {                    Plotly.newPlot(                        \"4034df0b-7161-40e3-ab04-7d5fe32a74ee\",                        [{\"name\":\"T-1\",\"x\":[\"2007-09-01T00:00:00\",\"2007-09-01T00:57:00\",\"2007-09-01T01:00:00\",\"2007-09-01T02:00:00\",\"2007-09-01T03:00:00\",\"2007-09-01T04:00:00\",\"2007-09-01T05:00:00\",\"2007-09-01T06:00:00\",\"2007-09-01T07:00:00\",\"2007-09-01T08:00:00\",\"2007-09-01T09:00:00\",\"2007-09-01T10:00:00\",\"2007-09-01T11:00:00\",\"2007-09-01T12:00:00\",\"2007-09-01T13:00:00\",\"2007-09-01T13:30:00\",\"2007-09-01T14:00:00\",\"2007-09-01T15:00:00\",\"2007-09-01T16:00:00\",\"2007-09-01T17:00:00\",\"2007-09-01T17:01:00\",\"2007-09-01T18:00:00\",\"2007-09-01T19:00:00\",\"2007-09-01T20:00:00\",\"2007-09-01T21:00:00\",\"2007-09-01T22:00:00\",\"2007-09-01T23:00:00\",\"2007-09-02T00:00:00\"],\"y\":[30.000005420629865,31.00316279368075,31.000428076883864,30.938403955789866,30.878816895242753,30.821518067117523,30.766451660867304,30.713487451882717,30.692186426492007,30.389525830787672,29.959449756567203,29.540461377659277,29.136858106173285,28.747858594452982,28.372718701873357,28.191743701872632,28.56169321359286,29.344101270236614,30.10740351633342,30.97261582102438,31.003218604227627,30.924321094461686,30.827322363992547,30.73406294016405,30.682363770241967,30.63265517649177,30.61444233469482,30.567356836647757],\"type\":\"scatter\"},{\"name\":\"PMP-1\",\"x\":[\"2007-09-01T00:00:00\",\"2007-09-01T00:57:00\",\"2007-09-01T01:00:00\",\"2007-09-01T02:00:00\",\"2007-09-01T03:00:00\",\"2007-09-01T04:00:00\",\"2007-09-01T05:00:00\",\"2007-09-01T06:00:00\",\"2007-09-01T07:00:00\",\"2007-09-01T08:00:00\",\"2007-09-01T09:00:00\",\"2007-09-01T10:00:00\",\"2007-09-01T11:00:00\",\"2007-09-01T12:00:00\",\"2007-09-01T13:00:00\",\"2007-09-01T13:30:00\",\"2007-09-01T14:00:00\",\"2007-09-01T15:00:00\",\"2007-09-01T16:00:00\",\"2007-09-01T17:00:00\",\"2007-09-01T17:01:00\",\"2007-09-01T18:00:00\",\"2007-09-01T19:00:00\",\"2007-09-01T20:00:00\",\"2007-09-01T21:00:00\",\"2007-09-01T22:00:00\",\"2007-09-01T23:00:00\",\"2007-09-02T00:00:00\"],\"y\":[65.45501655056967,69.18968357981174,69.19745433283126,69.3736401770606,69.54246344459352,69.70438622183362,69.85960874622239,70.0076535284762,70.10721004411866,70.99789698982002,72.17253603049603,73.29541369253563,74.36023789941062,75.37156790363593,76.33351627420305,70.62881317643338,69.65710708131152,67.59254353749999,65.37367394066669,62.73465998285571,69.19031509789659,69.41592878442445,69.69016166204469,69.9506859763599,70.09589662867201,70.2343685209325,70.28613760100897,70.4176936000965],\"yaxis\":\"y2\",\"type\":\"scatter\"},{\"name\":\"PMP-2\",\"x\":[\"2007-09-01T00:00:00\",\"2007-09-01T00:57:00\",\"2007-09-01T01:00:00\",\"2007-09-01T02:00:00\",\"2007-09-01T03:00:00\",\"2007-09-01T04:00:00\",\"2007-09-01T05:00:00\",\"2007-09-01T06:00:00\",\"2007-09-01T07:00:00\",\"2007-09-01T08:00:00\",\"2007-09-01T09:00:00\",\"2007-09-01T10:00:00\",\"2007-09-01T11:00:00\",\"2007-09-01T12:00:00\",\"2007-09-01T13:00:00\",\"2007-09-01T13:30:00\",\"2007-09-01T14:00:00\",\"2007-09-01T15:00:00\",\"2007-09-01T16:00:00\",\"2007-09-01T17:00:00\",\"2007-09-01T17:01:00\",\"2007-09-01T18:00:00\",\"2007-09-01T19:00:00\",\"2007-09-01T20:00:00\",\"2007-09-01T21:00:00\",\"2007-09-01T22:00:00\",\"2007-09-01T23:00:00\",\"2007-09-02T00:00:00\"],\"y\":[84.82375322690584,0.0,0.0,0.0,0.0,0.0,0.0,0.0,0.0,0.0,0.0,0.0,0.0,0.0,0.0,86.10338599990597,85.85499145368362,85.33961878637662,84.80446882099815,84.19319012063666,0.0,0.0,0.0,0.0,0.0,0.0,0.0,0.0],\"yaxis\":\"y2\",\"type\":\"scatter\"}],                        {\"template\":{\"data\":{\"histogram2dcontour\":[{\"type\":\"histogram2dcontour\",\"colorbar\":{\"outlinewidth\":0,\"ticks\":\"\"},\"colorscale\":[[0.0,\"#0d0887\"],[0.1111111111111111,\"#46039f\"],[0.2222222222222222,\"#7201a8\"],[0.3333333333333333,\"#9c179e\"],[0.4444444444444444,\"#bd3786\"],[0.5555555555555556,\"#d8576b\"],[0.6666666666666666,\"#ed7953\"],[0.7777777777777778,\"#fb9f3a\"],[0.8888888888888888,\"#fdca26\"],[1.0,\"#f0f921\"]]}],\"choropleth\":[{\"type\":\"choropleth\",\"colorbar\":{\"outlinewidth\":0,\"ticks\":\"\"}}],\"histogram2d\":[{\"type\":\"histogram2d\",\"colorbar\":{\"outlinewidth\":0,\"ticks\":\"\"},\"colorscale\":[[0.0,\"#0d0887\"],[0.1111111111111111,\"#46039f\"],[0.2222222222222222,\"#7201a8\"],[0.3333333333333333,\"#9c179e\"],[0.4444444444444444,\"#bd3786\"],[0.5555555555555556,\"#d8576b\"],[0.6666666666666666,\"#ed7953\"],[0.7777777777777778,\"#fb9f3a\"],[0.8888888888888888,\"#fdca26\"],[1.0,\"#f0f921\"]]}],\"heatmap\":[{\"type\":\"heatmap\",\"colorbar\":{\"outlinewidth\":0,\"ticks\":\"\"},\"colorscale\":[[0.0,\"#0d0887\"],[0.1111111111111111,\"#46039f\"],[0.2222222222222222,\"#7201a8\"],[0.3333333333333333,\"#9c179e\"],[0.4444444444444444,\"#bd3786\"],[0.5555555555555556,\"#d8576b\"],[0.6666666666666666,\"#ed7953\"],[0.7777777777777778,\"#fb9f3a\"],[0.8888888888888888,\"#fdca26\"],[1.0,\"#f0f921\"]]}],\"heatmapgl\":[{\"type\":\"heatmapgl\",\"colorbar\":{\"outlinewidth\":0,\"ticks\":\"\"},\"colorscale\":[[0.0,\"#0d0887\"],[0.1111111111111111,\"#46039f\"],[0.2222222222222222,\"#7201a8\"],[0.3333333333333333,\"#9c179e\"],[0.4444444444444444,\"#bd3786\"],[0.5555555555555556,\"#d8576b\"],[0.6666666666666666,\"#ed7953\"],[0.7777777777777778,\"#fb9f3a\"],[0.8888888888888888,\"#fdca26\"],[1.0,\"#f0f921\"]]}],\"contourcarpet\":[{\"type\":\"contourcarpet\",\"colorbar\":{\"outlinewidth\":0,\"ticks\":\"\"}}],\"contour\":[{\"type\":\"contour\",\"colorbar\":{\"outlinewidth\":0,\"ticks\":\"\"},\"colorscale\":[[0.0,\"#0d0887\"],[0.1111111111111111,\"#46039f\"],[0.2222222222222222,\"#7201a8\"],[0.3333333333333333,\"#9c179e\"],[0.4444444444444444,\"#bd3786\"],[0.5555555555555556,\"#d8576b\"],[0.6666666666666666,\"#ed7953\"],[0.7777777777777778,\"#fb9f3a\"],[0.8888888888888888,\"#fdca26\"],[1.0,\"#f0f921\"]]}],\"surface\":[{\"type\":\"surface\",\"colorbar\":{\"outlinewidth\":0,\"ticks\":\"\"},\"colorscale\":[[0.0,\"#0d0887\"],[0.1111111111111111,\"#46039f\"],[0.2222222222222222,\"#7201a8\"],[0.3333333333333333,\"#9c179e\"],[0.4444444444444444,\"#bd3786\"],[0.5555555555555556,\"#d8576b\"],[0.6666666666666666,\"#ed7953\"],[0.7777777777777778,\"#fb9f3a\"],[0.8888888888888888,\"#fdca26\"],[1.0,\"#f0f921\"]]}],\"mesh3d\":[{\"type\":\"mesh3d\",\"colorbar\":{\"outlinewidth\":0,\"ticks\":\"\"}}],\"scatter\":[{\"fillpattern\":{\"fillmode\":\"overlay\",\"size\":10,\"solidity\":0.2},\"type\":\"scatter\"}],\"parcoords\":[{\"type\":\"parcoords\",\"line\":{\"colorbar\":{\"outlinewidth\":0,\"ticks\":\"\"}}}],\"scatterpolargl\":[{\"type\":\"scatterpolargl\",\"marker\":{\"colorbar\":{\"outlinewidth\":0,\"ticks\":\"\"}}}],\"bar\":[{\"error_x\":{\"color\":\"#2a3f5f\"},\"error_y\":{\"color\":\"#2a3f5f\"},\"marker\":{\"line\":{\"color\":\"#E5ECF6\",\"width\":0.5},\"pattern\":{\"fillmode\":\"overlay\",\"size\":10,\"solidity\":0.2}},\"type\":\"bar\"}],\"scattergeo\":[{\"type\":\"scattergeo\",\"marker\":{\"colorbar\":{\"outlinewidth\":0,\"ticks\":\"\"}}}],\"scatterpolar\":[{\"type\":\"scatterpolar\",\"marker\":{\"colorbar\":{\"outlinewidth\":0,\"ticks\":\"\"}}}],\"histogram\":[{\"marker\":{\"pattern\":{\"fillmode\":\"overlay\",\"size\":10,\"solidity\":0.2}},\"type\":\"histogram\"}],\"scattergl\":[{\"type\":\"scattergl\",\"marker\":{\"colorbar\":{\"outlinewidth\":0,\"ticks\":\"\"}}}],\"scatter3d\":[{\"type\":\"scatter3d\",\"line\":{\"colorbar\":{\"outlinewidth\":0,\"ticks\":\"\"}},\"marker\":{\"colorbar\":{\"outlinewidth\":0,\"ticks\":\"\"}}}],\"scattermapbox\":[{\"type\":\"scattermapbox\",\"marker\":{\"colorbar\":{\"outlinewidth\":0,\"ticks\":\"\"}}}],\"scatterternary\":[{\"type\":\"scatterternary\",\"marker\":{\"colorbar\":{\"outlinewidth\":0,\"ticks\":\"\"}}}],\"scattercarpet\":[{\"type\":\"scattercarpet\",\"marker\":{\"colorbar\":{\"outlinewidth\":0,\"ticks\":\"\"}}}],\"carpet\":[{\"aaxis\":{\"endlinecolor\":\"#2a3f5f\",\"gridcolor\":\"white\",\"linecolor\":\"white\",\"minorgridcolor\":\"white\",\"startlinecolor\":\"#2a3f5f\"},\"baxis\":{\"endlinecolor\":\"#2a3f5f\",\"gridcolor\":\"white\",\"linecolor\":\"white\",\"minorgridcolor\":\"white\",\"startlinecolor\":\"#2a3f5f\"},\"type\":\"carpet\"}],\"table\":[{\"cells\":{\"fill\":{\"color\":\"#EBF0F8\"},\"line\":{\"color\":\"white\"}},\"header\":{\"fill\":{\"color\":\"#C8D4E3\"},\"line\":{\"color\":\"white\"}},\"type\":\"table\"}],\"barpolar\":[{\"marker\":{\"line\":{\"color\":\"#E5ECF6\",\"width\":0.5},\"pattern\":{\"fillmode\":\"overlay\",\"size\":10,\"solidity\":0.2}},\"type\":\"barpolar\"}],\"pie\":[{\"automargin\":true,\"type\":\"pie\"}]},\"layout\":{\"autotypenumbers\":\"strict\",\"colorway\":[\"#636efa\",\"#EF553B\",\"#00cc96\",\"#ab63fa\",\"#FFA15A\",\"#19d3f3\",\"#FF6692\",\"#B6E880\",\"#FF97FF\",\"#FECB52\"],\"font\":{\"color\":\"#2a3f5f\"},\"hovermode\":\"closest\",\"hoverlabel\":{\"align\":\"left\"},\"paper_bgcolor\":\"white\",\"plot_bgcolor\":\"#E5ECF6\",\"polar\":{\"bgcolor\":\"#E5ECF6\",\"angularaxis\":{\"gridcolor\":\"white\",\"linecolor\":\"white\",\"ticks\":\"\"},\"radialaxis\":{\"gridcolor\":\"white\",\"linecolor\":\"white\",\"ticks\":\"\"}},\"ternary\":{\"bgcolor\":\"#E5ECF6\",\"aaxis\":{\"gridcolor\":\"white\",\"linecolor\":\"white\",\"ticks\":\"\"},\"baxis\":{\"gridcolor\":\"white\",\"linecolor\":\"white\",\"ticks\":\"\"},\"caxis\":{\"gridcolor\":\"white\",\"linecolor\":\"white\",\"ticks\":\"\"}},\"coloraxis\":{\"colorbar\":{\"outlinewidth\":0,\"ticks\":\"\"}},\"colorscale\":{\"sequential\":[[0.0,\"#0d0887\"],[0.1111111111111111,\"#46039f\"],[0.2222222222222222,\"#7201a8\"],[0.3333333333333333,\"#9c179e\"],[0.4444444444444444,\"#bd3786\"],[0.5555555555555556,\"#d8576b\"],[0.6666666666666666,\"#ed7953\"],[0.7777777777777778,\"#fb9f3a\"],[0.8888888888888888,\"#fdca26\"],[1.0,\"#f0f921\"]],\"sequentialminus\":[[0.0,\"#0d0887\"],[0.1111111111111111,\"#46039f\"],[0.2222222222222222,\"#7201a8\"],[0.3333333333333333,\"#9c179e\"],[0.4444444444444444,\"#bd3786\"],[0.5555555555555556,\"#d8576b\"],[0.6666666666666666,\"#ed7953\"],[0.7777777777777778,\"#fb9f3a\"],[0.8888888888888888,\"#fdca26\"],[1.0,\"#f0f921\"]],\"diverging\":[[0,\"#8e0152\"],[0.1,\"#c51b7d\"],[0.2,\"#de77ae\"],[0.3,\"#f1b6da\"],[0.4,\"#fde0ef\"],[0.5,\"#f7f7f7\"],[0.6,\"#e6f5d0\"],[0.7,\"#b8e186\"],[0.8,\"#7fbc41\"],[0.9,\"#4d9221\"],[1,\"#276419\"]]},\"xaxis\":{\"gridcolor\":\"white\",\"linecolor\":\"white\",\"ticks\":\"\",\"title\":{\"standoff\":15},\"zerolinecolor\":\"white\",\"automargin\":true,\"zerolinewidth\":2},\"yaxis\":{\"gridcolor\":\"white\",\"linecolor\":\"white\",\"ticks\":\"\",\"title\":{\"standoff\":15},\"zerolinecolor\":\"white\",\"automargin\":true,\"zerolinewidth\":2},\"scene\":{\"xaxis\":{\"backgroundcolor\":\"#E5ECF6\",\"gridcolor\":\"white\",\"linecolor\":\"white\",\"showbackground\":true,\"ticks\":\"\",\"zerolinecolor\":\"white\",\"gridwidth\":2},\"yaxis\":{\"backgroundcolor\":\"#E5ECF6\",\"gridcolor\":\"white\",\"linecolor\":\"white\",\"showbackground\":true,\"ticks\":\"\",\"zerolinecolor\":\"white\",\"gridwidth\":2},\"zaxis\":{\"backgroundcolor\":\"#E5ECF6\",\"gridcolor\":\"white\",\"linecolor\":\"white\",\"showbackground\":true,\"ticks\":\"\",\"zerolinecolor\":\"white\",\"gridwidth\":2}},\"shapedefaults\":{\"line\":{\"color\":\"#2a3f5f\"}},\"annotationdefaults\":{\"arrowcolor\":\"#2a3f5f\",\"arrowhead\":0,\"arrowwidth\":1},\"geo\":{\"bgcolor\":\"white\",\"landcolor\":\"#E5ECF6\",\"subunitcolor\":\"white\",\"showland\":true,\"showlakes\":true,\"lakecolor\":\"white\"},\"title\":{\"x\":0.05},\"mapbox\":{\"style\":\"light\"}}},\"title\":{\"text\":\"Tank Level & Pump Flow - [Scenario = Historical SCADA Simulation]\"},\"yaxis2\":{\"overlaying\":\"y\",\"side\":\"right\",\"position\":1.0,\"title\":{\"text\":\"Flows\"}},\"margin\":{\"l\":10,\"r\":10,\"t\":50,\"b\":20},\"legend\":{\"orientation\":\"h\",\"xanchor\":\"center\",\"x\":0.5},\"yaxis\":{\"title\":{\"text\":\"Level\"}},\"hovermode\":\"x\",\"showlegend\":true},                        {\"responsive\": true}                    ).then(function(){\n",
       "                            \n",
       "var gd = document.getElementById('4034df0b-7161-40e3-ab04-7d5fe32a74ee');\n",
       "var x = new MutationObserver(function (mutations, observer) {{\n",
       "        var display = window.getComputedStyle(gd).display;\n",
       "        if (!display || display === 'none') {{\n",
       "            console.log([gd, 'removed!']);\n",
       "            Plotly.purge(gd);\n",
       "            observer.disconnect();\n",
       "        }}\n",
       "}});\n",
       "\n",
       "// Listen for the removal of the full notebook cells\n",
       "var notebookContainer = gd.closest('#notebook-container');\n",
       "if (notebookContainer) {{\n",
       "    x.observe(notebookContainer, {childList: true});\n",
       "}}\n",
       "\n",
       "// Listen for the clearing of the current output cell\n",
       "var outputEl = gd.closest('.output');\n",
       "if (outputEl) {{\n",
       "    x.observe(outputEl, {childList: true});\n",
       "}}\n",
       "\n",
       "                        })                };                });            </script>        </div>"
      ]
     },
     "metadata": {},
     "output_type": "display_data"
    }
   ],
   "source": [
    "fig = go.Figure()\n",
    "chart_name = f\"Tank Level & Pump Flow - [Scenario = {model.ActiveScenario.Label}]\"\n",
    "\n",
    "def add_line_chart_h(fig, x_values: pd.Series, y_values: pd.Series, name: str, right_y:bool=False):\n",
    "    y_axis_name = \"y2\" if right_y else None\n",
    "    return fig.add_trace(go.Scatter(x=x_values, y=y_values, name=name,yaxis=y_axis_name))\n",
    "\n",
    "fig = add_line_chart_h(fig, df[df.columns[0]], df[df.columns[1]], df.columns[1])\n",
    "fig = add_line_chart_h(fig, df[df.columns[0]], df[df.columns[2]], df.columns[2], True)\n",
    "fig = add_line_chart_h(fig, df[df.columns[0]], df[df.columns[3]], df.columns[3],True)\n",
    "\n",
    "fig = fig.update_layout(\n",
    "        title_text=chart_name,\n",
    "        yaxis=dict(title=\"Level\"),\n",
    "        yaxis2=dict(overlaying=\"y\", side=\"right\", position=1.0, title=\"Flows\"),\n",
    "        margin=dict(l=10, r=10, t=50, b=20),\n",
    "        hovermode='x', # Enable compare data on hover by default\n",
    "        showlegend=True,\n",
    "        legend=dict(orientation=\"h\",xanchor=\"center\", x=0.5),\n",
    "    )\n",
    "\n",
    "fig.show()"
   ]
  },
  {
   "cell_type": "markdown",
   "metadata": {},
   "source": [
    "## Chart/graph/plot the data in two panels (sub-plots, just like in WaterGEMS)"
   ]
  },
  {
   "cell_type": "code",
   "execution_count": 23,
   "metadata": {},
   "outputs": [
    {
     "data": {
      "application/vnd.plotly.v1+json": {
       "config": {
        "plotlyServerURL": "https://plot.ly"
       },
       "data": [
        {
         "name": "T-1",
         "type": "scatter",
         "x": [
          "2007-09-01T00:00:00",
          "2007-09-01T00:57:00",
          "2007-09-01T01:00:00",
          "2007-09-01T02:00:00",
          "2007-09-01T03:00:00",
          "2007-09-01T04:00:00",
          "2007-09-01T05:00:00",
          "2007-09-01T06:00:00",
          "2007-09-01T07:00:00",
          "2007-09-01T08:00:00",
          "2007-09-01T09:00:00",
          "2007-09-01T10:00:00",
          "2007-09-01T11:00:00",
          "2007-09-01T12:00:00",
          "2007-09-01T13:00:00",
          "2007-09-01T13:30:00",
          "2007-09-01T14:00:00",
          "2007-09-01T15:00:00",
          "2007-09-01T16:00:00",
          "2007-09-01T17:00:00",
          "2007-09-01T17:01:00",
          "2007-09-01T18:00:00",
          "2007-09-01T19:00:00",
          "2007-09-01T20:00:00",
          "2007-09-01T21:00:00",
          "2007-09-01T22:00:00",
          "2007-09-01T23:00:00",
          "2007-09-02T00:00:00"
         ],
         "xaxis": "x",
         "y": [
          30.000005420629865,
          31.00316279368075,
          31.000428076883864,
          30.938403955789866,
          30.878816895242753,
          30.821518067117523,
          30.766451660867304,
          30.713487451882717,
          30.692186426492007,
          30.389525830787672,
          29.959449756567203,
          29.540461377659277,
          29.136858106173285,
          28.747858594452982,
          28.372718701873357,
          28.191743701872632,
          28.56169321359286,
          29.344101270236614,
          30.10740351633342,
          30.97261582102438,
          31.003218604227627,
          30.924321094461686,
          30.827322363992547,
          30.73406294016405,
          30.682363770241967,
          30.63265517649177,
          30.61444233469482,
          30.567356836647757
         ],
         "yaxis": "y"
        },
        {
         "name": "PMP-1",
         "type": "scatter",
         "x": [
          "2007-09-01T00:00:00",
          "2007-09-01T00:57:00",
          "2007-09-01T01:00:00",
          "2007-09-01T02:00:00",
          "2007-09-01T03:00:00",
          "2007-09-01T04:00:00",
          "2007-09-01T05:00:00",
          "2007-09-01T06:00:00",
          "2007-09-01T07:00:00",
          "2007-09-01T08:00:00",
          "2007-09-01T09:00:00",
          "2007-09-01T10:00:00",
          "2007-09-01T11:00:00",
          "2007-09-01T12:00:00",
          "2007-09-01T13:00:00",
          "2007-09-01T13:30:00",
          "2007-09-01T14:00:00",
          "2007-09-01T15:00:00",
          "2007-09-01T16:00:00",
          "2007-09-01T17:00:00",
          "2007-09-01T17:01:00",
          "2007-09-01T18:00:00",
          "2007-09-01T19:00:00",
          "2007-09-01T20:00:00",
          "2007-09-01T21:00:00",
          "2007-09-01T22:00:00",
          "2007-09-01T23:00:00",
          "2007-09-02T00:00:00"
         ],
         "xaxis": "x2",
         "y": [
          65.45501655056967,
          69.18968357981174,
          69.19745433283126,
          69.3736401770606,
          69.54246344459352,
          69.70438622183362,
          69.85960874622239,
          70.0076535284762,
          70.10721004411866,
          70.99789698982002,
          72.17253603049603,
          73.29541369253563,
          74.36023789941062,
          75.37156790363593,
          76.33351627420305,
          70.62881317643338,
          69.65710708131152,
          67.59254353749999,
          65.37367394066669,
          62.73465998285571,
          69.19031509789659,
          69.41592878442445,
          69.69016166204469,
          69.9506859763599,
          70.09589662867201,
          70.2343685209325,
          70.28613760100897,
          70.4176936000965
         ],
         "yaxis": "y2"
        },
        {
         "name": "PMP-2",
         "type": "scatter",
         "x": [
          "2007-09-01T00:00:00",
          "2007-09-01T00:57:00",
          "2007-09-01T01:00:00",
          "2007-09-01T02:00:00",
          "2007-09-01T03:00:00",
          "2007-09-01T04:00:00",
          "2007-09-01T05:00:00",
          "2007-09-01T06:00:00",
          "2007-09-01T07:00:00",
          "2007-09-01T08:00:00",
          "2007-09-01T09:00:00",
          "2007-09-01T10:00:00",
          "2007-09-01T11:00:00",
          "2007-09-01T12:00:00",
          "2007-09-01T13:00:00",
          "2007-09-01T13:30:00",
          "2007-09-01T14:00:00",
          "2007-09-01T15:00:00",
          "2007-09-01T16:00:00",
          "2007-09-01T17:00:00",
          "2007-09-01T17:01:00",
          "2007-09-01T18:00:00",
          "2007-09-01T19:00:00",
          "2007-09-01T20:00:00",
          "2007-09-01T21:00:00",
          "2007-09-01T22:00:00",
          "2007-09-01T23:00:00",
          "2007-09-02T00:00:00"
         ],
         "xaxis": "x2",
         "y": [
          84.82375322690584,
          0,
          0,
          0,
          0,
          0,
          0,
          0,
          0,
          0,
          0,
          0,
          0,
          0,
          0,
          86.10338599990597,
          85.85499145368362,
          85.33961878637662,
          84.80446882099815,
          84.19319012063666,
          0,
          0,
          0,
          0,
          0,
          0,
          0,
          0
         ],
         "yaxis": "y2"
        }
       ],
       "layout": {
        "hovermode": "x",
        "legend": {
         "orientation": "h",
         "x": 0.5,
         "xanchor": "center"
        },
        "margin": {
         "b": 20,
         "l": 30,
         "r": 30,
         "t": 50
        },
        "showlegend": true,
        "template": {
         "data": {
          "bar": [
           {
            "error_x": {
             "color": "#2a3f5f"
            },
            "error_y": {
             "color": "#2a3f5f"
            },
            "marker": {
             "line": {
              "color": "#E5ECF6",
              "width": 0.5
             },
             "pattern": {
              "fillmode": "overlay",
              "size": 10,
              "solidity": 0.2
             }
            },
            "type": "bar"
           }
          ],
          "barpolar": [
           {
            "marker": {
             "line": {
              "color": "#E5ECF6",
              "width": 0.5
             },
             "pattern": {
              "fillmode": "overlay",
              "size": 10,
              "solidity": 0.2
             }
            },
            "type": "barpolar"
           }
          ],
          "carpet": [
           {
            "aaxis": {
             "endlinecolor": "#2a3f5f",
             "gridcolor": "white",
             "linecolor": "white",
             "minorgridcolor": "white",
             "startlinecolor": "#2a3f5f"
            },
            "baxis": {
             "endlinecolor": "#2a3f5f",
             "gridcolor": "white",
             "linecolor": "white",
             "minorgridcolor": "white",
             "startlinecolor": "#2a3f5f"
            },
            "type": "carpet"
           }
          ],
          "choropleth": [
           {
            "colorbar": {
             "outlinewidth": 0,
             "ticks": ""
            },
            "type": "choropleth"
           }
          ],
          "contour": [
           {
            "colorbar": {
             "outlinewidth": 0,
             "ticks": ""
            },
            "colorscale": [
             [
              0,
              "#0d0887"
             ],
             [
              0.1111111111111111,
              "#46039f"
             ],
             [
              0.2222222222222222,
              "#7201a8"
             ],
             [
              0.3333333333333333,
              "#9c179e"
             ],
             [
              0.4444444444444444,
              "#bd3786"
             ],
             [
              0.5555555555555556,
              "#d8576b"
             ],
             [
              0.6666666666666666,
              "#ed7953"
             ],
             [
              0.7777777777777778,
              "#fb9f3a"
             ],
             [
              0.8888888888888888,
              "#fdca26"
             ],
             [
              1,
              "#f0f921"
             ]
            ],
            "type": "contour"
           }
          ],
          "contourcarpet": [
           {
            "colorbar": {
             "outlinewidth": 0,
             "ticks": ""
            },
            "type": "contourcarpet"
           }
          ],
          "heatmap": [
           {
            "colorbar": {
             "outlinewidth": 0,
             "ticks": ""
            },
            "colorscale": [
             [
              0,
              "#0d0887"
             ],
             [
              0.1111111111111111,
              "#46039f"
             ],
             [
              0.2222222222222222,
              "#7201a8"
             ],
             [
              0.3333333333333333,
              "#9c179e"
             ],
             [
              0.4444444444444444,
              "#bd3786"
             ],
             [
              0.5555555555555556,
              "#d8576b"
             ],
             [
              0.6666666666666666,
              "#ed7953"
             ],
             [
              0.7777777777777778,
              "#fb9f3a"
             ],
             [
              0.8888888888888888,
              "#fdca26"
             ],
             [
              1,
              "#f0f921"
             ]
            ],
            "type": "heatmap"
           }
          ],
          "heatmapgl": [
           {
            "colorbar": {
             "outlinewidth": 0,
             "ticks": ""
            },
            "colorscale": [
             [
              0,
              "#0d0887"
             ],
             [
              0.1111111111111111,
              "#46039f"
             ],
             [
              0.2222222222222222,
              "#7201a8"
             ],
             [
              0.3333333333333333,
              "#9c179e"
             ],
             [
              0.4444444444444444,
              "#bd3786"
             ],
             [
              0.5555555555555556,
              "#d8576b"
             ],
             [
              0.6666666666666666,
              "#ed7953"
             ],
             [
              0.7777777777777778,
              "#fb9f3a"
             ],
             [
              0.8888888888888888,
              "#fdca26"
             ],
             [
              1,
              "#f0f921"
             ]
            ],
            "type": "heatmapgl"
           }
          ],
          "histogram": [
           {
            "marker": {
             "pattern": {
              "fillmode": "overlay",
              "size": 10,
              "solidity": 0.2
             }
            },
            "type": "histogram"
           }
          ],
          "histogram2d": [
           {
            "colorbar": {
             "outlinewidth": 0,
             "ticks": ""
            },
            "colorscale": [
             [
              0,
              "#0d0887"
             ],
             [
              0.1111111111111111,
              "#46039f"
             ],
             [
              0.2222222222222222,
              "#7201a8"
             ],
             [
              0.3333333333333333,
              "#9c179e"
             ],
             [
              0.4444444444444444,
              "#bd3786"
             ],
             [
              0.5555555555555556,
              "#d8576b"
             ],
             [
              0.6666666666666666,
              "#ed7953"
             ],
             [
              0.7777777777777778,
              "#fb9f3a"
             ],
             [
              0.8888888888888888,
              "#fdca26"
             ],
             [
              1,
              "#f0f921"
             ]
            ],
            "type": "histogram2d"
           }
          ],
          "histogram2dcontour": [
           {
            "colorbar": {
             "outlinewidth": 0,
             "ticks": ""
            },
            "colorscale": [
             [
              0,
              "#0d0887"
             ],
             [
              0.1111111111111111,
              "#46039f"
             ],
             [
              0.2222222222222222,
              "#7201a8"
             ],
             [
              0.3333333333333333,
              "#9c179e"
             ],
             [
              0.4444444444444444,
              "#bd3786"
             ],
             [
              0.5555555555555556,
              "#d8576b"
             ],
             [
              0.6666666666666666,
              "#ed7953"
             ],
             [
              0.7777777777777778,
              "#fb9f3a"
             ],
             [
              0.8888888888888888,
              "#fdca26"
             ],
             [
              1,
              "#f0f921"
             ]
            ],
            "type": "histogram2dcontour"
           }
          ],
          "mesh3d": [
           {
            "colorbar": {
             "outlinewidth": 0,
             "ticks": ""
            },
            "type": "mesh3d"
           }
          ],
          "parcoords": [
           {
            "line": {
             "colorbar": {
              "outlinewidth": 0,
              "ticks": ""
             }
            },
            "type": "parcoords"
           }
          ],
          "pie": [
           {
            "automargin": true,
            "type": "pie"
           }
          ],
          "scatter": [
           {
            "fillpattern": {
             "fillmode": "overlay",
             "size": 10,
             "solidity": 0.2
            },
            "type": "scatter"
           }
          ],
          "scatter3d": [
           {
            "line": {
             "colorbar": {
              "outlinewidth": 0,
              "ticks": ""
             }
            },
            "marker": {
             "colorbar": {
              "outlinewidth": 0,
              "ticks": ""
             }
            },
            "type": "scatter3d"
           }
          ],
          "scattercarpet": [
           {
            "marker": {
             "colorbar": {
              "outlinewidth": 0,
              "ticks": ""
             }
            },
            "type": "scattercarpet"
           }
          ],
          "scattergeo": [
           {
            "marker": {
             "colorbar": {
              "outlinewidth": 0,
              "ticks": ""
             }
            },
            "type": "scattergeo"
           }
          ],
          "scattergl": [
           {
            "marker": {
             "colorbar": {
              "outlinewidth": 0,
              "ticks": ""
             }
            },
            "type": "scattergl"
           }
          ],
          "scattermapbox": [
           {
            "marker": {
             "colorbar": {
              "outlinewidth": 0,
              "ticks": ""
             }
            },
            "type": "scattermapbox"
           }
          ],
          "scatterpolar": [
           {
            "marker": {
             "colorbar": {
              "outlinewidth": 0,
              "ticks": ""
             }
            },
            "type": "scatterpolar"
           }
          ],
          "scatterpolargl": [
           {
            "marker": {
             "colorbar": {
              "outlinewidth": 0,
              "ticks": ""
             }
            },
            "type": "scatterpolargl"
           }
          ],
          "scatterternary": [
           {
            "marker": {
             "colorbar": {
              "outlinewidth": 0,
              "ticks": ""
             }
            },
            "type": "scatterternary"
           }
          ],
          "surface": [
           {
            "colorbar": {
             "outlinewidth": 0,
             "ticks": ""
            },
            "colorscale": [
             [
              0,
              "#0d0887"
             ],
             [
              0.1111111111111111,
              "#46039f"
             ],
             [
              0.2222222222222222,
              "#7201a8"
             ],
             [
              0.3333333333333333,
              "#9c179e"
             ],
             [
              0.4444444444444444,
              "#bd3786"
             ],
             [
              0.5555555555555556,
              "#d8576b"
             ],
             [
              0.6666666666666666,
              "#ed7953"
             ],
             [
              0.7777777777777778,
              "#fb9f3a"
             ],
             [
              0.8888888888888888,
              "#fdca26"
             ],
             [
              1,
              "#f0f921"
             ]
            ],
            "type": "surface"
           }
          ],
          "table": [
           {
            "cells": {
             "fill": {
              "color": "#EBF0F8"
             },
             "line": {
              "color": "white"
             }
            },
            "header": {
             "fill": {
              "color": "#C8D4E3"
             },
             "line": {
              "color": "white"
             }
            },
            "type": "table"
           }
          ]
         },
         "layout": {
          "annotationdefaults": {
           "arrowcolor": "#2a3f5f",
           "arrowhead": 0,
           "arrowwidth": 1
          },
          "autotypenumbers": "strict",
          "coloraxis": {
           "colorbar": {
            "outlinewidth": 0,
            "ticks": ""
           }
          },
          "colorscale": {
           "diverging": [
            [
             0,
             "#8e0152"
            ],
            [
             0.1,
             "#c51b7d"
            ],
            [
             0.2,
             "#de77ae"
            ],
            [
             0.3,
             "#f1b6da"
            ],
            [
             0.4,
             "#fde0ef"
            ],
            [
             0.5,
             "#f7f7f7"
            ],
            [
             0.6,
             "#e6f5d0"
            ],
            [
             0.7,
             "#b8e186"
            ],
            [
             0.8,
             "#7fbc41"
            ],
            [
             0.9,
             "#4d9221"
            ],
            [
             1,
             "#276419"
            ]
           ],
           "sequential": [
            [
             0,
             "#0d0887"
            ],
            [
             0.1111111111111111,
             "#46039f"
            ],
            [
             0.2222222222222222,
             "#7201a8"
            ],
            [
             0.3333333333333333,
             "#9c179e"
            ],
            [
             0.4444444444444444,
             "#bd3786"
            ],
            [
             0.5555555555555556,
             "#d8576b"
            ],
            [
             0.6666666666666666,
             "#ed7953"
            ],
            [
             0.7777777777777778,
             "#fb9f3a"
            ],
            [
             0.8888888888888888,
             "#fdca26"
            ],
            [
             1,
             "#f0f921"
            ]
           ],
           "sequentialminus": [
            [
             0,
             "#0d0887"
            ],
            [
             0.1111111111111111,
             "#46039f"
            ],
            [
             0.2222222222222222,
             "#7201a8"
            ],
            [
             0.3333333333333333,
             "#9c179e"
            ],
            [
             0.4444444444444444,
             "#bd3786"
            ],
            [
             0.5555555555555556,
             "#d8576b"
            ],
            [
             0.6666666666666666,
             "#ed7953"
            ],
            [
             0.7777777777777778,
             "#fb9f3a"
            ],
            [
             0.8888888888888888,
             "#fdca26"
            ],
            [
             1,
             "#f0f921"
            ]
           ]
          },
          "colorway": [
           "#636efa",
           "#EF553B",
           "#00cc96",
           "#ab63fa",
           "#FFA15A",
           "#19d3f3",
           "#FF6692",
           "#B6E880",
           "#FF97FF",
           "#FECB52"
          ],
          "font": {
           "color": "#2a3f5f"
          },
          "geo": {
           "bgcolor": "white",
           "lakecolor": "white",
           "landcolor": "#E5ECF6",
           "showlakes": true,
           "showland": true,
           "subunitcolor": "white"
          },
          "hoverlabel": {
           "align": "left"
          },
          "hovermode": "closest",
          "mapbox": {
           "style": "light"
          },
          "paper_bgcolor": "white",
          "plot_bgcolor": "#E5ECF6",
          "polar": {
           "angularaxis": {
            "gridcolor": "white",
            "linecolor": "white",
            "ticks": ""
           },
           "bgcolor": "#E5ECF6",
           "radialaxis": {
            "gridcolor": "white",
            "linecolor": "white",
            "ticks": ""
           }
          },
          "scene": {
           "xaxis": {
            "backgroundcolor": "#E5ECF6",
            "gridcolor": "white",
            "gridwidth": 2,
            "linecolor": "white",
            "showbackground": true,
            "ticks": "",
            "zerolinecolor": "white"
           },
           "yaxis": {
            "backgroundcolor": "#E5ECF6",
            "gridcolor": "white",
            "gridwidth": 2,
            "linecolor": "white",
            "showbackground": true,
            "ticks": "",
            "zerolinecolor": "white"
           },
           "zaxis": {
            "backgroundcolor": "#E5ECF6",
            "gridcolor": "white",
            "gridwidth": 2,
            "linecolor": "white",
            "showbackground": true,
            "ticks": "",
            "zerolinecolor": "white"
           }
          },
          "shapedefaults": {
           "line": {
            "color": "#2a3f5f"
           }
          },
          "ternary": {
           "aaxis": {
            "gridcolor": "white",
            "linecolor": "white",
            "ticks": ""
           },
           "baxis": {
            "gridcolor": "white",
            "linecolor": "white",
            "ticks": ""
           },
           "bgcolor": "#E5ECF6",
           "caxis": {
            "gridcolor": "white",
            "linecolor": "white",
            "ticks": ""
           }
          },
          "title": {
           "x": 0.05
          },
          "xaxis": {
           "automargin": true,
           "gridcolor": "white",
           "linecolor": "white",
           "ticks": "",
           "title": {
            "standoff": 15
           },
           "zerolinecolor": "white",
           "zerolinewidth": 2
          },
          "yaxis": {
           "automargin": true,
           "gridcolor": "white",
           "linecolor": "white",
           "ticks": "",
           "title": {
            "standoff": 15
           },
           "zerolinecolor": "white",
           "zerolinewidth": 2
          }
         }
        },
        "title": {
         "text": "Tank Level & Pump Flow (WaterGEMS Style) - [Scenario = Historical SCADA Simulation]"
        },
        "xaxis": {
         "anchor": "y",
         "domain": [
          0,
          1
         ],
         "matches": "x2",
         "showticklabels": false
        },
        "xaxis2": {
         "anchor": "y2",
         "domain": [
          0,
          1
         ]
        },
        "yaxis": {
         "anchor": "x",
         "domain": [
          0.5,
          1
         ],
         "title": {
          "text": "Level (m)"
         }
        },
        "yaxis2": {
         "anchor": "x2",
         "domain": [
          0,
          0.5
         ],
         "title": {
          "text": "Flow  (L/s)"
         }
        }
       }
      },
      "text/html": [
       "<div>                            <div id=\"f2f958a6-48e1-4737-bd58-8bc4f03a2ee5\" class=\"plotly-graph-div\" style=\"height:525px; width:100%;\"></div>            <script type=\"text/javascript\">                require([\"plotly\"], function(Plotly) {                    window.PLOTLYENV=window.PLOTLYENV || {};                                    if (document.getElementById(\"f2f958a6-48e1-4737-bd58-8bc4f03a2ee5\")) {                    Plotly.newPlot(                        \"f2f958a6-48e1-4737-bd58-8bc4f03a2ee5\",                        [{\"name\":\"T-1\",\"x\":[\"2007-09-01T00:00:00\",\"2007-09-01T00:57:00\",\"2007-09-01T01:00:00\",\"2007-09-01T02:00:00\",\"2007-09-01T03:00:00\",\"2007-09-01T04:00:00\",\"2007-09-01T05:00:00\",\"2007-09-01T06:00:00\",\"2007-09-01T07:00:00\",\"2007-09-01T08:00:00\",\"2007-09-01T09:00:00\",\"2007-09-01T10:00:00\",\"2007-09-01T11:00:00\",\"2007-09-01T12:00:00\",\"2007-09-01T13:00:00\",\"2007-09-01T13:30:00\",\"2007-09-01T14:00:00\",\"2007-09-01T15:00:00\",\"2007-09-01T16:00:00\",\"2007-09-01T17:00:00\",\"2007-09-01T17:01:00\",\"2007-09-01T18:00:00\",\"2007-09-01T19:00:00\",\"2007-09-01T20:00:00\",\"2007-09-01T21:00:00\",\"2007-09-01T22:00:00\",\"2007-09-01T23:00:00\",\"2007-09-02T00:00:00\"],\"y\":[30.000005420629865,31.00316279368075,31.000428076883864,30.938403955789866,30.878816895242753,30.821518067117523,30.766451660867304,30.713487451882717,30.692186426492007,30.389525830787672,29.959449756567203,29.540461377659277,29.136858106173285,28.747858594452982,28.372718701873357,28.191743701872632,28.56169321359286,29.344101270236614,30.10740351633342,30.97261582102438,31.003218604227627,30.924321094461686,30.827322363992547,30.73406294016405,30.682363770241967,30.63265517649177,30.61444233469482,30.567356836647757],\"type\":\"scatter\",\"xaxis\":\"x\",\"yaxis\":\"y\"},{\"name\":\"PMP-1\",\"x\":[\"2007-09-01T00:00:00\",\"2007-09-01T00:57:00\",\"2007-09-01T01:00:00\",\"2007-09-01T02:00:00\",\"2007-09-01T03:00:00\",\"2007-09-01T04:00:00\",\"2007-09-01T05:00:00\",\"2007-09-01T06:00:00\",\"2007-09-01T07:00:00\",\"2007-09-01T08:00:00\",\"2007-09-01T09:00:00\",\"2007-09-01T10:00:00\",\"2007-09-01T11:00:00\",\"2007-09-01T12:00:00\",\"2007-09-01T13:00:00\",\"2007-09-01T13:30:00\",\"2007-09-01T14:00:00\",\"2007-09-01T15:00:00\",\"2007-09-01T16:00:00\",\"2007-09-01T17:00:00\",\"2007-09-01T17:01:00\",\"2007-09-01T18:00:00\",\"2007-09-01T19:00:00\",\"2007-09-01T20:00:00\",\"2007-09-01T21:00:00\",\"2007-09-01T22:00:00\",\"2007-09-01T23:00:00\",\"2007-09-02T00:00:00\"],\"y\":[65.45501655056967,69.18968357981174,69.19745433283126,69.3736401770606,69.54246344459352,69.70438622183362,69.85960874622239,70.0076535284762,70.10721004411866,70.99789698982002,72.17253603049603,73.29541369253563,74.36023789941062,75.37156790363593,76.33351627420305,70.62881317643338,69.65710708131152,67.59254353749999,65.37367394066669,62.73465998285571,69.19031509789659,69.41592878442445,69.69016166204469,69.9506859763599,70.09589662867201,70.2343685209325,70.28613760100897,70.4176936000965],\"type\":\"scatter\",\"xaxis\":\"x2\",\"yaxis\":\"y2\"},{\"name\":\"PMP-2\",\"x\":[\"2007-09-01T00:00:00\",\"2007-09-01T00:57:00\",\"2007-09-01T01:00:00\",\"2007-09-01T02:00:00\",\"2007-09-01T03:00:00\",\"2007-09-01T04:00:00\",\"2007-09-01T05:00:00\",\"2007-09-01T06:00:00\",\"2007-09-01T07:00:00\",\"2007-09-01T08:00:00\",\"2007-09-01T09:00:00\",\"2007-09-01T10:00:00\",\"2007-09-01T11:00:00\",\"2007-09-01T12:00:00\",\"2007-09-01T13:00:00\",\"2007-09-01T13:30:00\",\"2007-09-01T14:00:00\",\"2007-09-01T15:00:00\",\"2007-09-01T16:00:00\",\"2007-09-01T17:00:00\",\"2007-09-01T17:01:00\",\"2007-09-01T18:00:00\",\"2007-09-01T19:00:00\",\"2007-09-01T20:00:00\",\"2007-09-01T21:00:00\",\"2007-09-01T22:00:00\",\"2007-09-01T23:00:00\",\"2007-09-02T00:00:00\"],\"y\":[84.82375322690584,0.0,0.0,0.0,0.0,0.0,0.0,0.0,0.0,0.0,0.0,0.0,0.0,0.0,0.0,86.10338599990597,85.85499145368362,85.33961878637662,84.80446882099815,84.19319012063666,0.0,0.0,0.0,0.0,0.0,0.0,0.0,0.0],\"type\":\"scatter\",\"xaxis\":\"x2\",\"yaxis\":\"y2\"}],                        {\"template\":{\"data\":{\"histogram2dcontour\":[{\"type\":\"histogram2dcontour\",\"colorbar\":{\"outlinewidth\":0,\"ticks\":\"\"},\"colorscale\":[[0.0,\"#0d0887\"],[0.1111111111111111,\"#46039f\"],[0.2222222222222222,\"#7201a8\"],[0.3333333333333333,\"#9c179e\"],[0.4444444444444444,\"#bd3786\"],[0.5555555555555556,\"#d8576b\"],[0.6666666666666666,\"#ed7953\"],[0.7777777777777778,\"#fb9f3a\"],[0.8888888888888888,\"#fdca26\"],[1.0,\"#f0f921\"]]}],\"choropleth\":[{\"type\":\"choropleth\",\"colorbar\":{\"outlinewidth\":0,\"ticks\":\"\"}}],\"histogram2d\":[{\"type\":\"histogram2d\",\"colorbar\":{\"outlinewidth\":0,\"ticks\":\"\"},\"colorscale\":[[0.0,\"#0d0887\"],[0.1111111111111111,\"#46039f\"],[0.2222222222222222,\"#7201a8\"],[0.3333333333333333,\"#9c179e\"],[0.4444444444444444,\"#bd3786\"],[0.5555555555555556,\"#d8576b\"],[0.6666666666666666,\"#ed7953\"],[0.7777777777777778,\"#fb9f3a\"],[0.8888888888888888,\"#fdca26\"],[1.0,\"#f0f921\"]]}],\"heatmap\":[{\"type\":\"heatmap\",\"colorbar\":{\"outlinewidth\":0,\"ticks\":\"\"},\"colorscale\":[[0.0,\"#0d0887\"],[0.1111111111111111,\"#46039f\"],[0.2222222222222222,\"#7201a8\"],[0.3333333333333333,\"#9c179e\"],[0.4444444444444444,\"#bd3786\"],[0.5555555555555556,\"#d8576b\"],[0.6666666666666666,\"#ed7953\"],[0.7777777777777778,\"#fb9f3a\"],[0.8888888888888888,\"#fdca26\"],[1.0,\"#f0f921\"]]}],\"heatmapgl\":[{\"type\":\"heatmapgl\",\"colorbar\":{\"outlinewidth\":0,\"ticks\":\"\"},\"colorscale\":[[0.0,\"#0d0887\"],[0.1111111111111111,\"#46039f\"],[0.2222222222222222,\"#7201a8\"],[0.3333333333333333,\"#9c179e\"],[0.4444444444444444,\"#bd3786\"],[0.5555555555555556,\"#d8576b\"],[0.6666666666666666,\"#ed7953\"],[0.7777777777777778,\"#fb9f3a\"],[0.8888888888888888,\"#fdca26\"],[1.0,\"#f0f921\"]]}],\"contourcarpet\":[{\"type\":\"contourcarpet\",\"colorbar\":{\"outlinewidth\":0,\"ticks\":\"\"}}],\"contour\":[{\"type\":\"contour\",\"colorbar\":{\"outlinewidth\":0,\"ticks\":\"\"},\"colorscale\":[[0.0,\"#0d0887\"],[0.1111111111111111,\"#46039f\"],[0.2222222222222222,\"#7201a8\"],[0.3333333333333333,\"#9c179e\"],[0.4444444444444444,\"#bd3786\"],[0.5555555555555556,\"#d8576b\"],[0.6666666666666666,\"#ed7953\"],[0.7777777777777778,\"#fb9f3a\"],[0.8888888888888888,\"#fdca26\"],[1.0,\"#f0f921\"]]}],\"surface\":[{\"type\":\"surface\",\"colorbar\":{\"outlinewidth\":0,\"ticks\":\"\"},\"colorscale\":[[0.0,\"#0d0887\"],[0.1111111111111111,\"#46039f\"],[0.2222222222222222,\"#7201a8\"],[0.3333333333333333,\"#9c179e\"],[0.4444444444444444,\"#bd3786\"],[0.5555555555555556,\"#d8576b\"],[0.6666666666666666,\"#ed7953\"],[0.7777777777777778,\"#fb9f3a\"],[0.8888888888888888,\"#fdca26\"],[1.0,\"#f0f921\"]]}],\"mesh3d\":[{\"type\":\"mesh3d\",\"colorbar\":{\"outlinewidth\":0,\"ticks\":\"\"}}],\"scatter\":[{\"fillpattern\":{\"fillmode\":\"overlay\",\"size\":10,\"solidity\":0.2},\"type\":\"scatter\"}],\"parcoords\":[{\"type\":\"parcoords\",\"line\":{\"colorbar\":{\"outlinewidth\":0,\"ticks\":\"\"}}}],\"scatterpolargl\":[{\"type\":\"scatterpolargl\",\"marker\":{\"colorbar\":{\"outlinewidth\":0,\"ticks\":\"\"}}}],\"bar\":[{\"error_x\":{\"color\":\"#2a3f5f\"},\"error_y\":{\"color\":\"#2a3f5f\"},\"marker\":{\"line\":{\"color\":\"#E5ECF6\",\"width\":0.5},\"pattern\":{\"fillmode\":\"overlay\",\"size\":10,\"solidity\":0.2}},\"type\":\"bar\"}],\"scattergeo\":[{\"type\":\"scattergeo\",\"marker\":{\"colorbar\":{\"outlinewidth\":0,\"ticks\":\"\"}}}],\"scatterpolar\":[{\"type\":\"scatterpolar\",\"marker\":{\"colorbar\":{\"outlinewidth\":0,\"ticks\":\"\"}}}],\"histogram\":[{\"marker\":{\"pattern\":{\"fillmode\":\"overlay\",\"size\":10,\"solidity\":0.2}},\"type\":\"histogram\"}],\"scattergl\":[{\"type\":\"scattergl\",\"marker\":{\"colorbar\":{\"outlinewidth\":0,\"ticks\":\"\"}}}],\"scatter3d\":[{\"type\":\"scatter3d\",\"line\":{\"colorbar\":{\"outlinewidth\":0,\"ticks\":\"\"}},\"marker\":{\"colorbar\":{\"outlinewidth\":0,\"ticks\":\"\"}}}],\"scattermapbox\":[{\"type\":\"scattermapbox\",\"marker\":{\"colorbar\":{\"outlinewidth\":0,\"ticks\":\"\"}}}],\"scatterternary\":[{\"type\":\"scatterternary\",\"marker\":{\"colorbar\":{\"outlinewidth\":0,\"ticks\":\"\"}}}],\"scattercarpet\":[{\"type\":\"scattercarpet\",\"marker\":{\"colorbar\":{\"outlinewidth\":0,\"ticks\":\"\"}}}],\"carpet\":[{\"aaxis\":{\"endlinecolor\":\"#2a3f5f\",\"gridcolor\":\"white\",\"linecolor\":\"white\",\"minorgridcolor\":\"white\",\"startlinecolor\":\"#2a3f5f\"},\"baxis\":{\"endlinecolor\":\"#2a3f5f\",\"gridcolor\":\"white\",\"linecolor\":\"white\",\"minorgridcolor\":\"white\",\"startlinecolor\":\"#2a3f5f\"},\"type\":\"carpet\"}],\"table\":[{\"cells\":{\"fill\":{\"color\":\"#EBF0F8\"},\"line\":{\"color\":\"white\"}},\"header\":{\"fill\":{\"color\":\"#C8D4E3\"},\"line\":{\"color\":\"white\"}},\"type\":\"table\"}],\"barpolar\":[{\"marker\":{\"line\":{\"color\":\"#E5ECF6\",\"width\":0.5},\"pattern\":{\"fillmode\":\"overlay\",\"size\":10,\"solidity\":0.2}},\"type\":\"barpolar\"}],\"pie\":[{\"automargin\":true,\"type\":\"pie\"}]},\"layout\":{\"autotypenumbers\":\"strict\",\"colorway\":[\"#636efa\",\"#EF553B\",\"#00cc96\",\"#ab63fa\",\"#FFA15A\",\"#19d3f3\",\"#FF6692\",\"#B6E880\",\"#FF97FF\",\"#FECB52\"],\"font\":{\"color\":\"#2a3f5f\"},\"hovermode\":\"closest\",\"hoverlabel\":{\"align\":\"left\"},\"paper_bgcolor\":\"white\",\"plot_bgcolor\":\"#E5ECF6\",\"polar\":{\"bgcolor\":\"#E5ECF6\",\"angularaxis\":{\"gridcolor\":\"white\",\"linecolor\":\"white\",\"ticks\":\"\"},\"radialaxis\":{\"gridcolor\":\"white\",\"linecolor\":\"white\",\"ticks\":\"\"}},\"ternary\":{\"bgcolor\":\"#E5ECF6\",\"aaxis\":{\"gridcolor\":\"white\",\"linecolor\":\"white\",\"ticks\":\"\"},\"baxis\":{\"gridcolor\":\"white\",\"linecolor\":\"white\",\"ticks\":\"\"},\"caxis\":{\"gridcolor\":\"white\",\"linecolor\":\"white\",\"ticks\":\"\"}},\"coloraxis\":{\"colorbar\":{\"outlinewidth\":0,\"ticks\":\"\"}},\"colorscale\":{\"sequential\":[[0.0,\"#0d0887\"],[0.1111111111111111,\"#46039f\"],[0.2222222222222222,\"#7201a8\"],[0.3333333333333333,\"#9c179e\"],[0.4444444444444444,\"#bd3786\"],[0.5555555555555556,\"#d8576b\"],[0.6666666666666666,\"#ed7953\"],[0.7777777777777778,\"#fb9f3a\"],[0.8888888888888888,\"#fdca26\"],[1.0,\"#f0f921\"]],\"sequentialminus\":[[0.0,\"#0d0887\"],[0.1111111111111111,\"#46039f\"],[0.2222222222222222,\"#7201a8\"],[0.3333333333333333,\"#9c179e\"],[0.4444444444444444,\"#bd3786\"],[0.5555555555555556,\"#d8576b\"],[0.6666666666666666,\"#ed7953\"],[0.7777777777777778,\"#fb9f3a\"],[0.8888888888888888,\"#fdca26\"],[1.0,\"#f0f921\"]],\"diverging\":[[0,\"#8e0152\"],[0.1,\"#c51b7d\"],[0.2,\"#de77ae\"],[0.3,\"#f1b6da\"],[0.4,\"#fde0ef\"],[0.5,\"#f7f7f7\"],[0.6,\"#e6f5d0\"],[0.7,\"#b8e186\"],[0.8,\"#7fbc41\"],[0.9,\"#4d9221\"],[1,\"#276419\"]]},\"xaxis\":{\"gridcolor\":\"white\",\"linecolor\":\"white\",\"ticks\":\"\",\"title\":{\"standoff\":15},\"zerolinecolor\":\"white\",\"automargin\":true,\"zerolinewidth\":2},\"yaxis\":{\"gridcolor\":\"white\",\"linecolor\":\"white\",\"ticks\":\"\",\"title\":{\"standoff\":15},\"zerolinecolor\":\"white\",\"automargin\":true,\"zerolinewidth\":2},\"scene\":{\"xaxis\":{\"backgroundcolor\":\"#E5ECF6\",\"gridcolor\":\"white\",\"linecolor\":\"white\",\"showbackground\":true,\"ticks\":\"\",\"zerolinecolor\":\"white\",\"gridwidth\":2},\"yaxis\":{\"backgroundcolor\":\"#E5ECF6\",\"gridcolor\":\"white\",\"linecolor\":\"white\",\"showbackground\":true,\"ticks\":\"\",\"zerolinecolor\":\"white\",\"gridwidth\":2},\"zaxis\":{\"backgroundcolor\":\"#E5ECF6\",\"gridcolor\":\"white\",\"linecolor\":\"white\",\"showbackground\":true,\"ticks\":\"\",\"zerolinecolor\":\"white\",\"gridwidth\":2}},\"shapedefaults\":{\"line\":{\"color\":\"#2a3f5f\"}},\"annotationdefaults\":{\"arrowcolor\":\"#2a3f5f\",\"arrowhead\":0,\"arrowwidth\":1},\"geo\":{\"bgcolor\":\"white\",\"landcolor\":\"#E5ECF6\",\"subunitcolor\":\"white\",\"showland\":true,\"showlakes\":true,\"lakecolor\":\"white\"},\"title\":{\"x\":0.05},\"mapbox\":{\"style\":\"light\"}}},\"xaxis\":{\"anchor\":\"y\",\"domain\":[0.0,1.0],\"matches\":\"x2\",\"showticklabels\":false},\"yaxis\":{\"anchor\":\"x\",\"domain\":[0.5,1.0],\"title\":{\"text\":\"Level (m)\"}},\"xaxis2\":{\"anchor\":\"y2\",\"domain\":[0.0,1.0]},\"yaxis2\":{\"anchor\":\"x2\",\"domain\":[0.0,0.5],\"title\":{\"text\":\"Flow  (L\\u002fs)\"}},\"title\":{\"text\":\"Tank Level & Pump Flow (WaterGEMS Style) - [Scenario = Historical SCADA Simulation]\"},\"margin\":{\"l\":30,\"r\":30,\"t\":50,\"b\":20},\"legend\":{\"orientation\":\"h\",\"xanchor\":\"center\",\"x\":0.5},\"hovermode\":\"x\",\"showlegend\":true},                        {\"responsive\": true}                    ).then(function(){\n",
       "                            \n",
       "var gd = document.getElementById('f2f958a6-48e1-4737-bd58-8bc4f03a2ee5');\n",
       "var x = new MutationObserver(function (mutations, observer) {{\n",
       "        var display = window.getComputedStyle(gd).display;\n",
       "        if (!display || display === 'none') {{\n",
       "            console.log([gd, 'removed!']);\n",
       "            Plotly.purge(gd);\n",
       "            observer.disconnect();\n",
       "        }}\n",
       "}});\n",
       "\n",
       "// Listen for the removal of the full notebook cells\n",
       "var notebookContainer = gd.closest('#notebook-container');\n",
       "if (notebookContainer) {{\n",
       "    x.observe(notebookContainer, {childList: true});\n",
       "}}\n",
       "\n",
       "// Listen for the clearing of the current output cell\n",
       "var outputEl = gd.closest('.output');\n",
       "if (outputEl) {{\n",
       "    x.observe(outputEl, {childList: true});\n",
       "}}\n",
       "\n",
       "                        })                };                });            </script>        </div>"
      ]
     },
     "metadata": {},
     "output_type": "display_data"
    }
   ],
   "source": [
    "fig = go.Figure()\n",
    "chart_name = f\"Tank Level & Pump Flow (WaterGEMS Style) - [Scenario = {model.ActiveScenario.Label}]\"\n",
    "\n",
    "fig = make_subplots(\n",
    "    rows=2,\n",
    "    cols=1,\n",
    "    shared_yaxes=False,\n",
    "    shared_xaxes=True,\n",
    "    vertical_spacing=0.0,\n",
    ")\n",
    "\n",
    "def add_line_chart_v(fig, x_values: pd.Series, y_values: pd.Series, name: str, bottom_panel:bool=False):\n",
    "    row = 2 if bottom_panel else 1\n",
    "    return fig.add_trace(go.Scatter(x=x_values, y=y_values, name=name,),row=row, col=1)\n",
    "\n",
    "fig = add_line_chart_v(fig, df[df.columns[0]], df[df.columns[1]], df.columns[1])\n",
    "fig = add_line_chart_v(fig, df[df.columns[0]], df[df.columns[2]], df.columns[2], True)\n",
    "fig = add_line_chart_v(fig, df[df.columns[0]], df[df.columns[3]], df.columns[3], True)\n",
    "\n",
    "fig = fig.update_layout(\n",
    "        title_text=chart_name,\n",
    "        yaxis=dict(title= f\"Level ({model.Units.NetworkUnits.Tank.LevelUnit.ShortLabel})\"),\n",
    "        yaxis2=dict(title=f\"Flow  ({model.Units.NetworkUnits.Pump.FlowUnit.ShortLabel})\"),\n",
    "        margin=dict(l=30, r=30, t=50, b=20),\n",
    "        hovermode='x', # Enable compare data on hover by default\n",
    "        showlegend=True,\n",
    "        legend=dict(orientation=\"h\",xanchor=\"center\", x=0.5),\n",
    "    )\n",
    "\n",
    "fig.show()"
   ]
  },
  {
   "cell_type": "markdown",
   "metadata": {},
   "source": [
    "## Close the model"
   ]
  },
  {
   "cell_type": "code",
   "execution_count": 24,
   "metadata": {},
   "outputs": [],
   "source": [
    "# Disable the comments below to close the model\n",
    "# if model:\n",
    "#     model.Close()"
   ]
  },
  {
   "cell_type": "markdown",
   "metadata": {},
   "source": [
    "## Close the session\n",
    "\n",
    "If you want to open up the model again, make sure to call the `OFWConfig` as [done above](#Import-OpenFlows-related-modules)"
   ]
  },
  {
   "cell_type": "code",
   "execution_count": 25,
   "metadata": {},
   "outputs": [
    {
     "name": "stderr",
     "output_type": "stream",
     "text": [
      "10 12:01:33.391 DEBUG: About to close the model...\n",
      "10 12:01:33.410 INFO: Closed the model.\n",
      "10 12:01:33.510 INFO: Session ended. See you soon.\n"
     ]
    }
   ],
   "source": [
    "# Disable the comment below to close the session\n",
    "ofw.end_session()"
   ]
  }
 ],
 "metadata": {
  "interpreter": {
   "hash": "839055bb48d0c567cc06af8b98c8ed897e2d688046e9876be2d3ff3ae83815c2"
  },
  "kernelspec": {
   "display_name": "Python 3.9.2 64-bit",
   "name": "python3"
  },
  "language_info": {
   "codemirror_mode": {
    "name": "ipython",
    "version": 3
   },
   "file_extension": ".py",
   "mimetype": "text/x-python",
   "name": "python",
   "nbconvert_exporter": "python",
   "pygments_lexer": "ipython3",
   "version": "3.11.4"
  },
  "orig_nbformat": 4
 },
 "nbformat": 4,
 "nbformat_minor": 2
}
