{
 "cells": [
  {
   "cell_type": "markdown",
   "metadata": {},
   "source": [
    "# Network Input Data\n",
    "\n",
    "Shows the input data used to build the model in a tabular (`pandas DataFrame`) view. The hierarchy of interfaces in the OpenFlows API can also be understood as they indented based on the API structured."
   ]
  },
  {
   "cell_type": "markdown",
   "metadata": {},
   "source": [
    "## Initial Setup (for WaterGEMS)"
   ]
  },
  {
   "cell_type": "code",
   "execution_count": 1,
   "metadata": {},
   "outputs": [],
   "source": [
    "from pyofw.config import OFWConfig\n",
    "ofw_config = OFWConfig()\n",
    "\n",
    "# To display the .md file\n",
    "from IPython.display import Markdown, display"
   ]
  },
  {
   "cell_type": "markdown",
   "metadata": {},
   "source": [
    "## Open up the WaterGEMS model"
   ]
  },
  {
   "cell_type": "code",
   "execution_count": 2,
   "metadata": {},
   "outputs": [],
   "source": [
    "from OpenFlows.Water.Domain import IWaterModel\n",
    "\n",
    "model_filepath = r\"C:\\Program Files (x86)\\Bentley\\WaterGEMS\\Samples\\Example5.wtg\"\n",
    "model: IWaterModel = ofw_config.open_model(model_filepath)"
   ]
  },
  {
   "cell_type": "markdown",
   "metadata": {},
   "source": [
    "## NetworkInput class"
   ]
  },
  {
   "cell_type": "code",
   "execution_count": 3,
   "metadata": {},
   "outputs": [
    {
     "data": {
      "text/markdown": [
       "## `NetworkInput` class (a pure python class)\n",
       "\n",
       "In the `pyofw` module, there is a `NetworkInput` class under `pyofw.networkInput`. This class mostly uses the IDictionary<int, object> collection from IWaterModel.Network.[elements].Input.[property] and converts that into pandas `DataSeries` item, collection of which gives the `DataFrame` for that Network Element Type"
      ],
      "text/plain": [
       "<IPython.core.display.Markdown object>"
      ]
     },
     "metadata": {},
     "output_type": "display_data"
    }
   ],
   "source": [
    "display(Markdown(\"notebook/md/networkInput/networkInputClass.md\"))"
   ]
  },
  {
   "cell_type": "code",
   "execution_count": 4,
   "metadata": {},
   "outputs": [],
   "source": [
    "from pyofw.network_input import NetworkInput\n",
    "ni: NetworkInput = NetworkInput(model)"
   ]
  },
  {
   "cell_type": "markdown",
   "metadata": {},
   "source": [
    "### Pipes"
   ]
  },
  {
   "cell_type": "code",
   "execution_count": 5,
   "metadata": {},
   "outputs": [
    {
     "data": {
      "text/markdown": [
       "## Pipes DataFrame (`ni.pipe_df`)\n",
       "\n",
       "> ### Summary Map\n",
       "> | IPipesInput | | |\n",
       "> |--|--|--|\n",
       "> | IBaseLinksInput |||\n",
       "> | | IActiveElementsInput ||\n",
       "> | | | IElementsInput |\n",
       "> | | IElementsInput ||\n",
       "> | IWaterZoneableNetworkElementsInput|||\n",
       "> | | IActiveElementsInput||\n",
       "> | | | IElementsInput |\n"
      ],
      "text/plain": [
       "<IPython.core.display.Markdown object>"
      ]
     },
     "metadata": {},
     "output_type": "display_data"
    }
   ],
   "source": [
    "display(Markdown(\"notebook/md/networkInput/pipes.md\"))"
   ]
  },
  {
   "cell_type": "code",
   "execution_count": 6,
   "metadata": {},
   "outputs": [
    {
     "data": {
      "text/html": [
       "<div>\n",
       "<style scoped>\n",
       "    .dataframe tbody tr th:only-of-type {\n",
       "        vertical-align: middle;\n",
       "    }\n",
       "\n",
       "    .dataframe tbody tr th {\n",
       "        vertical-align: top;\n",
       "    }\n",
       "\n",
       "    .dataframe thead th {\n",
       "        text-align: right;\n",
       "    }\n",
       "</style>\n",
       "<table border=\"1\" class=\"dataframe\">\n",
       "  <thead>\n",
       "    <tr style=\"text-align: right;\">\n",
       "      <th></th>\n",
       "      <th>Label</th>\n",
       "      <th>Id</th>\n",
       "      <th>IsActive</th>\n",
       "      <th>StartNode</th>\n",
       "      <th>StartNodeId</th>\n",
       "      <th>StopNode</th>\n",
       "      <th>StopNodeId</th>\n",
       "      <th>IsUDLength</th>\n",
       "      <th>Length</th>\n",
       "      <th>Geometry</th>\n",
       "      <th>InstallYr</th>\n",
       "      <th>Status</th>\n",
       "      <th>Diameter</th>\n",
       "      <th>Material</th>\n",
       "      <th>FrictionCoeff</th>\n",
       "    </tr>\n",
       "  </thead>\n",
       "  <tbody>\n",
       "    <tr>\n",
       "      <th>0</th>\n",
       "      <td>P-130</td>\n",
       "      <td>430</td>\n",
       "      <td>True</td>\n",
       "      <td>Junction : 187 : J-65</td>\n",
       "      <td>187</td>\n",
       "      <td>Junction : 175 : J-53</td>\n",
       "      <td>175</td>\n",
       "      <td>False</td>\n",
       "      <td>102.5</td>\n",
       "      <td>[(700334.536506828, 19983.4265845983), (700364...</td>\n",
       "      <td>0</td>\n",
       "      <td>True</td>\n",
       "      <td>50.0</td>\n",
       "      <td>Ductile Iron</td>\n",
       "      <td>90.000004</td>\n",
       "    </tr>\n",
       "    <tr>\n",
       "      <th>1</th>\n",
       "      <td>P-129</td>\n",
       "      <td>429</td>\n",
       "      <td>True</td>\n",
       "      <td>Junction : 137 : J-15</td>\n",
       "      <td>137</td>\n",
       "      <td>Junction : 205 : J-86</td>\n",
       "      <td>205</td>\n",
       "      <td>False</td>\n",
       "      <td>124.5</td>\n",
       "      <td>[(700259.958982912, 20370.1350483275), (700295...</td>\n",
       "      <td>0</td>\n",
       "      <td>True</td>\n",
       "      <td>150.0</td>\n",
       "      <td>Ductile Iron</td>\n",
       "      <td>90.000004</td>\n",
       "    </tr>\n",
       "    <tr>\n",
       "      <th>2</th>\n",
       "      <td>P-128</td>\n",
       "      <td>428</td>\n",
       "      <td>True</td>\n",
       "      <td>Junction : 162 : J-40</td>\n",
       "      <td>162</td>\n",
       "      <td>Junction : 137 : J-15</td>\n",
       "      <td>137</td>\n",
       "      <td>False</td>\n",
       "      <td>132.0</td>\n",
       "      <td>[(700221.642958475, 20243.5812733667), (700259...</td>\n",
       "      <td>0</td>\n",
       "      <td>True</td>\n",
       "      <td>150.0</td>\n",
       "      <td>Ductile Iron</td>\n",
       "      <td>90.000004</td>\n",
       "    </tr>\n",
       "    <tr>\n",
       "      <th>3</th>\n",
       "      <td>P-127</td>\n",
       "      <td>427</td>\n",
       "      <td>True</td>\n",
       "      <td>Junction : 174 : J-52</td>\n",
       "      <td>174</td>\n",
       "      <td>Junction : 162 : J-40</td>\n",
       "      <td>162</td>\n",
       "      <td>False</td>\n",
       "      <td>114.0</td>\n",
       "      <td>[(700188.791357358, 20134.5594174389), (700221...</td>\n",
       "      <td>0</td>\n",
       "      <td>True</td>\n",
       "      <td>150.0</td>\n",
       "      <td>Ductile Iron</td>\n",
       "      <td>90.000004</td>\n",
       "    </tr>\n",
       "    <tr>\n",
       "      <th>4</th>\n",
       "      <td>P-126</td>\n",
       "      <td>426</td>\n",
       "      <td>True</td>\n",
       "      <td>Junction : 186 : J-64</td>\n",
       "      <td>186</td>\n",
       "      <td>Junction : 174 : J-52</td>\n",
       "      <td>174</td>\n",
       "      <td>False</td>\n",
       "      <td>166.5</td>\n",
       "      <td>[(700140.994668645, 19975.2377861871), (700188...</td>\n",
       "      <td>0</td>\n",
       "      <td>True</td>\n",
       "      <td>150.0</td>\n",
       "      <td>Ductile Iron</td>\n",
       "      <td>90.000004</td>\n",
       "    </tr>\n",
       "  </tbody>\n",
       "</table>\n",
       "</div>"
      ],
      "text/plain": [
       "   Label   Id  IsActive              StartNode  StartNodeId  \\\n",
       "0  P-130  430      True  Junction : 187 : J-65          187   \n",
       "1  P-129  429      True  Junction : 137 : J-15          137   \n",
       "2  P-128  428      True  Junction : 162 : J-40          162   \n",
       "3  P-127  427      True  Junction : 174 : J-52          174   \n",
       "4  P-126  426      True  Junction : 186 : J-64          186   \n",
       "\n",
       "                StopNode  StopNodeId  IsUDLength  Length  \\\n",
       "0  Junction : 175 : J-53         175       False   102.5   \n",
       "1  Junction : 205 : J-86         205       False   124.5   \n",
       "2  Junction : 137 : J-15         137       False   132.0   \n",
       "3  Junction : 162 : J-40         162       False   114.0   \n",
       "4  Junction : 174 : J-52         174       False   166.5   \n",
       "\n",
       "                                            Geometry  InstallYr  Status  \\\n",
       "0  [(700334.536506828, 19983.4265845983), (700364...          0    True   \n",
       "1  [(700259.958982912, 20370.1350483275), (700295...          0    True   \n",
       "2  [(700221.642958475, 20243.5812733667), (700259...          0    True   \n",
       "3  [(700188.791357358, 20134.5594174389), (700221...          0    True   \n",
       "4  [(700140.994668645, 19975.2377861871), (700188...          0    True   \n",
       "\n",
       "   Diameter      Material  FrictionCoeff  \n",
       "0      50.0  Ductile Iron      90.000004  \n",
       "1     150.0  Ductile Iron      90.000004  \n",
       "2     150.0  Ductile Iron      90.000004  \n",
       "3     150.0  Ductile Iron      90.000004  \n",
       "4     150.0  Ductile Iron      90.000004  "
      ]
     },
     "execution_count": 6,
     "metadata": {},
     "output_type": "execute_result"
    }
   ],
   "source": [
    "ni.pipe_df.head()"
   ]
  },
  {
   "cell_type": "markdown",
   "metadata": {},
   "source": [
    "### Laterals"
   ]
  },
  {
   "cell_type": "code",
   "execution_count": 7,
   "metadata": {},
   "outputs": [
    {
     "data": {
      "text/markdown": [
       "## Laterals DataFrame (`ni.laterals_df`)\n",
       "\n",
       "> ### **Summary Map**\n",
       ">\n",
       "> | ILateralsInput | | |\n",
       "> |--|--|--|\n",
       "> | IBaseLinksInput |||\n",
       "> | | IActiveElementsInput ||\n",
       "> | | | IElementsInput |\n",
       "> | | IElementsInput ||\n"
      ],
      "text/plain": [
       "<IPython.core.display.Markdown object>"
      ]
     },
     "metadata": {},
     "output_type": "display_data"
    }
   ],
   "source": [
    "display(Markdown(\"notebook/md/networkInput/laterals.md\"))"
   ]
  },
  {
   "cell_type": "code",
   "execution_count": 8,
   "metadata": {},
   "outputs": [
    {
     "data": {
      "text/html": [
       "<div>\n",
       "<style scoped>\n",
       "    .dataframe tbody tr th:only-of-type {\n",
       "        vertical-align: middle;\n",
       "    }\n",
       "\n",
       "    .dataframe tbody tr th {\n",
       "        vertical-align: top;\n",
       "    }\n",
       "\n",
       "    .dataframe thead th {\n",
       "        text-align: right;\n",
       "    }\n",
       "</style>\n",
       "<table border=\"1\" class=\"dataframe\">\n",
       "  <thead>\n",
       "    <tr style=\"text-align: right;\">\n",
       "      <th></th>\n",
       "      <th>Label</th>\n",
       "      <th>Id</th>\n",
       "      <th>IsActive</th>\n",
       "      <th>StartNode</th>\n",
       "      <th>StartNodeId</th>\n",
       "      <th>StopNode</th>\n",
       "      <th>StopNodeId</th>\n",
       "      <th>IsUDLength</th>\n",
       "      <th>Length</th>\n",
       "      <th>Geometry</th>\n",
       "    </tr>\n",
       "  </thead>\n",
       "  <tbody>\n",
       "  </tbody>\n",
       "</table>\n",
       "</div>"
      ],
      "text/plain": [
       "Empty DataFrame\n",
       "Columns: [Label, Id, IsActive, StartNode, StartNodeId, StopNode, StopNodeId, IsUDLength, Length, Geometry]\n",
       "Index: []"
      ]
     },
     "execution_count": 8,
     "metadata": {},
     "output_type": "execute_result"
    }
   ],
   "source": [
    "ni.lateral_df.head()"
   ]
  },
  {
   "cell_type": "markdown",
   "metadata": {},
   "source": [
    "### Junctions / Hydrants"
   ]
  },
  {
   "cell_type": "code",
   "execution_count": 9,
   "metadata": {},
   "outputs": [
    {
     "data": {
      "text/markdown": [
       "## Junctions / Hydrants DataFrame (`ni.junction_df` / `ni.hydrant_df`) \n",
       "\n",
       "> ### **Summary Map**\n",
       ">\n",
       "> | IJunctions / IHydrants | | |\n",
       "> ------------------------| -- | -- |\n",
       "> | IFireflowNodes | | |\n",
       "> | IDemandNodesInput | | |\n",
       "> | IBaseNodesInput | | |\n",
       "> |  | IPointNodeInput | |\n",
       "> |  |  | IActiveElementsInput |\n",
       "> |  |  | IElementsInput |\n",
       "> |  | IWaterZoneableNetworkElementsInput | |\n",
       "> |  |  | IActiveElementsInput |\n",
       "> |  | IWaterQualityElementsInput | |\n",
       "> |  | IWaterQualityNodesInput | |\n",
       "> |  | IPhysicalNodeElementsInput | |\n",
       "> |  |  | IPointNodesInput |\n"
      ],
      "text/plain": [
       "<IPython.core.display.Markdown object>"
      ]
     },
     "metadata": {},
     "output_type": "display_data"
    }
   ],
   "source": [
    "display(Markdown(\"notebook/md/networkInput/junctions.md\"))"
   ]
  },
  {
   "cell_type": "code",
   "execution_count": 10,
   "metadata": {},
   "outputs": [
    {
     "data": {
      "text/html": [
       "<div>\n",
       "<style scoped>\n",
       "    .dataframe tbody tr th:only-of-type {\n",
       "        vertical-align: middle;\n",
       "    }\n",
       "\n",
       "    .dataframe tbody tr th {\n",
       "        vertical-align: top;\n",
       "    }\n",
       "\n",
       "    .dataframe thead th {\n",
       "        text-align: right;\n",
       "    }\n",
       "</style>\n",
       "<table border=\"1\" class=\"dataframe\">\n",
       "  <thead>\n",
       "    <tr style=\"text-align: right;\">\n",
       "      <th></th>\n",
       "      <th>Label</th>\n",
       "      <th>Id</th>\n",
       "      <th>Elevation</th>\n",
       "      <th>IsActive</th>\n",
       "      <th>Zone</th>\n",
       "      <th>ZoneId</th>\n",
       "      <th>ZoneLabel</th>\n",
       "      <th>InitAge</th>\n",
       "      <th>InitConc</th>\n",
       "      <th>InitTrace</th>\n",
       "      <th>Geometry</th>\n",
       "      <th>X</th>\n",
       "      <th>Y</th>\n",
       "    </tr>\n",
       "  </thead>\n",
       "  <tbody>\n",
       "    <tr>\n",
       "      <th>0</th>\n",
       "      <td>J-197</td>\n",
       "      <td>292</td>\n",
       "      <td>149.0</td>\n",
       "      <td>True</td>\n",
       "      <td>Zone : 116 : ResComA</td>\n",
       "      <td>116</td>\n",
       "      <td>ResComA</td>\n",
       "      <td>0.0</td>\n",
       "      <td>0.0</td>\n",
       "      <td>0.0</td>\n",
       "      <td>(699712.497, 21502.5174)</td>\n",
       "      <td>699712.497000</td>\n",
       "      <td>21502.517400</td>\n",
       "    </tr>\n",
       "    <tr>\n",
       "      <th>1</th>\n",
       "      <td>J-194</td>\n",
       "      <td>291</td>\n",
       "      <td>151.0</td>\n",
       "      <td>True</td>\n",
       "      <td>Zone : 116 : ResComA</td>\n",
       "      <td>116</td>\n",
       "      <td>ResComA</td>\n",
       "      <td>0.0</td>\n",
       "      <td>0.0</td>\n",
       "      <td>0.0</td>\n",
       "      <td>(700065.076, 21667.2259)</td>\n",
       "      <td>700065.076000</td>\n",
       "      <td>21667.225900</td>\n",
       "    </tr>\n",
       "    <tr>\n",
       "      <th>2</th>\n",
       "      <td>J-192</td>\n",
       "      <td>290</td>\n",
       "      <td>148.0</td>\n",
       "      <td>True</td>\n",
       "      <td>Zone : 116 : ResComA</td>\n",
       "      <td>116</td>\n",
       "      <td>ResComA</td>\n",
       "      <td>0.0</td>\n",
       "      <td>0.0</td>\n",
       "      <td>0.0</td>\n",
       "      <td>(700407.361, 22117.6008)</td>\n",
       "      <td>700407.361000</td>\n",
       "      <td>22117.600800</td>\n",
       "    </tr>\n",
       "    <tr>\n",
       "      <th>3</th>\n",
       "      <td>J-202</td>\n",
       "      <td>289</td>\n",
       "      <td>141.0</td>\n",
       "      <td>True</td>\n",
       "      <td>Zone : 116 : ResComA</td>\n",
       "      <td>116</td>\n",
       "      <td>ResComA</td>\n",
       "      <td>0.0</td>\n",
       "      <td>0.0</td>\n",
       "      <td>0.0</td>\n",
       "      <td>(700677.586, 22156.2044)</td>\n",
       "      <td>700677.586000</td>\n",
       "      <td>22156.204400</td>\n",
       "    </tr>\n",
       "    <tr>\n",
       "      <th>4</th>\n",
       "      <td>J-172</td>\n",
       "      <td>288</td>\n",
       "      <td>146.0</td>\n",
       "      <td>True</td>\n",
       "      <td>Zone : 118 : ResAgB</td>\n",
       "      <td>118</td>\n",
       "      <td>ResAgB</td>\n",
       "      <td>0.0</td>\n",
       "      <td>0.0</td>\n",
       "      <td>0.0</td>\n",
       "      <td>(699185.16495416, 21565.0881786215)</td>\n",
       "      <td>699185.164954</td>\n",
       "      <td>21565.088179</td>\n",
       "    </tr>\n",
       "  </tbody>\n",
       "</table>\n",
       "</div>"
      ],
      "text/plain": [
       "   Label   Id  Elevation  IsActive                  Zone  ZoneId ZoneLabel  \\\n",
       "0  J-197  292      149.0      True  Zone : 116 : ResComA     116   ResComA   \n",
       "1  J-194  291      151.0      True  Zone : 116 : ResComA     116   ResComA   \n",
       "2  J-192  290      148.0      True  Zone : 116 : ResComA     116   ResComA   \n",
       "3  J-202  289      141.0      True  Zone : 116 : ResComA     116   ResComA   \n",
       "4  J-172  288      146.0      True   Zone : 118 : ResAgB     118    ResAgB   \n",
       "\n",
       "   InitAge  InitConc  InitTrace                             Geometry  \\\n",
       "0      0.0       0.0        0.0             (699712.497, 21502.5174)   \n",
       "1      0.0       0.0        0.0             (700065.076, 21667.2259)   \n",
       "2      0.0       0.0        0.0             (700407.361, 22117.6008)   \n",
       "3      0.0       0.0        0.0             (700677.586, 22156.2044)   \n",
       "4      0.0       0.0        0.0  (699185.16495416, 21565.0881786215)   \n",
       "\n",
       "               X             Y  \n",
       "0  699712.497000  21502.517400  \n",
       "1  700065.076000  21667.225900  \n",
       "2  700407.361000  22117.600800  \n",
       "3  700677.586000  22156.204400  \n",
       "4  699185.164954  21565.088179  "
      ]
     },
     "execution_count": 10,
     "metadata": {},
     "output_type": "execute_result"
    }
   ],
   "source": [
    "ni.junction_df.head()"
   ]
  },
  {
   "cell_type": "code",
   "execution_count": 11,
   "metadata": {},
   "outputs": [
    {
     "data": {
      "text/html": [
       "<div>\n",
       "<style scoped>\n",
       "    .dataframe tbody tr th:only-of-type {\n",
       "        vertical-align: middle;\n",
       "    }\n",
       "\n",
       "    .dataframe tbody tr th {\n",
       "        vertical-align: top;\n",
       "    }\n",
       "\n",
       "    .dataframe thead th {\n",
       "        text-align: right;\n",
       "    }\n",
       "</style>\n",
       "<table border=\"1\" class=\"dataframe\">\n",
       "  <thead>\n",
       "    <tr style=\"text-align: right;\">\n",
       "      <th></th>\n",
       "      <th>Label</th>\n",
       "      <th>Id</th>\n",
       "      <th>Elevation</th>\n",
       "      <th>IsActive</th>\n",
       "      <th>Zone</th>\n",
       "      <th>ZoneId</th>\n",
       "      <th>ZoneLabel</th>\n",
       "      <th>InitAge</th>\n",
       "      <th>InitConc</th>\n",
       "      <th>InitTrace</th>\n",
       "      <th>Geometry</th>\n",
       "      <th>X</th>\n",
       "      <th>Y</th>\n",
       "    </tr>\n",
       "  </thead>\n",
       "  <tbody>\n",
       "  </tbody>\n",
       "</table>\n",
       "</div>"
      ],
      "text/plain": [
       "Empty DataFrame\n",
       "Columns: [Label, Id, Elevation, IsActive, Zone, ZoneId, ZoneLabel, InitAge, InitConc, InitTrace, Geometry, X, Y]\n",
       "Index: []"
      ]
     },
     "execution_count": 11,
     "metadata": {},
     "output_type": "execute_result"
    }
   ],
   "source": [
    "ni.hydrant_df.head()"
   ]
  },
  {
   "cell_type": "markdown",
   "metadata": {},
   "source": [
    "### Tanks"
   ]
  },
  {
   "cell_type": "code",
   "execution_count": 12,
   "metadata": {},
   "outputs": [
    {
     "data": {
      "text/markdown": [
       "## Tanks DataFrame (`ni.tank_df`)\n",
       "\n",
       "> ### **Summary Map**\n",
       ">\n",
       "> | ITanksInput | | |\n",
       "> |--|--|--|\n",
       "> | IConventionalTanksInput |||\n",
       "> | | IBaseTanksInput ||\n",
       "> | | | IDemandNodesInput |\n",
       "> | | | See [Junctions / Hydrants]\n",
       "> | | IWaterQualityElementsInput ||\n"
      ],
      "text/plain": [
       "<IPython.core.display.Markdown object>"
      ]
     },
     "metadata": {},
     "output_type": "display_data"
    }
   ],
   "source": [
    "display(Markdown(\"notebook/md/networkInput/tanks.md\"))"
   ]
  },
  {
   "cell_type": "code",
   "execution_count": 13,
   "metadata": {},
   "outputs": [
    {
     "data": {
      "text/html": [
       "<div>\n",
       "<style scoped>\n",
       "    .dataframe tbody tr th:only-of-type {\n",
       "        vertical-align: middle;\n",
       "    }\n",
       "\n",
       "    .dataframe tbody tr th {\n",
       "        vertical-align: top;\n",
       "    }\n",
       "\n",
       "    .dataframe thead th {\n",
       "        text-align: right;\n",
       "    }\n",
       "</style>\n",
       "<table border=\"1\" class=\"dataframe\">\n",
       "  <thead>\n",
       "    <tr style=\"text-align: right;\">\n",
       "      <th></th>\n",
       "      <th>Label</th>\n",
       "      <th>Id</th>\n",
       "      <th>Elevation</th>\n",
       "      <th>IsActive</th>\n",
       "      <th>Zone</th>\n",
       "      <th>ZoneId</th>\n",
       "      <th>ZoneLabel</th>\n",
       "      <th>InitAge</th>\n",
       "      <th>InitConc</th>\n",
       "      <th>InitTrace</th>\n",
       "      <th>...</th>\n",
       "      <th>BaseElev</th>\n",
       "      <th>MinLevel</th>\n",
       "      <th>MaxLevel</th>\n",
       "      <th>InitLevel</th>\n",
       "      <th>UseHighAlarm</th>\n",
       "      <th>HighAlarmLvl</th>\n",
       "      <th>UseLowAlarm</th>\n",
       "      <th>LowAlarmLvl</th>\n",
       "      <th>InactiveVol</th>\n",
       "      <th>ValveChrsts</th>\n",
       "    </tr>\n",
       "  </thead>\n",
       "  <tbody>\n",
       "    <tr>\n",
       "      <th>0</th>\n",
       "      <td>T-1</td>\n",
       "      <td>305</td>\n",
       "      <td>147.0</td>\n",
       "      <td>True</td>\n",
       "      <td>Zone : 116 : ResComA</td>\n",
       "      <td>116</td>\n",
       "      <td>ResComA</td>\n",
       "      <td>0.0</td>\n",
       "      <td>0.0</td>\n",
       "      <td>0.0</td>\n",
       "      <td>...</td>\n",
       "      <td>147.0</td>\n",
       "      <td>26.736</td>\n",
       "      <td>31.6128</td>\n",
       "      <td>31.308</td>\n",
       "      <td>False</td>\n",
       "      <td>0.0</td>\n",
       "      <td>False</td>\n",
       "      <td>0.0</td>\n",
       "      <td>1.13</td>\n",
       "      <td>None</td>\n",
       "    </tr>\n",
       "  </tbody>\n",
       "</table>\n",
       "<p>1 rows × 27 columns</p>\n",
       "</div>"
      ],
      "text/plain": [
       "  Label   Id  Elevation  IsActive                  Zone  ZoneId ZoneLabel  \\\n",
       "0   T-1  305      147.0      True  Zone : 116 : ResComA     116   ResComA   \n",
       "\n",
       "   InitAge  InitConc  InitTrace  ... BaseElev  MinLevel  MaxLevel InitLevel  \\\n",
       "0      0.0       0.0        0.0  ...    147.0    26.736   31.6128    31.308   \n",
       "\n",
       "   UseHighAlarm  HighAlarmLvl  UseLowAlarm  LowAlarmLvl  InactiveVol  \\\n",
       "0         False           0.0        False          0.0         1.13   \n",
       "\n",
       "   ValveChrsts  \n",
       "0         None  \n",
       "\n",
       "[1 rows x 27 columns]"
      ]
     },
     "execution_count": 13,
     "metadata": {},
     "output_type": "execute_result"
    }
   ],
   "source": [
    "ni.tank_df.head()"
   ]
  },
  {
   "cell_type": "markdown",
   "metadata": {},
   "source": [
    "### Reservoirs"
   ]
  },
  {
   "cell_type": "code",
   "execution_count": 14,
   "metadata": {},
   "outputs": [
    {
     "data": {
      "text/markdown": [
       "## Reservoirs DataFrame (`ni.reservoir_df`)\n",
       "\n",
       "> ### **Summary Map**\n",
       ">\n",
       "> | IReservoirsInput | | |\n",
       "> |--|--|--|\n",
       "> | IBaseNodesInput |||\n",
       "> | | IPointNodesInput ||\n",
       "> | | | IActiveElementsInput |\n",
       "> | | | IElementsInput |\n",
       "> | | IWaterZoneableNetworkElementsInput ||\n",
       "> | | | IActiveElementsInput |\n",
       "> | | IWaterQualityElementsInput ||\n",
       "> | | IWaterQualityNodesInput ||\n",
       "> | | IPhysicalNodeElementsInput ||\n",
       "> | | | IPointNodesInput |\n"
      ],
      "text/plain": [
       "<IPython.core.display.Markdown object>"
      ]
     },
     "metadata": {},
     "output_type": "display_data"
    }
   ],
   "source": [
    "display(Markdown(\"notebook/md/networkInput/reservoirs.md\"))"
   ]
  },
  {
   "cell_type": "code",
   "execution_count": 15,
   "metadata": {},
   "outputs": [
    {
     "data": {
      "text/html": [
       "<div>\n",
       "<style scoped>\n",
       "    .dataframe tbody tr th:only-of-type {\n",
       "        vertical-align: middle;\n",
       "    }\n",
       "\n",
       "    .dataframe tbody tr th {\n",
       "        vertical-align: top;\n",
       "    }\n",
       "\n",
       "    .dataframe thead th {\n",
       "        text-align: right;\n",
       "    }\n",
       "</style>\n",
       "<table border=\"1\" class=\"dataframe\">\n",
       "  <thead>\n",
       "    <tr style=\"text-align: right;\">\n",
       "      <th></th>\n",
       "      <th>Label</th>\n",
       "      <th>Id</th>\n",
       "      <th>Elevation</th>\n",
       "      <th>IsActive</th>\n",
       "      <th>Zone</th>\n",
       "      <th>ZoneId</th>\n",
       "      <th>ZoneLabel</th>\n",
       "      <th>InitAge</th>\n",
       "      <th>InitConc</th>\n",
       "      <th>InitTrace</th>\n",
       "      <th>Geometry</th>\n",
       "      <th>X</th>\n",
       "      <th>Y</th>\n",
       "    </tr>\n",
       "  </thead>\n",
       "  <tbody>\n",
       "    <tr>\n",
       "      <th>0</th>\n",
       "      <td>Reservoir</td>\n",
       "      <td>304</td>\n",
       "      <td>147.0</td>\n",
       "      <td>True</td>\n",
       "      <td>Zone : 116 : ResComA</td>\n",
       "      <td>116</td>\n",
       "      <td>ResComA</td>\n",
       "      <td>0.0</td>\n",
       "      <td>0.0</td>\n",
       "      <td>0.0</td>\n",
       "      <td>(698635.318520826, 21999.7589659748)</td>\n",
       "      <td>698635.318521</td>\n",
       "      <td>21999.758966</td>\n",
       "    </tr>\n",
       "  </tbody>\n",
       "</table>\n",
       "</div>"
      ],
      "text/plain": [
       "       Label   Id  Elevation  IsActive                  Zone  ZoneId  \\\n",
       "0  Reservoir  304      147.0      True  Zone : 116 : ResComA     116   \n",
       "\n",
       "  ZoneLabel  InitAge  InitConc  InitTrace  \\\n",
       "0   ResComA      0.0       0.0        0.0   \n",
       "\n",
       "                               Geometry              X             Y  \n",
       "0  (698635.318520826, 21999.7589659748)  698635.318521  21999.758966  "
      ]
     },
     "execution_count": 15,
     "metadata": {},
     "output_type": "execute_result"
    }
   ],
   "source": [
    "ni.reservoir_df.head()"
   ]
  },
  {
   "cell_type": "markdown",
   "metadata": {},
   "source": [
    "### Taps"
   ]
  },
  {
   "cell_type": "code",
   "execution_count": 16,
   "metadata": {},
   "outputs": [
    {
     "data": {
      "text/markdown": [
       "## Taps DataFrame (`ni.tap_df`)\n",
       "\n",
       "> ### **Summary Map**\n",
       ">\n",
       "> | ITapsInput | |\n",
       "> |--|--|\n",
       "> | IPointNodesInput ||\n",
       "> | | IActiveElementsInput |\n",
       "> | | IElementsInput |\n"
      ],
      "text/plain": [
       "<IPython.core.display.Markdown object>"
      ]
     },
     "metadata": {},
     "output_type": "display_data"
    }
   ],
   "source": [
    "display(Markdown(\"notebook/md/networkInput/taps.md\"))"
   ]
  },
  {
   "cell_type": "code",
   "execution_count": 17,
   "metadata": {},
   "outputs": [
    {
     "data": {
      "text/html": [
       "<div>\n",
       "<style scoped>\n",
       "    .dataframe tbody tr th:only-of-type {\n",
       "        vertical-align: middle;\n",
       "    }\n",
       "\n",
       "    .dataframe tbody tr th {\n",
       "        vertical-align: top;\n",
       "    }\n",
       "\n",
       "    .dataframe thead th {\n",
       "        text-align: right;\n",
       "    }\n",
       "</style>\n",
       "<table border=\"1\" class=\"dataframe\">\n",
       "  <thead>\n",
       "    <tr style=\"text-align: right;\">\n",
       "      <th></th>\n",
       "      <th>Label</th>\n",
       "      <th>Id</th>\n",
       "      <th>Geometry</th>\n",
       "      <th>X</th>\n",
       "      <th>Y</th>\n",
       "      <th>AssocElem</th>\n",
       "      <th>AssocElemId</th>\n",
       "    </tr>\n",
       "  </thead>\n",
       "  <tbody>\n",
       "  </tbody>\n",
       "</table>\n",
       "</div>"
      ],
      "text/plain": [
       "Empty DataFrame\n",
       "Columns: [Label, Id, Geometry, X, Y, AssocElem, AssocElemId]\n",
       "Index: []"
      ]
     },
     "execution_count": 17,
     "metadata": {},
     "output_type": "execute_result"
    }
   ],
   "source": [
    "ni.tap_df.head()"
   ]
  },
  {
   "cell_type": "markdown",
   "metadata": {},
   "source": [
    "### Pumps"
   ]
  },
  {
   "cell_type": "code",
   "execution_count": 18,
   "metadata": {},
   "outputs": [
    {
     "data": {
      "text/markdown": [
       "## Pumps DataFrame (`ni.pump_df`)\n",
       "\n",
       "> ### **Summary Map**\n",
       ">\n",
       "> | IPumpsInput | | ||\n",
       "> |--|--|--|--|\n",
       "> | IBasePumpsInput ||||\n",
       "> | | IBaseDirectedNodesInput |||\n",
       "> | | | IPointNodesInput ||\n",
       "> | | | | IActiveElementsInput |\n",
       "> | | | | IElementsInput |\n",
       "> | | | IWaterZoneableNetworkElementsInput ||\n",
       "> | | | | IActiveElementsInput |\n",
       "> | | | IWaterQualityElementsInput ||\n",
       "> | | | IPhysicalNodeElementsInput ||\n",
       "> | | | | IPointNodesInput |\n"
      ],
      "text/plain": [
       "<IPython.core.display.Markdown object>"
      ]
     },
     "metadata": {},
     "output_type": "display_data"
    }
   ],
   "source": [
    "display(Markdown(\"notebook/md/networkInput/pumps.md\"))"
   ]
  },
  {
   "cell_type": "code",
   "execution_count": 19,
   "metadata": {},
   "outputs": [
    {
     "data": {
      "text/html": [
       "<div>\n",
       "<style scoped>\n",
       "    .dataframe tbody tr th:only-of-type {\n",
       "        vertical-align: middle;\n",
       "    }\n",
       "\n",
       "    .dataframe tbody tr th {\n",
       "        vertical-align: top;\n",
       "    }\n",
       "\n",
       "    .dataframe thead th {\n",
       "        text-align: right;\n",
       "    }\n",
       "</style>\n",
       "<table border=\"1\" class=\"dataframe\">\n",
       "  <thead>\n",
       "    <tr style=\"text-align: right;\">\n",
       "      <th></th>\n",
       "      <th>Label</th>\n",
       "      <th>Id</th>\n",
       "      <th>Elevation</th>\n",
       "      <th>IsActive</th>\n",
       "      <th>Zone</th>\n",
       "      <th>ZoneId</th>\n",
       "      <th>ZoneLabel</th>\n",
       "      <th>InitAge</th>\n",
       "      <th>InitConc</th>\n",
       "      <th>InitTrace</th>\n",
       "      <th>Geometry</th>\n",
       "      <th>X</th>\n",
       "      <th>Y</th>\n",
       "      <th>InstallYr</th>\n",
       "      <th>InitSpeedFactor</th>\n",
       "      <th>InitStatus</th>\n",
       "    </tr>\n",
       "  </thead>\n",
       "  <tbody>\n",
       "    <tr>\n",
       "      <th>0</th>\n",
       "      <td>PMP-2</td>\n",
       "      <td>307</td>\n",
       "      <td>145.0</td>\n",
       "      <td>True</td>\n",
       "      <td>None</td>\n",
       "      <td>None</td>\n",
       "      <td>&lt;NA&gt;</td>\n",
       "      <td>0.0</td>\n",
       "      <td>0.0</td>\n",
       "      <td>0.0</td>\n",
       "      <td>(698416.650135598, 21795.5780683706)</td>\n",
       "      <td>698416.650136</td>\n",
       "      <td>21795.578068</td>\n",
       "      <td>0</td>\n",
       "      <td>1.0</td>\n",
       "      <td>0</td>\n",
       "    </tr>\n",
       "    <tr>\n",
       "      <th>1</th>\n",
       "      <td>PMP-1</td>\n",
       "      <td>306</td>\n",
       "      <td>145.0</td>\n",
       "      <td>True</td>\n",
       "      <td>None</td>\n",
       "      <td>None</td>\n",
       "      <td>&lt;NA&gt;</td>\n",
       "      <td>0.0</td>\n",
       "      <td>0.0</td>\n",
       "      <td>0.0</td>\n",
       "      <td>(698297.127712692, 21837.4958431534)</td>\n",
       "      <td>698297.127713</td>\n",
       "      <td>21837.495843</td>\n",
       "      <td>0</td>\n",
       "      <td>1.0</td>\n",
       "      <td>0</td>\n",
       "    </tr>\n",
       "  </tbody>\n",
       "</table>\n",
       "</div>"
      ],
      "text/plain": [
       "   Label   Id  Elevation  IsActive  Zone ZoneId ZoneLabel  InitAge  InitConc  \\\n",
       "0  PMP-2  307      145.0      True  None   None      <NA>      0.0       0.0   \n",
       "1  PMP-1  306      145.0      True  None   None      <NA>      0.0       0.0   \n",
       "\n",
       "   InitTrace                              Geometry              X  \\\n",
       "0        0.0  (698416.650135598, 21795.5780683706)  698416.650136   \n",
       "1        0.0  (698297.127712692, 21837.4958431534)  698297.127713   \n",
       "\n",
       "              Y  InstallYr  InitSpeedFactor  InitStatus  \n",
       "0  21795.578068          0              1.0           0  \n",
       "1  21837.495843          0              1.0           0  "
      ]
     },
     "execution_count": 19,
     "metadata": {},
     "output_type": "execute_result"
    }
   ],
   "source": [
    "ni.pump_df.head()"
   ]
  },
  {
   "cell_type": "markdown",
   "metadata": {},
   "source": [
    "### Customer Meters"
   ]
  },
  {
   "cell_type": "code",
   "execution_count": 20,
   "metadata": {},
   "outputs": [
    {
     "data": {
      "text/markdown": [
       "## Customer Meter DataFrame (`ni.cusotmer_meter_df`)\n",
       "\n",
       "> ### **Summary Map**\n",
       ">\n",
       "> | ICustomerMetersInput | | ||\n",
       "> |--|--|--|--|\n",
       "> | | IPointNodesInput |||\n",
       "> | | | IActiveElementsInput ||\n",
       "> | | | IElementsInput ||\n",
       "> | | IPhysicalNodeElementsInput ||\n",
       "> | | | IPointNodesInput ||\n",
       "> | | | | IActiveElementsInput |\n",
       "> | | | | IElementsInput |\n"
      ],
      "text/plain": [
       "<IPython.core.display.Markdown object>"
      ]
     },
     "metadata": {},
     "output_type": "display_data"
    }
   ],
   "source": [
    "display(Markdown(\"notebook/md/networkInput/customerMeters.md\"))"
   ]
  },
  {
   "cell_type": "code",
   "execution_count": 21,
   "metadata": {},
   "outputs": [
    {
     "data": {
      "text/html": [
       "<div>\n",
       "<style scoped>\n",
       "    .dataframe tbody tr th:only-of-type {\n",
       "        vertical-align: middle;\n",
       "    }\n",
       "\n",
       "    .dataframe tbody tr th {\n",
       "        vertical-align: top;\n",
       "    }\n",
       "\n",
       "    .dataframe thead th {\n",
       "        text-align: right;\n",
       "    }\n",
       "</style>\n",
       "<table border=\"1\" class=\"dataframe\">\n",
       "  <thead>\n",
       "    <tr style=\"text-align: right;\">\n",
       "      <th></th>\n",
       "      <th>Label</th>\n",
       "      <th>Id</th>\n",
       "      <th>Geometry</th>\n",
       "      <th>X</th>\n",
       "      <th>Y</th>\n",
       "      <th>Elevation</th>\n",
       "      <th>Demand</th>\n",
       "      <th>Pattern</th>\n",
       "      <th>PatternId</th>\n",
       "      <th>StartDemandDist</th>\n",
       "      <th>AssocElem</th>\n",
       "      <th>AssocElemId</th>\n",
       "      <th>UnitDemand</th>\n",
       "      <th>UnitDmdPattern</th>\n",
       "      <th>UnitDmdPatternId</th>\n",
       "      <th>NumUnitDmd</th>\n",
       "    </tr>\n",
       "  </thead>\n",
       "  <tbody>\n",
       "  </tbody>\n",
       "</table>\n",
       "</div>"
      ],
      "text/plain": [
       "Empty DataFrame\n",
       "Columns: [Label, Id, Geometry, X, Y, Elevation, Demand, Pattern, PatternId, StartDemandDist, AssocElem, AssocElemId, UnitDemand, UnitDmdPattern, UnitDmdPatternId, NumUnitDmd]\n",
       "Index: []"
      ]
     },
     "execution_count": 21,
     "metadata": {},
     "output_type": "execute_result"
    }
   ],
   "source": [
    "ni.customer_meter_df.head()"
   ]
  },
  {
   "cell_type": "markdown",
   "metadata": {},
   "source": [
    "### SCADA Elements"
   ]
  },
  {
   "cell_type": "code",
   "execution_count": 22,
   "metadata": {},
   "outputs": [
    {
     "data": {
      "text/markdown": [
       "## SCADA Elements DataFrame (`ni.scada_element_df`)\n",
       "\n",
       "> ### **Summary Map**\n",
       ">\n",
       "> | ISCADAElementsInput | |\n",
       "> |--|--|\n",
       "> | IPointNodesInput ||\n",
       "> | | IActiveElementsInput |\n",
       "> | | IElementsInput |\n"
      ],
      "text/plain": [
       "<IPython.core.display.Markdown object>"
      ]
     },
     "metadata": {},
     "output_type": "display_data"
    }
   ],
   "source": [
    "display(Markdown(\"notebook/md/networkInput/scadaElements.md\"))"
   ]
  },
  {
   "cell_type": "code",
   "execution_count": 23,
   "metadata": {},
   "outputs": [
    {
     "data": {
      "text/html": [
       "<div>\n",
       "<style scoped>\n",
       "    .dataframe tbody tr th:only-of-type {\n",
       "        vertical-align: middle;\n",
       "    }\n",
       "\n",
       "    .dataframe tbody tr th {\n",
       "        vertical-align: top;\n",
       "    }\n",
       "\n",
       "    .dataframe thead th {\n",
       "        text-align: right;\n",
       "    }\n",
       "</style>\n",
       "<table border=\"1\" class=\"dataframe\">\n",
       "  <thead>\n",
       "    <tr style=\"text-align: right;\">\n",
       "      <th></th>\n",
       "      <th>Label</th>\n",
       "      <th>Id</th>\n",
       "      <th>Geometry</th>\n",
       "      <th>X</th>\n",
       "      <th>Y</th>\n",
       "      <th>TgtElem</th>\n",
       "      <th>TgtElemId</th>\n",
       "      <th>HistSignal</th>\n",
       "      <th>HistSignalId</th>\n",
       "    </tr>\n",
       "  </thead>\n",
       "  <tbody>\n",
       "    <tr>\n",
       "      <th>0</th>\n",
       "      <td>SCADA - PMP-2 Rel Speed</td>\n",
       "      <td>670</td>\n",
       "      <td>(698496.954509091, 21788.0038471124)</td>\n",
       "      <td>698496.954509</td>\n",
       "      <td>21788.003847</td>\n",
       "      <td>Pump : 307 : PMP-2</td>\n",
       "      <td>307</td>\n",
       "      <td>SCADASignal : 662 : PMP2 Speed Factor</td>\n",
       "      <td>662</td>\n",
       "    </tr>\n",
       "    <tr>\n",
       "      <th>1</th>\n",
       "      <td>SCADA - P-12 Flow</td>\n",
       "      <td>669</td>\n",
       "      <td>(699714.937089475, 20504.5207433615)</td>\n",
       "      <td>699714.937089</td>\n",
       "      <td>20504.520743</td>\n",
       "      <td>Pipe : 322 : P-12</td>\n",
       "      <td>322</td>\n",
       "      <td>SCADASignal : 658 : P-12 Flow</td>\n",
       "      <td>658</td>\n",
       "    </tr>\n",
       "    <tr>\n",
       "      <th>2</th>\n",
       "      <td>SCADA - P-36 Flow</td>\n",
       "      <td>668</td>\n",
       "      <td>(700210.277748302, 19754.8165648771)</td>\n",
       "      <td>700210.277748</td>\n",
       "      <td>19754.816565</td>\n",
       "      <td>Pipe : 345 : P-36</td>\n",
       "      <td>345</td>\n",
       "      <td>SCADASignal : 660 : P-36 Flow</td>\n",
       "      <td>660</td>\n",
       "    </tr>\n",
       "    <tr>\n",
       "      <th>3</th>\n",
       "      <td>SCADA - P-125 Flow</td>\n",
       "      <td>667</td>\n",
       "      <td>(700156.983105445, 19923.7719220206)</td>\n",
       "      <td>700156.983105</td>\n",
       "      <td>19923.771922</td>\n",
       "      <td>Pipe : 425 : P-125</td>\n",
       "      <td>425</td>\n",
       "      <td>SCADASignal : 659 : P-125 Flow</td>\n",
       "      <td>659</td>\n",
       "    </tr>\n",
       "    <tr>\n",
       "      <th>4</th>\n",
       "      <td>SCADA - Reservoir Outflow</td>\n",
       "      <td>665</td>\n",
       "      <td>(698572.74763693, 21939.2844800693)</td>\n",
       "      <td>698572.747637</td>\n",
       "      <td>21939.284480</td>\n",
       "      <td>Pipe : 311 : P-1</td>\n",
       "      <td>311</td>\n",
       "      <td>SCADASignal : 657 : Flow from Res</td>\n",
       "      <td>657</td>\n",
       "    </tr>\n",
       "  </tbody>\n",
       "</table>\n",
       "</div>"
      ],
      "text/plain": [
       "                       Label   Id                              Geometry  \\\n",
       "0    SCADA - PMP-2 Rel Speed  670  (698496.954509091, 21788.0038471124)   \n",
       "1          SCADA - P-12 Flow  669  (699714.937089475, 20504.5207433615)   \n",
       "2          SCADA - P-36 Flow  668  (700210.277748302, 19754.8165648771)   \n",
       "3         SCADA - P-125 Flow  667  (700156.983105445, 19923.7719220206)   \n",
       "4  SCADA - Reservoir Outflow  665   (698572.74763693, 21939.2844800693)   \n",
       "\n",
       "               X             Y             TgtElem  TgtElemId  \\\n",
       "0  698496.954509  21788.003847  Pump : 307 : PMP-2        307   \n",
       "1  699714.937089  20504.520743   Pipe : 322 : P-12        322   \n",
       "2  700210.277748  19754.816565   Pipe : 345 : P-36        345   \n",
       "3  700156.983105  19923.771922  Pipe : 425 : P-125        425   \n",
       "4  698572.747637  21939.284480    Pipe : 311 : P-1        311   \n",
       "\n",
       "                              HistSignal  HistSignalId  \n",
       "0  SCADASignal : 662 : PMP2 Speed Factor           662  \n",
       "1          SCADASignal : 658 : P-12 Flow           658  \n",
       "2          SCADASignal : 660 : P-36 Flow           660  \n",
       "3         SCADASignal : 659 : P-125 Flow           659  \n",
       "4      SCADASignal : 657 : Flow from Res           657  "
      ]
     },
     "execution_count": 23,
     "metadata": {},
     "output_type": "execute_result"
    }
   ],
   "source": [
    "ni.scada_elem_df.head()"
   ]
  },
  {
   "cell_type": "markdown",
   "metadata": {},
   "source": [
    "### Pump Stations"
   ]
  },
  {
   "cell_type": "code",
   "execution_count": 24,
   "metadata": {},
   "outputs": [
    {
     "data": {
      "text/markdown": [
       "## Pump Stationss DataFrame (`ni.pump_station_df`)\n",
       "\n",
       "> ### **Summary Map**\n",
       ">\n",
       "> | IPumpStationsInput | |\n",
       "> |--|--|\n",
       "> | IBasePolygonsInput ||\n",
       "> | | IActiveElementsInput |\n",
       "> | | IElementsInput |\n"
      ],
      "text/plain": [
       "<IPython.core.display.Markdown object>"
      ]
     },
     "metadata": {},
     "output_type": "display_data"
    }
   ],
   "source": [
    "display(Markdown(\"notebook/md/networkInput/pumpStations.md\"))"
   ]
  },
  {
   "cell_type": "code",
   "execution_count": 25,
   "metadata": {},
   "outputs": [
    {
     "data": {
      "text/html": [
       "<div>\n",
       "<style scoped>\n",
       "    .dataframe tbody tr th:only-of-type {\n",
       "        vertical-align: middle;\n",
       "    }\n",
       "\n",
       "    .dataframe tbody tr th {\n",
       "        vertical-align: top;\n",
       "    }\n",
       "\n",
       "    .dataframe thead th {\n",
       "        text-align: right;\n",
       "    }\n",
       "</style>\n",
       "<table border=\"1\" class=\"dataframe\">\n",
       "  <thead>\n",
       "    <tr style=\"text-align: right;\">\n",
       "      <th></th>\n",
       "      <th>Label</th>\n",
       "      <th>Id</th>\n",
       "      <th>IsActive</th>\n",
       "      <th>Geometry</th>\n",
       "    </tr>\n",
       "  </thead>\n",
       "  <tbody>\n",
       "  </tbody>\n",
       "</table>\n",
       "</div>"
      ],
      "text/plain": [
       "Empty DataFrame\n",
       "Columns: [Label, Id, IsActive, Geometry]\n",
       "Index: []"
      ]
     },
     "execution_count": 25,
     "metadata": {},
     "output_type": "execute_result"
    }
   ],
   "source": [
    "ni.pump_stn_df.head()"
   ]
  },
  {
   "cell_type": "markdown",
   "metadata": {},
   "source": [
    "### VSPB (Variable Speed Pump Battery)"
   ]
  },
  {
   "cell_type": "code",
   "execution_count": 26,
   "metadata": {},
   "outputs": [
    {
     "data": {
      "text/markdown": [
       "## Tanks DataFrame (`ni.tank_df`)\n",
       "\n",
       "> ### **Summary Map**\n",
       ">\n",
       "> | ITanksInput | | ||\n",
       "> |--|--|--|--|\n",
       "> | IBasePumpsInput ||||\n",
       "> | | IBaseDirectedNodesInput |||\n",
       "> | | | IPointNodesInput ||\n",
       "> | | | | IActiveElementsInput |\n",
       "> | | | | IElementsInput |\n",
       "> | | | IWaterZoneableNetworkElementsInput ||\n",
       "> | | | | IActiveElementsInput |\n",
       "> | | | IWaterQualityElementsInput ||\n",
       "> | | | IPhysicalNodeElementsInput ||\n",
       "> | | | | IPointNodesInput |\n"
      ],
      "text/plain": [
       "<IPython.core.display.Markdown object>"
      ]
     },
     "metadata": {},
     "output_type": "display_data"
    }
   ],
   "source": [
    "display(Markdown(\"notebook/md/networkInput/vspbs.md\"))"
   ]
  },
  {
   "cell_type": "code",
   "execution_count": 27,
   "metadata": {},
   "outputs": [
    {
     "data": {
      "text/html": [
       "<div>\n",
       "<style scoped>\n",
       "    .dataframe tbody tr th:only-of-type {\n",
       "        vertical-align: middle;\n",
       "    }\n",
       "\n",
       "    .dataframe tbody tr th {\n",
       "        vertical-align: top;\n",
       "    }\n",
       "\n",
       "    .dataframe thead th {\n",
       "        text-align: right;\n",
       "    }\n",
       "</style>\n",
       "<table border=\"1\" class=\"dataframe\">\n",
       "  <thead>\n",
       "    <tr style=\"text-align: right;\">\n",
       "      <th></th>\n",
       "      <th>Label</th>\n",
       "      <th>Id</th>\n",
       "      <th>Elevation</th>\n",
       "      <th>IsActive</th>\n",
       "      <th>Zone</th>\n",
       "      <th>ZoneId</th>\n",
       "      <th>ZoneLabel</th>\n",
       "      <th>InitAge</th>\n",
       "      <th>InitConc</th>\n",
       "      <th>InitTrace</th>\n",
       "      <th>...</th>\n",
       "      <th>ControlNodeId</th>\n",
       "      <th>TgtHGL</th>\n",
       "      <th>MaxSpeedFactor</th>\n",
       "      <th>NumLagPumps</th>\n",
       "      <th>CtrlNodeSucSide</th>\n",
       "      <th>CtrlNodeSucSideId</th>\n",
       "      <th>TgtFlow</th>\n",
       "      <th>TgtPressure</th>\n",
       "      <th>VSPBType</th>\n",
       "      <th>VSPBFixedHeadType</th>\n",
       "    </tr>\n",
       "  </thead>\n",
       "  <tbody>\n",
       "  </tbody>\n",
       "</table>\n",
       "<p>0 rows × 29 columns</p>\n",
       "</div>"
      ],
      "text/plain": [
       "Empty DataFrame\n",
       "Columns: [Label, Id, Elevation, IsActive, Zone, ZoneId, ZoneLabel, InitAge, InitConc, InitTrace, Geometry, X, Y, InstallYr, InitSpeedFactor, InitStatus, PumpDefinition, PumpDefinitionId, ControlNode, ControlNodeId, TgtHGL, MaxSpeedFactor, NumLagPumps, CtrlNodeSucSide, CtrlNodeSucSideId, TgtFlow, TgtPressure, VSPBType, VSPBFixedHeadType]\n",
       "Index: []\n",
       "\n",
       "[0 rows x 29 columns]"
      ]
     },
     "execution_count": 27,
     "metadata": {},
     "output_type": "execute_result"
    }
   ],
   "source": [
    "ni.vspb_df.head()"
   ]
  },
  {
   "cell_type": "markdown",
   "metadata": {},
   "source": [
    "### PRV (Pressure Reducing Valves)"
   ]
  },
  {
   "cell_type": "code",
   "execution_count": 28,
   "metadata": {},
   "outputs": [
    {
     "data": {
      "text/markdown": [
       "## PRVs (Pressure Reducing Valves) DataFrame (`ni.prv_df`)\n",
       "\n",
       "> ### **Summary Map**\n",
       ">\n",
       "> | IPressureReducingValvesInput |||||\n",
       "> |--|--|--|--|--|\n",
       "> | IPressureValvesInput |||||\n",
       "> | | IBaseValvesInput ||||\n",
       "> | | | IBaseDirectedNodesInput |||\n",
       "> | | | | IPointNodesInput ||\n",
       "> | | | | | IActiveElementsInput |\n",
       "> | | | | | IElementsInput |\n",
       "> | | | | IWaterZoneableNetworkElementsInput ||\n",
       "> | | | | | IActiveElementsInput |\n",
       "> | | | | IWaterQualityElementsInput ||\n",
       "> | | | | IPhysicalNodeElementsInput ||\n",
       "> | | | | | IPointNodesInput |\n"
      ],
      "text/plain": [
       "<IPython.core.display.Markdown object>"
      ]
     },
     "metadata": {},
     "output_type": "display_data"
    }
   ],
   "source": [
    "display(Markdown(\"notebook/md/networkInput/prvs.md\"))"
   ]
  },
  {
   "cell_type": "code",
   "execution_count": 29,
   "metadata": {},
   "outputs": [
    {
     "data": {
      "text/html": [
       "<div>\n",
       "<style scoped>\n",
       "    .dataframe tbody tr th:only-of-type {\n",
       "        vertical-align: middle;\n",
       "    }\n",
       "\n",
       "    .dataframe tbody tr th {\n",
       "        vertical-align: top;\n",
       "    }\n",
       "\n",
       "    .dataframe thead th {\n",
       "        text-align: right;\n",
       "    }\n",
       "</style>\n",
       "<table border=\"1\" class=\"dataframe\">\n",
       "  <thead>\n",
       "    <tr style=\"text-align: right;\">\n",
       "      <th></th>\n",
       "      <th>Label</th>\n",
       "      <th>Id</th>\n",
       "      <th>Elevation</th>\n",
       "      <th>IsActive</th>\n",
       "      <th>Zone</th>\n",
       "      <th>ZoneId</th>\n",
       "      <th>ZoneLabel</th>\n",
       "      <th>InitAge</th>\n",
       "      <th>InitConc</th>\n",
       "      <th>InitTrace</th>\n",
       "      <th>...</th>\n",
       "      <th>Y</th>\n",
       "      <th>InstallYr</th>\n",
       "      <th>dMLossCoeff</th>\n",
       "      <th>IsLocalMLoss</th>\n",
       "      <th>LocalMLossCoeff</th>\n",
       "      <th>InitStatus</th>\n",
       "      <th>Diameter</th>\n",
       "      <th>PressureSettings</th>\n",
       "      <th>InitSetting</th>\n",
       "      <th>ValveChrsts</th>\n",
       "    </tr>\n",
       "  </thead>\n",
       "  <tbody>\n",
       "    <tr>\n",
       "      <th>0</th>\n",
       "      <td>PRV-3</td>\n",
       "      <td>310</td>\n",
       "      <td>129.0</td>\n",
       "      <td>True</td>\n",
       "      <td>None</td>\n",
       "      <td>None</td>\n",
       "      <td>&lt;NA&gt;</td>\n",
       "      <td>0.0</td>\n",
       "      <td>0.0</td>\n",
       "      <td>0.0</td>\n",
       "      <td>...</td>\n",
       "      <td>20400.323366</td>\n",
       "      <td>0</td>\n",
       "      <td>0.0</td>\n",
       "      <td>True</td>\n",
       "      <td>0.0</td>\n",
       "      <td>Active</td>\n",
       "      <td>150.0</td>\n",
       "      <td>1.0</td>\n",
       "      <td>197.388496</td>\n",
       "      <td>None</td>\n",
       "    </tr>\n",
       "    <tr>\n",
       "      <th>1</th>\n",
       "      <td>PRV-2</td>\n",
       "      <td>309</td>\n",
       "      <td>129.0</td>\n",
       "      <td>True</td>\n",
       "      <td>None</td>\n",
       "      <td>None</td>\n",
       "      <td>&lt;NA&gt;</td>\n",
       "      <td>0.0</td>\n",
       "      <td>0.0</td>\n",
       "      <td>0.0</td>\n",
       "      <td>...</td>\n",
       "      <td>21378.332345</td>\n",
       "      <td>0</td>\n",
       "      <td>0.0</td>\n",
       "      <td>True</td>\n",
       "      <td>0.0</td>\n",
       "      <td>Active</td>\n",
       "      <td>150.0</td>\n",
       "      <td>1.0</td>\n",
       "      <td>195.388496</td>\n",
       "      <td>None</td>\n",
       "    </tr>\n",
       "    <tr>\n",
       "      <th>2</th>\n",
       "      <td>PRV-1</td>\n",
       "      <td>308</td>\n",
       "      <td>131.0</td>\n",
       "      <td>True</td>\n",
       "      <td>None</td>\n",
       "      <td>None</td>\n",
       "      <td>&lt;NA&gt;</td>\n",
       "      <td>0.0</td>\n",
       "      <td>0.0</td>\n",
       "      <td>0.0</td>\n",
       "      <td>...</td>\n",
       "      <td>20517.266040</td>\n",
       "      <td>0</td>\n",
       "      <td>0.0</td>\n",
       "      <td>True</td>\n",
       "      <td>0.0</td>\n",
       "      <td>Active</td>\n",
       "      <td>150.0</td>\n",
       "      <td>1.0</td>\n",
       "      <td>195.388496</td>\n",
       "      <td>None</td>\n",
       "    </tr>\n",
       "  </tbody>\n",
       "</table>\n",
       "<p>3 rows × 22 columns</p>\n",
       "</div>"
      ],
      "text/plain": [
       "   Label   Id  Elevation  IsActive  Zone ZoneId ZoneLabel  InitAge  InitConc  \\\n",
       "0  PRV-3  310      129.0      True  None   None      <NA>      0.0       0.0   \n",
       "1  PRV-2  309      129.0      True  None   None      <NA>      0.0       0.0   \n",
       "2  PRV-1  308      131.0      True  None   None      <NA>      0.0       0.0   \n",
       "\n",
       "   InitTrace  ...             Y  InstallYr  dMLossCoeff  IsLocalMLoss  \\\n",
       "0        0.0  ...  20400.323366          0          0.0          True   \n",
       "1        0.0  ...  21378.332345          0          0.0          True   \n",
       "2        0.0  ...  20517.266040          0          0.0          True   \n",
       "\n",
       "   LocalMLossCoeff  InitStatus  Diameter PressureSettings  InitSetting  \\\n",
       "0              0.0      Active     150.0              1.0   197.388496   \n",
       "1              0.0      Active     150.0              1.0   195.388496   \n",
       "2              0.0      Active     150.0              1.0   195.388496   \n",
       "\n",
       "   ValveChrsts  \n",
       "0         None  \n",
       "1         None  \n",
       "2         None  \n",
       "\n",
       "[3 rows x 22 columns]"
      ]
     },
     "execution_count": 29,
     "metadata": {},
     "output_type": "execute_result"
    }
   ],
   "source": [
    "ni.prv_df.head()"
   ]
  },
  {
   "cell_type": "markdown",
   "metadata": {},
   "source": [
    "### PSV (Pressure Sustaining Valves)"
   ]
  },
  {
   "cell_type": "code",
   "execution_count": 30,
   "metadata": {},
   "outputs": [
    {
     "data": {
      "text/markdown": [
       "## PRVs (Pressure Sustaining Valves) DataFrame (`ni.psv_df`)\n",
       "\n",
       "> ### **Summary Map**\n",
       ">\n",
       "> | IPressureSustainingValvesInput |||||\n",
       "> |--|--|--|--|--|\n",
       "> | IPressureValvesInput |||||\n",
       "> | | IBaseValvesInput ||||\n",
       "> | | | IBaseDirectedNodesInput |||\n",
       "> | | | | IPointNodesInput ||\n",
       "> | | | | | IActiveElementsInput |\n",
       "> | | | | | IElementsInput |\n",
       "> | | | | IWaterZoneableNetworkElementsInput ||\n",
       "> | | | | | IActiveElementsInput |\n",
       "> | | | | IWaterQualityElementsInput ||\n",
       "> | | | | IPhysicalNodeElementsInput ||\n",
       "> | | | | | IPointNodesInput |\n"
      ],
      "text/plain": [
       "<IPython.core.display.Markdown object>"
      ]
     },
     "metadata": {},
     "output_type": "display_data"
    }
   ],
   "source": [
    "display(Markdown(\"notebook/md/networkInput/psvs.md\"))"
   ]
  },
  {
   "cell_type": "code",
   "execution_count": 31,
   "metadata": {},
   "outputs": [
    {
     "data": {
      "text/html": [
       "<div>\n",
       "<style scoped>\n",
       "    .dataframe tbody tr th:only-of-type {\n",
       "        vertical-align: middle;\n",
       "    }\n",
       "\n",
       "    .dataframe tbody tr th {\n",
       "        vertical-align: top;\n",
       "    }\n",
       "\n",
       "    .dataframe thead th {\n",
       "        text-align: right;\n",
       "    }\n",
       "</style>\n",
       "<table border=\"1\" class=\"dataframe\">\n",
       "  <thead>\n",
       "    <tr style=\"text-align: right;\">\n",
       "      <th></th>\n",
       "      <th>Label</th>\n",
       "      <th>Id</th>\n",
       "      <th>Elevation</th>\n",
       "      <th>IsActive</th>\n",
       "      <th>Zone</th>\n",
       "      <th>ZoneId</th>\n",
       "      <th>ZoneLabel</th>\n",
       "      <th>InitAge</th>\n",
       "      <th>InitConc</th>\n",
       "      <th>InitTrace</th>\n",
       "      <th>...</th>\n",
       "      <th>Y</th>\n",
       "      <th>InstallYr</th>\n",
       "      <th>dMLossCoeff</th>\n",
       "      <th>IsLocalMLoss</th>\n",
       "      <th>LocalMLossCoeff</th>\n",
       "      <th>InitStatus</th>\n",
       "      <th>Diameter</th>\n",
       "      <th>PressureSettings</th>\n",
       "      <th>InitSetting</th>\n",
       "      <th>ValveChrsts</th>\n",
       "    </tr>\n",
       "  </thead>\n",
       "  <tbody>\n",
       "  </tbody>\n",
       "</table>\n",
       "<p>0 rows × 22 columns</p>\n",
       "</div>"
      ],
      "text/plain": [
       "Empty DataFrame\n",
       "Columns: [Label, Id, Elevation, IsActive, Zone, ZoneId, ZoneLabel, InitAge, InitConc, InitTrace, Geometry, X, Y, InstallYr, dMLossCoeff, IsLocalMLoss, LocalMLossCoeff, InitStatus, Diameter, PressureSettings, InitSetting, ValveChrsts]\n",
       "Index: []\n",
       "\n",
       "[0 rows x 22 columns]"
      ]
     },
     "execution_count": 31,
     "metadata": {},
     "output_type": "execute_result"
    }
   ],
   "source": [
    "ni.psv_df.head()"
   ]
  },
  {
   "cell_type": "markdown",
   "metadata": {},
   "source": [
    "### PBV (Pressure Breaking Valves)"
   ]
  },
  {
   "cell_type": "code",
   "execution_count": 32,
   "metadata": {},
   "outputs": [
    {
     "data": {
      "text/markdown": [
       "## PBVs (Pressure Breaking Valves) DataFrame (`ni.pbv_df`)\n",
       "\n",
       "> ### **Summary Map**\n",
       ">\n",
       "> | IPressureBreakingValvesInput |||||\n",
       "> |--|--|--|--|--|\n",
       "> | IPressureValvesInput |||||\n",
       "> | | IBaseValvesInput ||||\n",
       "> | | | IBaseDirectedNodesInput |||\n",
       "> | | | | IPointNodesInput ||\n",
       "> | | | | | IActiveElementsInput |\n",
       "> | | | | | IElementsInput |\n",
       "> | | | | IWaterZoneableNetworkElementsInput ||\n",
       "> | | | | | IActiveElementsInput |\n",
       "> | | | | IWaterQualityElementsInput ||\n",
       "> | | | | IPhysicalNodeElementsInput ||\n",
       "> | | | | | IPointNodesInput |\n"
      ],
      "text/plain": [
       "<IPython.core.display.Markdown object>"
      ]
     },
     "metadata": {},
     "output_type": "display_data"
    }
   ],
   "source": [
    "display(Markdown(\"notebook/md/networkInput/pbvs.md\"))"
   ]
  },
  {
   "cell_type": "code",
   "execution_count": 33,
   "metadata": {},
   "outputs": [
    {
     "data": {
      "text/html": [
       "<div>\n",
       "<style scoped>\n",
       "    .dataframe tbody tr th:only-of-type {\n",
       "        vertical-align: middle;\n",
       "    }\n",
       "\n",
       "    .dataframe tbody tr th {\n",
       "        vertical-align: top;\n",
       "    }\n",
       "\n",
       "    .dataframe thead th {\n",
       "        text-align: right;\n",
       "    }\n",
       "</style>\n",
       "<table border=\"1\" class=\"dataframe\">\n",
       "  <thead>\n",
       "    <tr style=\"text-align: right;\">\n",
       "      <th></th>\n",
       "      <th>Label</th>\n",
       "      <th>Id</th>\n",
       "      <th>Elevation</th>\n",
       "      <th>IsActive</th>\n",
       "      <th>Zone</th>\n",
       "      <th>ZoneId</th>\n",
       "      <th>ZoneLabel</th>\n",
       "      <th>InitAge</th>\n",
       "      <th>InitConc</th>\n",
       "      <th>InitTrace</th>\n",
       "      <th>...</th>\n",
       "      <th>X</th>\n",
       "      <th>Y</th>\n",
       "      <th>InstallYr</th>\n",
       "      <th>dMLossCoeff</th>\n",
       "      <th>IsLocalMLoss</th>\n",
       "      <th>LocalMLossCoeff</th>\n",
       "      <th>InitStatus</th>\n",
       "      <th>Diameter</th>\n",
       "      <th>PressureSettings</th>\n",
       "      <th>InitSetting</th>\n",
       "    </tr>\n",
       "  </thead>\n",
       "  <tbody>\n",
       "  </tbody>\n",
       "</table>\n",
       "<p>0 rows × 21 columns</p>\n",
       "</div>"
      ],
      "text/plain": [
       "Empty DataFrame\n",
       "Columns: [Label, Id, Elevation, IsActive, Zone, ZoneId, ZoneLabel, InitAge, InitConc, InitTrace, Geometry, X, Y, InstallYr, dMLossCoeff, IsLocalMLoss, LocalMLossCoeff, InitStatus, Diameter, PressureSettings, InitSetting]\n",
       "Index: []\n",
       "\n",
       "[0 rows x 21 columns]"
      ]
     },
     "execution_count": 33,
     "metadata": {},
     "output_type": "execute_result"
    }
   ],
   "source": [
    "ni.pbv_df.head()"
   ]
  },
  {
   "cell_type": "markdown",
   "metadata": {},
   "source": [
    "### FCV (Flow Control Valves)"
   ]
  },
  {
   "cell_type": "code",
   "execution_count": 34,
   "metadata": {},
   "outputs": [
    {
     "data": {
      "text/markdown": [
       "## FCVs (Flow Control Valves) DataFrame (`ni.fcv_df`)\n",
       "\n",
       "> ### **Summary Map**\n",
       ">\n",
       "> | IFlowControlValvesInput | | |||\n",
       "> |--|--|--|--|--|\n",
       "> | IBaseValvesInput |||||\n",
       "> | | IBaseDirectedNodesInput ||||\n",
       "> | | | IPointNodesInput | ||\n",
       "> | | | | IActiveElementsInput ||\n",
       "> | | | | IElementsInput ||\n",
       "> | | | IWaterZoneableNetworkElementsInput ||||\n",
       "> | | | | IActiveElementsInput ||\n",
       "> | | | IWaterQualityElementsInput |||\n",
       "> | | | IPhysicalNodeElementsInput |||\n",
       "> | | | | IPointNodesInput ||\n"
      ],
      "text/plain": [
       "<IPython.core.display.Markdown object>"
      ]
     },
     "metadata": {},
     "output_type": "display_data"
    }
   ],
   "source": [
    "display(Markdown(\"notebook/md/networkInput/fcvs.md\"))"
   ]
  },
  {
   "cell_type": "code",
   "execution_count": 35,
   "metadata": {},
   "outputs": [
    {
     "data": {
      "text/html": [
       "<div>\n",
       "<style scoped>\n",
       "    .dataframe tbody tr th:only-of-type {\n",
       "        vertical-align: middle;\n",
       "    }\n",
       "\n",
       "    .dataframe tbody tr th {\n",
       "        vertical-align: top;\n",
       "    }\n",
       "\n",
       "    .dataframe thead th {\n",
       "        text-align: right;\n",
       "    }\n",
       "</style>\n",
       "<table border=\"1\" class=\"dataframe\">\n",
       "  <thead>\n",
       "    <tr style=\"text-align: right;\">\n",
       "      <th></th>\n",
       "      <th>Label</th>\n",
       "      <th>Id</th>\n",
       "      <th>Elevation</th>\n",
       "      <th>IsActive</th>\n",
       "      <th>Zone</th>\n",
       "      <th>ZoneId</th>\n",
       "      <th>ZoneLabel</th>\n",
       "      <th>InitAge</th>\n",
       "      <th>InitConc</th>\n",
       "      <th>InitTrace</th>\n",
       "      <th>...</th>\n",
       "      <th>X</th>\n",
       "      <th>Y</th>\n",
       "      <th>InstallYr</th>\n",
       "      <th>dMLossCoeff</th>\n",
       "      <th>IsLocalMLoss</th>\n",
       "      <th>LocalMLossCoeff</th>\n",
       "      <th>InitStatus</th>\n",
       "      <th>Diameter</th>\n",
       "      <th>InitFlowSetting</th>\n",
       "      <th>Characteristic</th>\n",
       "    </tr>\n",
       "  </thead>\n",
       "  <tbody>\n",
       "  </tbody>\n",
       "</table>\n",
       "<p>0 rows × 21 columns</p>\n",
       "</div>"
      ],
      "text/plain": [
       "Empty DataFrame\n",
       "Columns: [Label, Id, Elevation, IsActive, Zone, ZoneId, ZoneLabel, InitAge, InitConc, InitTrace, Geometry, X, Y, InstallYr, dMLossCoeff, IsLocalMLoss, LocalMLossCoeff, InitStatus, Diameter, InitFlowSetting, Characteristic]\n",
       "Index: []\n",
       "\n",
       "[0 rows x 21 columns]"
      ]
     },
     "execution_count": 35,
     "metadata": {},
     "output_type": "execute_result"
    }
   ],
   "source": [
    "ni.fcv_df.head()"
   ]
  },
  {
   "cell_type": "markdown",
   "metadata": {},
   "source": [
    "### TCVs (Throttle Control Valves)"
   ]
  },
  {
   "cell_type": "code",
   "execution_count": 36,
   "metadata": {},
   "outputs": [
    {
     "data": {
      "text/markdown": [
       "## VSPBs (Variable Speed Pump Batteries) DataFrame (`ni.vspb_df`)\n",
       "\n",
       "> ### **Summary Map**\n",
       ">\n",
       "> | IVSPBsInput | | |||\n",
       "> |--|--|--|--|--|\n",
       "> | | IBaseValvesInput ||||\n",
       "> | | | IBaseDirectedNodesInput |||\n",
       "> | | | | IPointNodeInput ||\n",
       "> | | | | | IActiveElementInput |\n",
       "> | | | | | IElementInput |\n",
       "> | | | | IWaterZoneableNetworkElementInput ||\n",
       "> | | | | | IActiveElementInput |\n",
       "> | | | | IWaterQualityElementInput ||\n",
       "> | | | | IWaterQualityNodesInput ||\n",
       "> | | | | IPhysicalNodeElementsInput ||\n",
       "> | | | | | IPointNodeInput |\n"
      ],
      "text/plain": [
       "<IPython.core.display.Markdown object>"
      ]
     },
     "metadata": {},
     "output_type": "display_data"
    }
   ],
   "source": [
    "display(Markdown(\"notebook/md/networkInput/tcvs.md\"))"
   ]
  },
  {
   "cell_type": "code",
   "execution_count": 37,
   "metadata": {},
   "outputs": [
    {
     "data": {
      "text/html": [
       "<div>\n",
       "<style scoped>\n",
       "    .dataframe tbody tr th:only-of-type {\n",
       "        vertical-align: middle;\n",
       "    }\n",
       "\n",
       "    .dataframe tbody tr th {\n",
       "        vertical-align: top;\n",
       "    }\n",
       "\n",
       "    .dataframe thead th {\n",
       "        text-align: right;\n",
       "    }\n",
       "</style>\n",
       "<table border=\"1\" class=\"dataframe\">\n",
       "  <thead>\n",
       "    <tr style=\"text-align: right;\">\n",
       "      <th></th>\n",
       "      <th>Label</th>\n",
       "      <th>Id</th>\n",
       "      <th>Elevation</th>\n",
       "      <th>IsActive</th>\n",
       "      <th>Zone</th>\n",
       "      <th>ZoneId</th>\n",
       "      <th>ZoneLabel</th>\n",
       "      <th>InitAge</th>\n",
       "      <th>InitConc</th>\n",
       "      <th>InitTrace</th>\n",
       "      <th>...</th>\n",
       "      <th>Y</th>\n",
       "      <th>InstallYr</th>\n",
       "      <th>dMLossCoeff</th>\n",
       "      <th>IsLocalMLoss</th>\n",
       "      <th>LocalMLossCoeff</th>\n",
       "      <th>InitStatus</th>\n",
       "      <th>Diameter</th>\n",
       "      <th>CoeffType</th>\n",
       "      <th>InitCoeff</th>\n",
       "      <th>Characteristic</th>\n",
       "    </tr>\n",
       "  </thead>\n",
       "  <tbody>\n",
       "  </tbody>\n",
       "</table>\n",
       "<p>0 rows × 22 columns</p>\n",
       "</div>"
      ],
      "text/plain": [
       "Empty DataFrame\n",
       "Columns: [Label, Id, Elevation, IsActive, Zone, ZoneId, ZoneLabel, InitAge, InitConc, InitTrace, Geometry, X, Y, InstallYr, dMLossCoeff, IsLocalMLoss, LocalMLossCoeff, InitStatus, Diameter, CoeffType, InitCoeff, Characteristic]\n",
       "Index: []\n",
       "\n",
       "[0 rows x 22 columns]"
      ]
     },
     "execution_count": 37,
     "metadata": {},
     "output_type": "execute_result"
    }
   ],
   "source": [
    "ni.tcv_df.head()"
   ]
  },
  {
   "cell_type": "markdown",
   "metadata": {},
   "source": [
    "### GPVs (General Purpose Valves)"
   ]
  },
  {
   "cell_type": "code",
   "execution_count": 38,
   "metadata": {},
   "outputs": [
    {
     "data": {
      "text/markdown": [
       "## GPVs (General Purpose Valves) DataFrame (`ni.gpv_df`)\n",
       "\n",
       "> ### **Summary Map**\n",
       ">\n",
       "> | IGeneralPurposeValvesInput | | |||\n",
       "> |--|--|--|--|--|\n",
       "> | IBaseValvesInput |||||\n",
       "> | | IBaseDirectedNodesInput ||||\n",
       "> | | | IPointNodesInput | ||\n",
       "> | | | | IActiveElementsInput ||\n",
       "> | | | | IElementsInput ||\n",
       "> | | | IWaterZoneableNetworkElementsInput ||||\n",
       "> | | | | IActiveElementsInput ||\n",
       "> | | | IWaterQualityElementsInput |||\n",
       "> | | | IPhysicalNodeElementsInput |||\n",
       "> | | | | IPointNodesInput ||\n"
      ],
      "text/plain": [
       "<IPython.core.display.Markdown object>"
      ]
     },
     "metadata": {},
     "output_type": "display_data"
    }
   ],
   "source": [
    "display(Markdown(\"notebook/md/networkInput/gpvs.md\"))"
   ]
  },
  {
   "cell_type": "code",
   "execution_count": 39,
   "metadata": {},
   "outputs": [
    {
     "data": {
      "text/html": [
       "<div>\n",
       "<style scoped>\n",
       "    .dataframe tbody tr th:only-of-type {\n",
       "        vertical-align: middle;\n",
       "    }\n",
       "\n",
       "    .dataframe tbody tr th {\n",
       "        vertical-align: top;\n",
       "    }\n",
       "\n",
       "    .dataframe thead th {\n",
       "        text-align: right;\n",
       "    }\n",
       "</style>\n",
       "<table border=\"1\" class=\"dataframe\">\n",
       "  <thead>\n",
       "    <tr style=\"text-align: right;\">\n",
       "      <th></th>\n",
       "      <th>Label</th>\n",
       "      <th>Id</th>\n",
       "      <th>Elevation</th>\n",
       "      <th>IsActive</th>\n",
       "      <th>Zone</th>\n",
       "      <th>ZoneId</th>\n",
       "      <th>ZoneLabel</th>\n",
       "      <th>InitAge</th>\n",
       "      <th>InitConc</th>\n",
       "      <th>InitTrace</th>\n",
       "      <th>...</th>\n",
       "      <th>X</th>\n",
       "      <th>Y</th>\n",
       "      <th>InstallYr</th>\n",
       "      <th>dMLossCoeff</th>\n",
       "      <th>IsLocalMLoss</th>\n",
       "      <th>LocalMLossCoeff</th>\n",
       "      <th>InitStatus</th>\n",
       "      <th>Diameter</th>\n",
       "      <th>PressureSettings</th>\n",
       "      <th>InitSetting</th>\n",
       "    </tr>\n",
       "  </thead>\n",
       "  <tbody>\n",
       "  </tbody>\n",
       "</table>\n",
       "<p>0 rows × 21 columns</p>\n",
       "</div>"
      ],
      "text/plain": [
       "Empty DataFrame\n",
       "Columns: [Label, Id, Elevation, IsActive, Zone, ZoneId, ZoneLabel, InitAge, InitConc, InitTrace, Geometry, X, Y, InstallYr, dMLossCoeff, IsLocalMLoss, LocalMLossCoeff, InitStatus, Diameter, PressureSettings, InitSetting]\n",
       "Index: []\n",
       "\n",
       "[0 rows x 21 columns]"
      ]
     },
     "execution_count": 39,
     "metadata": {},
     "output_type": "execute_result"
    }
   ],
   "source": [
    "ni.pbv_df.head()"
   ]
  },
  {
   "cell_type": "markdown",
   "metadata": {},
   "source": [
    "### Isolation Valves"
   ]
  },
  {
   "cell_type": "code",
   "execution_count": 40,
   "metadata": {},
   "outputs": [
    {
     "data": {
      "text/markdown": [
       "## Isolation Valves DataFrame (`ni.iso_valve_df`)\n",
       "\n",
       "> ### **Summary Map**\n",
       ">\n",
       "> | IIsolationValveElementsInput | | |\n",
       "> |--|--|--|\n",
       "> | | IPointNodesInput | |\n",
       "> | | | IActiveElementsInput |\n",
       "> | | | IElementsInput |\n",
       "> | | IPhysicalNodeElementsInput |||\n",
       "> | | | IPointNodesInput | |\n",
       "> | | | | IActiveElementsInput |\n",
       "> | | | | IElementsInput |\n"
      ],
      "text/plain": [
       "<IPython.core.display.Markdown object>"
      ]
     },
     "metadata": {},
     "output_type": "display_data"
    }
   ],
   "source": [
    "display(Markdown(\"notebook/md/networkInput/isoValves.md\"))"
   ]
  },
  {
   "cell_type": "code",
   "execution_count": 41,
   "metadata": {},
   "outputs": [
    {
     "data": {
      "text/html": [
       "<div>\n",
       "<style scoped>\n",
       "    .dataframe tbody tr th:only-of-type {\n",
       "        vertical-align: middle;\n",
       "    }\n",
       "\n",
       "    .dataframe tbody tr th {\n",
       "        vertical-align: top;\n",
       "    }\n",
       "\n",
       "    .dataframe thead th {\n",
       "        text-align: right;\n",
       "    }\n",
       "</style>\n",
       "<table border=\"1\" class=\"dataframe\">\n",
       "  <thead>\n",
       "    <tr style=\"text-align: right;\">\n",
       "      <th></th>\n",
       "      <th>Label</th>\n",
       "      <th>Id</th>\n",
       "      <th>Geometry</th>\n",
       "      <th>X</th>\n",
       "      <th>Y</th>\n",
       "      <th>RefPipe</th>\n",
       "      <th>RefPipeId</th>\n",
       "      <th>Diameter</th>\n",
       "      <th>MinorLossCoeff</th>\n",
       "      <th>IsOperable</th>\n",
       "      <th>InitStatus</th>\n",
       "      <th>InstallYr</th>\n",
       "    </tr>\n",
       "  </thead>\n",
       "  <tbody>\n",
       "  </tbody>\n",
       "</table>\n",
       "</div>"
      ],
      "text/plain": [
       "Empty DataFrame\n",
       "Columns: [Label, Id, Geometry, X, Y, RefPipe, RefPipeId, Diameter, MinorLossCoeff, IsOperable, InitStatus, InstallYr]\n",
       "Index: []"
      ]
     },
     "execution_count": 41,
     "metadata": {},
     "output_type": "execute_result"
    }
   ],
   "source": [
    "ni.iso_valve_df.head()"
   ]
  },
  {
   "cell_type": "markdown",
   "metadata": {},
   "source": [
    "### Hydropneumatic Tanks (Hydro Tanks)"
   ]
  },
  {
   "cell_type": "code",
   "execution_count": 42,
   "metadata": {},
   "outputs": [
    {
     "data": {
      "text/markdown": [
       "## Hydro Tanks DataFrame (`ni.hydro_tank_df`)\n",
       "\n",
       "> ### **Summary Map**\n",
       ">\n",
       "> | IHydroTanksInput ||\n",
       "> |--|--|\n",
       "> | IBaseTanksInput ||\n",
       "> | | IDemandNodesInput |\n",
       "> | | See [Junctions / Hydrants] |\n"
      ],
      "text/plain": [
       "<IPython.core.display.Markdown object>"
      ]
     },
     "metadata": {},
     "output_type": "display_data"
    }
   ],
   "source": [
    "display(Markdown(\"notebook/md/networkInput/hydroTanks.md\"))"
   ]
  },
  {
   "cell_type": "code",
   "execution_count": 43,
   "metadata": {},
   "outputs": [
    {
     "data": {
      "text/html": [
       "<div>\n",
       "<style scoped>\n",
       "    .dataframe tbody tr th:only-of-type {\n",
       "        vertical-align: middle;\n",
       "    }\n",
       "\n",
       "    .dataframe tbody tr th {\n",
       "        vertical-align: top;\n",
       "    }\n",
       "\n",
       "    .dataframe thead th {\n",
       "        text-align: right;\n",
       "    }\n",
       "</style>\n",
       "<table border=\"1\" class=\"dataframe\">\n",
       "  <thead>\n",
       "    <tr style=\"text-align: right;\">\n",
       "      <th></th>\n",
       "      <th>Label</th>\n",
       "      <th>Id</th>\n",
       "      <th>Elevation</th>\n",
       "      <th>IsActive</th>\n",
       "      <th>Zone</th>\n",
       "      <th>ZoneId</th>\n",
       "      <th>ZoneLabel</th>\n",
       "      <th>InitAge</th>\n",
       "      <th>InitConc</th>\n",
       "      <th>InitTrace</th>\n",
       "      <th>...</th>\n",
       "      <th>HasBladder</th>\n",
       "      <th>GasPresetPressure</th>\n",
       "      <th>MeanLqdElev</th>\n",
       "      <th>AirInOrifDia</th>\n",
       "      <th>AirOutOrifDia</th>\n",
       "      <th>DippingTubeDia</th>\n",
       "      <th>CompChamberVol</th>\n",
       "      <th>TopElevDippingTube</th>\n",
       "      <th>LevelType</th>\n",
       "      <th>HydroTankType</th>\n",
       "    </tr>\n",
       "  </thead>\n",
       "  <tbody>\n",
       "  </tbody>\n",
       "</table>\n",
       "<p>0 rows × 27 columns</p>\n",
       "</div>"
      ],
      "text/plain": [
       "Empty DataFrame\n",
       "Columns: [Label, Id, Elevation, IsActive, Zone, ZoneId, ZoneLabel, InitAge, InitConc, InitTrace, Geometry, X, Y, InitGasVol, InletOrifDia, RatioOfLosses, GasLawExponent, HasBladder, GasPresetPressure, MeanLqdElev, AirInOrifDia, AirOutOrifDia, DippingTubeDia, CompChamberVol, TopElevDippingTube, LevelType, HydroTankType]\n",
       "Index: []\n",
       "\n",
       "[0 rows x 27 columns]"
      ]
     },
     "execution_count": 43,
     "metadata": {},
     "output_type": "execute_result"
    }
   ],
   "source": [
    "ni.hydro_tank_df.head()"
   ]
  },
  {
   "cell_type": "markdown",
   "metadata": {},
   "source": [
    "### Check Valves"
   ]
  },
  {
   "cell_type": "code",
   "execution_count": 44,
   "metadata": {},
   "outputs": [
    {
     "data": {
      "text/markdown": [
       "## CheckValve DataFrame (`ni.check_valve_df`)\n",
       "\n",
       "> ### **Summary Map**\n",
       ">\n",
       "> | ICheckValveElementInput | | | |\n",
       "> |--|--|--|--|\n",
       "> | IBaseDirectedNodesInput ||||\n",
       "> | | IPhysicalNodeElementsInput |||\n",
       "> | | | IPointNodesInput | |\n",
       "> | | | | IActiveElementsInput |\n",
       "> | | | | IElementsInput |\n",
       "> | | IWaterZoneableNetworkElementsInput |||\n",
       "> | | | IActiveElementsInput ||\n",
       "> | | IWaterQualityElementsInput |||\n"
      ],
      "text/plain": [
       "<IPython.core.display.Markdown object>"
      ]
     },
     "metadata": {},
     "output_type": "display_data"
    }
   ],
   "source": [
    "display(Markdown(\"notebook/md/networkInput/checkValves.md\"))"
   ]
  },
  {
   "cell_type": "code",
   "execution_count": 45,
   "metadata": {},
   "outputs": [
    {
     "data": {
      "text/html": [
       "<div>\n",
       "<style scoped>\n",
       "    .dataframe tbody tr th:only-of-type {\n",
       "        vertical-align: middle;\n",
       "    }\n",
       "\n",
       "    .dataframe tbody tr th {\n",
       "        vertical-align: top;\n",
       "    }\n",
       "\n",
       "    .dataframe thead th {\n",
       "        text-align: right;\n",
       "    }\n",
       "</style>\n",
       "<table border=\"1\" class=\"dataframe\">\n",
       "  <thead>\n",
       "    <tr style=\"text-align: right;\">\n",
       "      <th></th>\n",
       "      <th>Label</th>\n",
       "      <th>Id</th>\n",
       "      <th>Elevation</th>\n",
       "      <th>IsActive</th>\n",
       "      <th>Zone</th>\n",
       "      <th>ZoneId</th>\n",
       "      <th>ZoneLabel</th>\n",
       "      <th>InitAge</th>\n",
       "      <th>InitConc</th>\n",
       "      <th>InitTrace</th>\n",
       "      <th>Geometry</th>\n",
       "      <th>X</th>\n",
       "      <th>Y</th>\n",
       "      <th>InstallYr</th>\n",
       "      <th>AtY</th>\n",
       "      <th>FlowDirection</th>\n",
       "      <th>InitTypFlow</th>\n",
       "      <th>ThresPressure</th>\n",
       "    </tr>\n",
       "  </thead>\n",
       "  <tbody>\n",
       "  </tbody>\n",
       "</table>\n",
       "</div>"
      ],
      "text/plain": [
       "Empty DataFrame\n",
       "Columns: [Label, Id, Elevation, IsActive, Zone, ZoneId, ZoneLabel, InitAge, InitConc, InitTrace, Geometry, X, Y, InstallYr, AtY, FlowDirection, InitTypFlow, ThresPressure]\n",
       "Index: []"
      ]
     },
     "execution_count": 45,
     "metadata": {},
     "output_type": "execute_result"
    }
   ],
   "source": [
    "ni.check_valve_df.head()"
   ]
  },
  {
   "cell_type": "code",
   "execution_count": 46,
   "metadata": {},
   "outputs": [],
   "source": [
    "# setup.end()"
   ]
  }
 ],
 "metadata": {
  "interpreter": {
   "hash": "839055bb48d0c567cc06af8b98c8ed897e2d688046e9876be2d3ff3ae83815c2"
  },
  "kernelspec": {
   "display_name": "Python 3.9.2 64-bit",
   "name": "python3"
  },
  "language_info": {
   "codemirror_mode": {
    "name": "ipython",
    "version": 3
   },
   "file_extension": ".py",
   "mimetype": "text/x-python",
   "name": "python",
   "nbconvert_exporter": "python",
   "pygments_lexer": "ipython3",
   "version": "3.11.4"
  },
  "orig_nbformat": 4
 },
 "nbformat": 4,
 "nbformat_minor": 2
}
